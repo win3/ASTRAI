{
 "cells": [
  {
   "cell_type": "markdown",
   "metadata": {},
   "source": [
    "# <center>Lecture about Geopandas and Folium </center>\n",
    "# <center>Visualize OpenAQ Data </center>\n",
    "### <center>by Johannes Zipp </center>\n",
    " "
   ]
  },
  {
   "cell_type": "markdown",
   "metadata": {},
   "source": [
    "<img src=\"../image/Emission.jpeg\" width=60% align=\"right\" style=\"in-line\">\n",
    "\n",
    ">*Visualisation of Emission Data.*\n",
    ">\n",
    ">*\n",
    "Data extraction, processing, and visualization of traffic emissions practically promotes the analysis of real-world environmental issues and trains data-driven decision-making.\n",
    ">\n",
    ">— ChatGPT 4o\n",
    ">\n",
    "<img src=\"../image/Emissionsstatistik.jpeg\" width=70% align=\"middle\" style=\"in-line\">\n",
    "\n",
    ">\n",
    "Statistic from 3 different german cities based on their PM2,5 and PM10 Emissions created by ChatGPT 4o.\n",
    ">\n",
    ">Sources:\n",
    ">\n",
    ">https://www.umweltbundesamt.de/daten/luft/luftschadstoff-emissionen-in-deutschland/emission-vonfeinstaub-der-partikelgroesse-pm10\n",
    ">\n",
    ">https://www.destatis.de/DE/Themen/Gesellschaft-Umwelt/Umwelt/UGR/energiefluesse-emissionen/Tabellen/luftschadstoffe.html\n",
    ">"
   ]
  },
  {
   "cell_type": "markdown",
   "metadata": {},
   "source": [
    "## Learning goals\n",
    "\n",
    "1. Data Visualization: Students will learn how to create insightful visualizations of air quality data, focusing on spatial patterns using Python libraries like GeoPandas and Matplotlib.\n",
    "2. Geospatial Data Handling: Students will gain proficiency in processing and analyzing geospatial data, including filtering datasets within a bounding box and plotting data points on maps.\n",
    "3. Geographical Insights: Students will develop the ability to interpret air quality variations geographically and understand how to overlay data onto real-world map visualizations"
   ]
  },
  {
   "cell_type": "markdown",
   "metadata": {
    "ExecuteTime": {
     "end_time": "2022-04-01T08:33:09.252271Z",
     "start_time": "2022-04-01T08:33:09.160011Z"
    }
   },
   "source": [
    "## Agenda\n",
    "\n",
    "1. [Review: Web scraping](#1)\n",
    "2. [Review: Data wrangling](#2)\n",
    "3. [Geopandas](#3)\n",
    "4. [Folium](#3)"
   ]
  },
  {
   "cell_type": "markdown",
   "metadata": {},
   "source": [
    "## <font color=dodgerblue> Information\n",
    "\n",
    "**<font color=dodgerblue> What's OpenAQ?: </font>** OpenAQ is a global platform that aggregates and shares air quality data from government agencies, research institutions, and other sources. It provides access to real-time and historical air pollution measurements, fostering transparency and enabling analysis of air quality trends.\n",
    "\n",
    "**<font color=dodgerblue> Why do we need an API?: </font>**  Even though OpenAQ provides open data, an API is necessary for efficient and scalable access to that data. Open data means the information is freely available, but accessing and processing large volumes of it manually can be cumbersome and error-prone. The OpenAQ API enables users to programmatically query specific datasets.\n",
    "\n",
    "So please visit https://openaq.org and create an free account to get an own API"
   ]
  },
  {
   "cell_type": "markdown",
   "metadata": {},
   "source": [
    "<a name=\"1\"></a>\n",
    "## Step 1: Web scraping"
   ]
  },
  {
   "cell_type": "code",
   "execution_count": null,
   "metadata": {
    "ExecuteTime": {
     "end_time": "2024-11-05T15:35:42.385150Z",
     "start_time": "2024-11-05T15:35:41.845844Z"
    }
   },
   "outputs": [],
   "source": [
    "pip install folium # installation python package"
   ]
  },
  {
   "cell_type": "code",
   "execution_count": null,
   "metadata": {
    "ExecuteTime": {
     "end_time": "2024-11-05T15:35:42.385150Z",
     "start_time": "2024-11-05T15:35:41.845844Z"
    }
   },
   "outputs": [],
   "source": [
    "import requests\n",
    "from bs4 import BeautifulSoup\n",
    "import time\n",
    "import csv\n",
    "import pandas as pd\n",
    "import json\n",
    "#folium\n",
    "import folium\n",
    "from folium import plugins\n",
    "from folium import Popup\n",
    "from folium.plugins import HeatMap, MarkerCluster\n",
    "from IPython.display import display\n",
    "#Geopandas\n",
    "import geopandas as gpd\n",
    "from shapely.geometry import Point\n",
    "import matplotlib.pyplot as plt\n",
    "from shapely.geometry import box\n",
    "from scipy.spatial import distance_matrix\n",
    "#seaborn\n",
    "import seaborn as sns\n",
    "import matplotlib.pyplot as plt"
   ]
  },
  {
   "cell_type": "markdown",
   "metadata": {},
   "source": [
    "### Step 1.1: HTML Request"
   ]
  },
  {
   "cell_type": "code",
   "execution_count": null,
   "metadata": {
    "ExecuteTime": {
     "end_time": "2024-11-05T15:25:20.328556Z",
     "start_time": "2024-11-05T15:25:20.154515Z"
    },
    "scrolled": true
   },
   "outputs": [],
   "source": [
    "url = \"https://api.openaq.org/v2/measurements\" # API-Key for authorization\n",
    "headers = {\n",
    "    \"X-API-Key\": \"5ba843cc799e2acf35eb2407520ba3b699016a1cc0e465f1ccd8c9e4f34a0e0d\"  \n",
    "}\n",
    "response = requests.get(url, headers=headers) # get request for Data"
   ]
  },
  {
   "cell_type": "code",
   "execution_count": null,
   "metadata": {
    "ExecuteTime": {
     "end_time": "2024-11-05T15:25:21.602564Z",
     "start_time": "2024-11-05T15:25:21.585553Z"
    }
   },
   "outputs": [],
   "source": [
    "# check, whether request was succesuful\n",
    "if response.status_code == 200:\n",
    "    print(\"Succesful\")\n",
    "else:\n",
    "    print(\"Mistake: {response.status_code}, {response.text}\")"
   ]
  },
  {
   "cell_type": "markdown",
   "metadata": {},
   "source": [
    "\n",
    "### Step 1.2: Parse"
   ]
  },
  {
   "cell_type": "code",
   "execution_count": null,
   "metadata": {
    "ExecuteTime": {
     "end_time": "2024-11-05T15:25:34.618031Z",
     "start_time": "2024-11-05T15:25:34.578465Z"
    }
   },
   "outputs": [],
   "source": [
    "# Pars the JSON-Data\n",
    "data = response.json()\n",
    "soup = BeautifulSoup(json.dumps(data), \"html.parser\")"
   ]
  },
  {
   "cell_type": "code",
   "execution_count": null,
   "metadata": {
    "ExecuteTime": {
     "end_time": "2024-11-05T15:25:41.442184Z",
     "start_time": "2024-11-05T15:25:41.410567Z"
    }
   },
   "outputs": [],
   "source": [
    "# First Debugging: Data structure check\n",
    "print(soup.prettify()[:1000])  # First 1000 marks"
   ]
  },
  {
   "cell_type": "markdown",
   "metadata": {},
   "source": [
    "<a name=\"2\"></a>\n",
    "## Step 2: Define Parameters"
   ]
  },
  {
   "cell_type": "code",
   "execution_count": null,
   "metadata": {
    "ExecuteTime": {
     "end_time": "2024-11-05T15:26:27.263873Z",
     "start_time": "2024-11-05T15:26:27.253078Z"
    }
   },
   "outputs": [],
   "source": [
    "params = {\n",
    "    \"coordinates\": \"50.1109,8.6821\",           # Coordinate of Frankfurt  Rhein-Main-Gebiet\n",
    "    \"radius\": 25000,                           # Radius in Meter (25 km) \n",
    "    \"date_from\": \"2024-06-22T00:00:00+00:00\",  # Beginn des Tages 22.06.2024\n",
    "    \"date_to\": \"2024-06-22T23:59:59+00:00\",    # Ende des Tages 22.06.2024\n",
    "    \"parameter\": [\"pm25\", \"pm10\"],             # Only PM2.5 and PM10-Werte\n",
    "    \"limit\": 10000                             # maximal amount of letters\n",
    "}\n",
    "response = requests.get(url, headers=headers, params=params)\n",
    "print(response.json())  # Parameter Data Check"
   ]
  },
  {
   "cell_type": "code",
   "execution_count": null,
   "metadata": {
    "ExecuteTime": {
     "end_time": "2024-11-05T15:26:27.263873Z",
     "start_time": "2024-11-05T15:26:27.253078Z"
    }
   },
   "outputs": [],
   "source": [
    "data = response.json()  \n",
    "print(json.dumps(data, indent=2))  # Structure Check\n"
   ]
  },
  {
   "cell_type": "markdown",
   "metadata": {
    "ExecuteTime": {
     "end_time": "2024-11-05T15:35:42.385150Z",
     "start_time": "2024-11-05T15:35:41.845844Z"
    }
   },
   "source": [
    "\n",
    "## Step 3: Structure Data with Pandas"
   ]
  },
  {
   "cell_type": "code",
   "execution_count": null,
   "metadata": {},
   "outputs": [],
   "source": [
    "# Extraction of the 'results' Data\n",
    "records = data.get(\"results\", [])\n",
    "df = pd.DataFrame(records)  # Create a DataFrame \n",
    "\n",
    "# Show first Station measurements\n",
    "print(df.head())\n"
   ]
  },
  {
   "cell_type": "code",
   "execution_count": null,
   "metadata": {
    "ExecuteTime": {
     "end_time": "2024-11-05T15:35:42.385150Z",
     "start_time": "2024-11-05T15:35:41.845844Z"
    }
   },
   "outputs": [],
   "source": [
    "# cut columns \n",
    "df = df[['date', 'parameter', 'value', 'unit', 'location', 'coordinates']]\n",
    "\n",
    "# converte Data and remove Datetime\n",
    "df['date'] = pd.to_datetime(df['date'].apply(lambda x: x.get('utc') if isinstance(x, dict) else x)).dt.date\n",
    "\n",
    "# only interesstet in Coordinates: as a preparation for Geopandas\n",
    "df['latitude'] = df['coordinates'].apply(lambda x: x['latitude'])\n",
    "df['longitude'] = df['coordinates'].apply(lambda x: x['longitude'])\n",
    "df = df.drop(columns='coordinates')  # Entfernt die 'coordinates'-Spalte\n",
    "\n",
    "# Check\n",
    "print(df.head())\n"
   ]
  },
  {
   "cell_type": "markdown",
   "metadata": {
    "ExecuteTime": {
     "end_time": "2024-11-05T15:26:30.450793Z",
     "start_time": "2024-11-05T15:26:30.437713Z"
    }
   },
   "source": [
    "<a name=\"3\"></a>\n",
    "## Step 4: Geopandas "
   ]
  },
  {
   "cell_type": "markdown",
   "metadata": {
    "ExecuteTime": {
     "end_time": "2024-11-05T15:26:30.450793Z",
     "start_time": "2024-11-05T15:26:30.437713Z"
    }
   },
   "source": [
    "<img src=\"../image/geopandas.png\" width=40% align=\"right\" style=\"in-line\">\n",
    "\n",
    ">*What's Geopandas?*\n",
    ">\n",
    ">*\n",
    "GeoPandas is a library designed to make working with geospatial data easier. It extends the capabilities of pandas by adding support for spatial operations, enabling manipulation of geometries like points, lines, and polygons. GeoPandas allows users to perform complex geographic analyses and visualize geospatial data directly in Python.\n",
    "\n",
    "\n",
    ">\n",
    ">— ChatGPT 4o\n",
    "\n",
    ">\n",
    "Our Goals for this exercise:\n",
    ">\n",
    ">*\n",
    "Create Geom\n",
    ">\n",
    ">*\n",
    "Calculate Distances \n",
    ">\n",
    ">*\n",
    "First Visualisation \n",
    ">\n",
    ">*\n",
    "Create a Matrix based on dependencies\n",
    "\n"
   ]
  },
  {
   "cell_type": "code",
   "execution_count": null,
   "metadata": {
    "ExecuteTime": {
     "end_time": "2024-11-05T15:26:37.421207Z",
     "start_time": "2024-11-05T15:26:37.406472Z"
    }
   },
   "outputs": [],
   "source": [
    "# From the preperated GeoData we create a GeomFrame\n",
    "geometry = [Point(xy) for xy in zip(df['longitude'], df['latitude'])]\n",
    "geo_df = gpd.GeoDataFrame(df, geometry=geometry)\n",
    "\n",
    "# Check\n",
    "print(geo_df.head())\n"
   ]
  },
  {
   "cell_type": "code",
   "execution_count": null,
   "metadata": {
    "ExecuteTime": {
     "end_time": "2024-11-05T15:26:30.450793Z",
     "start_time": "2024-11-05T15:26:30.437713Z"
    }
   },
   "outputs": [],
   "source": [
    "geo_df.set_crs(epsg=4326, inplace=True) # Row and Column check"
   ]
  },
  {
   "cell_type": "code",
   "execution_count": null,
   "metadata": {
    "ExecuteTime": {
     "end_time": "2024-11-05T15:26:30.450793Z",
     "start_time": "2024-11-05T15:26:30.437713Z"
    }
   },
   "outputs": [],
   "source": [
    "# Mean-Value for every meaasurement location !not Geopandas specific but neccesary for next steps!\n",
    "average_by_location = geo_df.groupby([\"location\", \"parameter\"])[\"value\"].mean().unstack()\n",
    "print(\"Durchschnittswerte pro Standort:\")\n",
    "print(average_by_location)"
   ]
  },
  {
   "cell_type": "markdown",
   "metadata": {
    "ExecuteTime": {
     "end_time": "2024-11-05T15:26:30.450793Z",
     "start_time": "2024-11-05T15:26:30.437713Z"
    }
   },
   "source": [
    "### Step 4.1: Creating a Box and show Locations"
   ]
  },
  {
   "cell_type": "code",
   "execution_count": null,
   "metadata": {
    "ExecuteTime": {
     "end_time": "2024-10-05T10:07:13.004543Z",
     "start_time": "2024-10-05T10:07:12.993255Z"
    }
   },
   "outputs": [],
   "source": [
    "# center Frankfurt\n",
    "center_lat = 50.1109\n",
    "center_lon = 8.6821\n",
    "\n",
    "# center point\n",
    "center_point = Point(center_lon, center_lat)\n",
    "\n",
    "# Radius of circle\n",
    "radius_km = 25\n",
    "radius_deg = radius_km / 95  # 1 Grad Breitengrad entspricht ca. 111 km\n",
    "\n",
    "# Circle-Geom\n",
    "circle = center_point.buffer(radius_deg)\n",
    "\n",
    "# GeoDataFrame for circle\n",
    "gdf_circle = gpd.GeoDataFrame({\"geometry\": [circle]}, crs=\"EPSG:4326\")\n",
    "\n",
    "# Plot of circle\n",
    "ax=gdf_circle.plot(color=\"lightblue\", edgecolor=\"black\", figsize=(8, 8))\n",
    "\n",
    "# red point as center\n",
    "ax.scatter(center_lon, center_lat, color=\"red\", marker=\"o\", label=\"Center\", zorder=5)"
   ]
  },
  {
   "cell_type": "code",
   "execution_count": null,
   "metadata": {
    "ExecuteTime": {
     "end_time": "2024-10-05T10:07:13.004543Z",
     "start_time": "2024-10-05T10:07:12.993255Z"
    }
   },
   "outputs": [],
   "source": [
    "# GeoDataFrame for all points\n",
    "gdf_points = gpd.GeoDataFrame(\n",
    "    geo_df,\n",
    "    geometry=gpd.points_from_xy(geo_df[\"longitude\"], geo_df[\"latitude\"]),\n",
    "    crs=\"EPSG:4326\"\n",
    ")\n",
    "\n",
    "# filter points within the circle\n",
    "gdf_points_in_circle = gdf_points[gdf_points.geometry.within(circle)]\n",
    "\n",
    "\n",
    "# plot circle and points\n",
    "ax = gdf_circle.plot(color=\"lightblue\", edgecolor=\"black\", figsize=(8, 8))\n",
    "gdf_points.plot(ax=ax, color=\"red\", markersize=10, label=\"outside bbox\")\n",
    "gdf_points_in_circle.plot(ax=ax, color=\"green\", markersize=30, label=\"within bbox\")\n",
    "\n",
    "# Legend\n",
    "ax.legend()\n"
   ]
  },
  {
   "cell_type": "markdown",
   "metadata": {
    "ExecuteTime": {
     "end_time": "2024-11-05T15:26:30.450793Z",
     "start_time": "2024-11-05T15:26:30.437713Z"
    }
   },
   "source": [
    "### Step 4.2: First Visualisation of Measurements"
   ]
  },
  {
   "cell_type": "code",
   "execution_count": null,
   "metadata": {
    "ExecuteTime": {
     "end_time": "2024-11-05T15:26:30.450793Z",
     "start_time": "2024-11-05T15:26:30.437713Z"
    }
   },
   "outputs": [],
   "source": [
    "# ColourScale\n",
    "geo_df.plot(column='value', cmap='OrRd', legend=True, \n",
    "            legend_kwds={'label': \"Messwert (z.B., PM2.5-Konzentration)\", 'orientation': \"horizontal\"})\n",
    "\n",
    "# Map shows the maximum/minimum Latitude and Longitude\n",
    "plt.title(\"Konzentrationskarte des Schadstoffs\")\n",
    "plt.xlabel(\"Longitude\")\n",
    "plt.ylabel(\"Latitude\")\n",
    "plt.show()\n"
   ]
  },
  {
   "cell_type": "markdown",
   "metadata": {
    "ExecuteTime": {
     "end_time": "2024-11-05T15:26:30.450793Z",
     "start_time": "2024-11-05T15:26:30.437713Z"
    }
   },
   "source": [
    "### Step 4.3: Create a Matrix based on Distance"
   ]
  },
  {
   "cell_type": "code",
   "execution_count": null,
   "metadata": {
    "ExecuteTime": {
     "end_time": "2024-11-05T15:26:30.450793Z",
     "start_time": "2024-11-05T15:26:30.437713Z"
    },
    "scrolled": true
   },
   "outputs": [],
   "source": [
    "# Duplicated Geom reomove\n",
    "unique_coords = geo_df[['location', 'geometry']].drop_duplicates(subset='location').copy()\n",
    "\n",
    "# Check of coordinatesystem\n",
    "if unique_coords.crs is None:\n",
    "    unique_coords = unique_coords.set_crs(\"EPSG:4326\")\n",
    "else:\n",
    "    print(f\"CRS bereits gesetzt: {unique_coords.crs}\")\n",
    "\n",
    "# Converte CRS in a metrical coordinate system \n",
    "unique_coords = unique_coords.to_crs(\"EPSG:32633\")\n",
    "\n",
    "# Extraction of metrical coordinates\n",
    "unique_coords['x'] = unique_coords.geometry.x\n",
    "unique_coords['y'] = unique_coords.geometry.y\n",
    "\n",
    "# Calculates the Distance (in Km)\n",
    "dist_matrix = pd.DataFrame(\n",
    "    distance_matrix(unique_coords[['x', 'y']], unique_coords[['x', 'y']]),\n",
    "    index=unique_coords['location'],\n",
    "    columns=unique_coords['location']\n",
    ") / 1000  # Meter in Kilometer \n",
    "\n",
    "# Creates a Matrix\n",
    "print(\"Distanzmatrix zwischen einzigartigen Messstationen (in Kilometern):\")\n",
    "print(dist_matrix)\n",
    "\n",
    "# as Heatmap depending on Distance\n",
    "plt.figure(figsize=(10, 8))\n",
    "sns.heatmap(dist_matrix, cmap='YlGnBu', annot=True, fmt=\".2f\", linewidths=0.5)\n",
    "plt.title(\"Distanzmatrix zwischen einzigartigen Messstationen (in Kilometern)\")\n",
    "plt.show()\n"
   ]
  },
  {
   "cell_type": "markdown",
   "metadata": {},
   "source": [
    "<a name=\"4\"></a>\n",
    "## Step 5: Folium"
   ]
  },
  {
   "cell_type": "markdown",
   "metadata": {},
   "source": [
    "<img src=\"../image/Folium.png\" width=40% align=\"right\" style=\"in-line\">\n",
    "\n",
    ">*What's Folium?*\n",
    ">\n",
    ">*\n",
    "Folium is a library used for creating interactive maps. It generate maps that can display markers, polygons, and other geospatial data. Folium allows users to create rich, interactive visualizations that are easy to integrate into websites or Jupyter notebooks.\n",
    "\n",
    "\n",
    ">\n",
    ">— ChatGPT 4o\n",
    "\n",
    ">\n",
    "Our Goals for this exercise:\n",
    ">\n",
    ">*\n",
    "Visualize Data in Maps\n",
    ">\n",
    ">*\n",
    "Create a Clusters\n",
    ">\n",
    ">*\n",
    "Create colour gradients to show differences\n",
    ">\n",
    ">*\n",
    "Create a Game based on our Data\n"
   ]
  },
  {
   "cell_type": "code",
   "execution_count": null,
   "metadata": {
    "ExecuteTime": {
     "end_time": "2024-10-05T10:07:13.004543Z",
     "start_time": "2024-10-05T10:07:12.993255Z"
    }
   },
   "outputs": [],
   "source": [
    "# Center Map on Frankfurt\n",
    "map_frankfurt = folium.Map(location=[50.1109,8.6821], zoom_start=12)\n",
    "\n",
    "# Circle around Frankfurt\n",
    "folium.Circle(\n",
    "    location=[50.1109,8.6821],  # Zentrum von Darmstadt\n",
    "    radius=25000,  # Radius in Metern (10 km)\n",
    "    color=\"blue\",\n",
    "    fill=True,\n",
    "    fill_color=\"lightblue\",\n",
    "    fill_opacity=0.4\n",
    ").add_to(map_frankfurt)\n",
    "\n",
    "# Punkte zur Karte hinzufügen\n",
    "for _, row in gdf_points.iterrows():\n",
    "    folium.Marker(\n",
    "        location=[row[\"latitude\"], row[\"longitude\"]],\n",
    "        icon=folium.Icon(color=\"red\", icon=\"info-sign\")\n",
    "    ).add_to(map_frankfurt)\n",
    "\n",
    "# Karte anzeigen\n",
    "map_frankfurt"
   ]
  },
  {
   "cell_type": "markdown",
   "metadata": {},
   "source": [
    "### Step 5.1: Create a Map and add Data "
   ]
  },
  {
   "cell_type": "code",
   "execution_count": null,
   "metadata": {
    "ExecuteTime": {
     "end_time": "2024-10-02T14:55:58.171041Z",
     "start_time": "2024-10-02T14:55:58.157145Z"
    },
    "scrolled": true
   },
   "outputs": [],
   "source": [
    "#Create a map with Frankfurt as center \n",
    "m = folium.Map(location=[50.1109, 8.6821], zoom_start=10)\n",
    "\n",
    "# add measurement Data to the location\n",
    "def add_marker(row):\n",
    "    folium.CircleMarker(\n",
    "        location=[row['latitude'], row['longitude']],\n",
    "        radius=5,\n",
    "        color='blue' if row['parameter'] == 'pm25'else 'red',\n",
    "        fill=True,\n",
    "        fill_opacity=0.6,\n",
    "        popup=f\"{row['parameter']}: {row['value']} {row['unit']}\"\n",
    "    ).add_to(m)\n",
    "\n",
    "geo_df.apply(add_marker, axis=1)\n",
    "\n",
    "# show card\n",
    "m.save(\"Frankfurt_Luftqualitaet.html\")  # save map as HTML\n",
    "m\n"
   ]
  },
  {
   "cell_type": "markdown",
   "metadata": {},
   "source": [
    "### Step 5.2: Scale Values with colours and create a Legend"
   ]
  },
  {
   "cell_type": "code",
   "execution_count": null,
   "metadata": {
    "scrolled": true
   },
   "outputs": [],
   "source": [
    "# Mittelwerte zurück in ein geeignetes Format bringen\n",
    "average_df = geo_df.groupby([\"location\", \"parameter\", \"latitude\", \"longitude\"], as_index=False)[\"value\"].mean()\n",
    "\n",
    "# Colour Scale for PM2.5 ans PM10 Data based on intensity\n",
    "def get_color(value, parameter):\n",
    "    if parameter == \"pm25\":        # based on their governmental thresholds per day pm\n",
    "        if value < 10:\n",
    "            return \"green\"\n",
    "        elif value < 25:\n",
    "            return \"yellow\"\n",
    "        elif value < 50:\n",
    "            return \"orange\"\n",
    "        else:\n",
    "            return \"red\"\n",
    "    elif parameter == \"pm10\":\n",
    "        if value < 20:\n",
    "            return \"green\"\n",
    "        elif value < 40:\n",
    "            return \"yellow\"\n",
    "        elif value < 75:\n",
    "            return \"orange\"\n",
    "        else:\n",
    "            return \"red\"\n",
    "\n",
    "# create a new map for visualisation\n",
    "m = folium.Map(location=[50.1109, 8.6821], zoom_start=10)\n",
    "\n",
    "# add Measurement Data based on Scale\n",
    "for _, row in average_df.iterrows():\n",
    "    folium.CircleMarker(\n",
    "        location=[row[\"latitude\"], row[\"longitude\"]],\n",
    "        radius=7,\n",
    "        color=get_color(row[\"value\"], row[\"parameter\"]),\n",
    "        fill=True,\n",
    "        fill_opacity=0.6,\n",
    "        popup=(\n",
    "            f\"Ort: {row['location']}<br>\"\n",
    "            f\"{row['parameter']}: {row['value']:.2f} µg/m³<br>\"  # Mittelwert\n",
    "        ),\n",
    "    ).add_to(m)\n",
    "\n",
    "# add a Legend\n",
    "legend_html = \"\"\"\n",
    "<div style=\"position: fixed; \n",
    "            bottom: 350px; left: 50px; width: 200px; height: 175px; \n",
    "            background-color: white; border:2px solid grey; z-index:9999; font-size:14px;\n",
    "            \">\n",
    "    <h4 style=\"margin:10px\">PM Werte (µg/m³)</h4>\n",
    "    <div style=\"background-color:green; height:15px; width:30px; display:inline-block; margin:5px\"></div><span> Gering</span><br>\n",
    "    <div style=\"background-color:yellow; height:15px; width:30px; display:inline-block; margin:5px\"></div><span> Mäßig</span><br>\n",
    "    <div style=\"background-color:orange; height:15px; width:30px; display:inline-block; margin:5px\"></div><span> Hoch</span><br>\n",
    "    <div style=\"background-color:red; height:15px; width:30px; display:inline-block; margin:5px\"></div><span> Sehr hoch</span>\n",
    "</div>\n",
    "\"\"\"\n",
    "\n",
    "m.get_root().html.add_child(folium.Element(legend_html))\n",
    "\n",
    "# show map\n",
    "m.save(\"Frankfurt_Luftqualitaet_mit_Farbskala_Mittelwert.html\")\n",
    "m"
   ]
  },
  {
   "cell_type": "markdown",
   "metadata": {
    "ExecuteTime": {
     "end_time": "2024-11-05T15:26:30.450793Z",
     "start_time": "2024-11-05T15:26:30.437713Z"
    }
   },
   "source": [
    "### Step 5.3: Cluster Data  "
   ]
  },
  {
   "cell_type": "code",
   "execution_count": null,
   "metadata": {},
   "outputs": [],
   "source": [
    "# Create a card\n",
    "m = folium.Map(location=[50.1109, 8.6821], zoom_start=10)\n",
    "\n",
    "# Cluster Group\n",
    "marker_cluster = MarkerCluster().add_to(m)\n",
    "\n",
    "# point with Colour coding and Popup for every station \n",
    "for _, row in geo_df.iterrows():\n",
    "    folium.CircleMarker(\n",
    "        location=[row[\"latitude\"], row[\"longitude\"]],\n",
    "        radius=7,\n",
    "        color=get_color(row[\"value\"], row[\"parameter\"]),\n",
    "        fill=True,\n",
    "        fill_opacity=0.7,\n",
    "        popup=(\n",
    "            f\"<b>Ort:</b> {row['location']}<br>\"\n",
    "            f\"<b>{row['parameter']}:</b> {row['value']} {row['unit']}<br>\"\n",
    "            f\"<b>Datum:</b> {row['date'].strftime('%Y-%m-%d')}\"\n",
    "        ),\n",
    "    ).add_to(marker_cluster)\n",
    "\n",
    "# Heatmap-Data preparation\n",
    "heatmap_data = [[row[\"latitude\"], row[\"longitude\"], row[\"value\"]] for _, row in geo_df.iterrows()]\n",
    "\n",
    "# add Heatmap with adjusted `max_val` and `gradient`\n",
    "HeatMap(\n",
    "    data=heatmap_data,\n",
    "    radius=25,\n",
    "    blur=15,\n",
    "    max_opacity=0.8,\n",
    "    gradient={0.5: 'green', 0.7: 'yellow', 0.9: 'orange', 1.1: 'red'},\n",
    ").add_to(m)\n",
    "\n",
    "# Legend\n",
    "legend_html = \"\"\"\n",
    "<div style=\"position: fixed; \n",
    "            bottom: 50px; left: 50px; width: 250px; height: 140px; \n",
    "            background-color: white; border:2px solid grey; z-index:9999; font-size:14px;\n",
    "            padding: 10px;\">\n",
    "    <h4>PM Werte (µg/m³)</h4>\n",
    "    <div style=\"background-color:green; height:15px; width:30px; display:inline-block; margin-right:10px;\"></div> Geringe Belastung<br>\n",
    "    <div style=\"background-color:yellow; height:15px; width:30px; display:inline-block; margin-right:10px;\"></div> Moderate Belastung<br>\n",
    "    <div style=\"background-color:orange; height:15px; width:30px; display:inline-block; margin-right:10px;\"></div> Hohe Belastung<br>\n",
    "    <div style=\"background-color:red; height:15px; width:30px; display:inline-block; margin-right:10px;\"></div> Sehr hohe Belastung<br>\n",
    "</div>\n",
    "\"\"\"\n",
    "m.get_root().html.add_child(folium.Element(legend_html))\n",
    "\n",
    "# show card\n",
    "m.save(\"Frankfurt_PM_Cluster_Heatmap.html\")\n",
    "m"
   ]
  },
  {
   "cell_type": "markdown",
   "metadata": {},
   "source": [
    "### Step 5.4 **<font color=cornflowerblue>Exercise: </font>** Play a game"
   ]
  },
  {
   "cell_type": "code",
   "execution_count": null,
   "metadata": {},
   "outputs": [],
   "source": [
    "\n",
    "# Punktzahlberechnung basierend auf Luftqualitätswert\n",
    "def calculate_points(value, parameter):\n",
    "    if parameter == \"pm25\":\n",
    "        if value < 10:\n",
    "            return 10  # Grün\n",
    "        elif value < 25:\n",
    "            return 5   # Gelb\n",
    "        elif value < 50:\n",
    "            return -5  # Orange\n",
    "        else:\n",
    "            return -10  # Rot\n",
    "    elif parameter == \"pm10\":\n",
    "        if value < 20:\n",
    "            return 10\n",
    "        elif value < 40:\n",
    "            return 5\n",
    "        elif value < 75:\n",
    "            return -5\n",
    "        else:\n",
    "            return -10\n",
    "\n",
    "# Spieler mit Startpunktzahl 0\n",
    "players = {\n",
    "    'Player1': 0\n",
    "}\n",
    "\n",
    "# Orte mit geographischen Daten (reale Orte)\n",
    "locations = [\n",
    "    # Deutschland\n",
    "    {\"location\": \"Berlin\", \"latitude\": 52.5200, \"longitude\": 13.4050, \"parameter\": \"pm25\", \"value\": 15, \"unit\": \"µg/m³\"},\n",
    "    {\"location\": \"Hamburg\", \"latitude\": 53.5511, \"longitude\": 9.9937, \"parameter\": \"pm10\", \"value\": 22, \"unit\": \"µg/m³\"},\n",
    "    {\"location\": \"München\", \"latitude\": 48.1351, \"longitude\": 11.5820, \"parameter\": \"pm25\", \"value\": 30, \"unit\": \"µg/m³\"},\n",
    "    {\"location\": \"Köln\", \"latitude\": 50.9375, \"longitude\": 6.9603, \"parameter\": \"pm10\", \"value\": 18, \"unit\": \"µg/m³\"},\n",
    "    {\"location\": \"Frankfurt\", \"latitude\": 50.1109, \"longitude\": 8.6821, \"parameter\": \"pm25\", \"value\": 3.5, \"unit\": \"µg/m³\"},\n",
    "    # International\n",
    "    {\"location\": \"Paris\", \"latitude\": 48.8566, \"longitude\": 2.3522, \"parameter\": \"pm25\", \"value\": 12, \"unit\": \"µg/m³\"},\n",
    "    {\"location\": \"London\", \"latitude\": 51.5074, \"longitude\": -0.1278, \"parameter\": \"pm10\", \"value\": 35, \"unit\": \"µg/m³\"},\n",
    "    {\"location\": \"New York\", \"latitude\": 40.7128, \"longitude\": -74.0060, \"parameter\": \"pm25\", \"value\": 45, \"unit\": \"µg/m³\"},\n",
    "    {\"location\": \"Tokyo\", \"latitude\": 35.6895, \"longitude\": 139.6917, \"parameter\": \"pm10\", \"value\": 50, \"unit\": \"µg/m³\"},\n",
    "    {\"location\": \"Sydney\", \"latitude\": -33.8688, \"longitude\": 151.2093, \"parameter\": \"pm25\", \"value\": 7, \"unit\": \"µg/m³\"}\n",
    "]\n",
    "\n",
    "# Initialisierung der Karte\n",
    "m = folium.Map(location=[50.1109, 8.6821], zoom_start=3)\n",
    "marker_cluster = MarkerCluster().add_to(m)\n",
    "\n",
    "# Spieleraktionen\n",
    "max_attempts = 5\n",
    "current_attempts = 0\n",
    "ranking_visible = True\n",
    "\n",
    "# Funktion zur Auswahl eines Ortes\n",
    "def select_location(location):\n",
    "    global current_attempts, ranking_visible\n",
    "    if current_attempts < max_attempts:\n",
    "        points = calculate_points(location[\"value\"], location[\"parameter\"])\n",
    "        players[\"Player1\"] += points\n",
    "        current_attempts += 1\n",
    "        if current_attempts == max_attempts:\n",
    "            ranking_visible = True\n",
    "        return f\"Du hast {points} Punkte erhalten. Gesamtpunktzahl: {players['Player1']}\"\n",
    "    else:\n",
    "        return \"Du hast die maximale Anzahl an Versuchen erreicht!\"\n",
    "\n",
    "# Marker für Orte\n",
    "for location in locations:\n",
    "    popup_html = f\"\"\"\n",
    "    <div>\n",
    "        <strong>Ort:</strong> {location['location']}<br>\n",
    "        <strong>{location['parameter']}:</strong> {location['value']} {location['unit']}<br>\n",
    "        <button onclick=\"alert('{select_location(location)}')\">Wähle diesen Ort</button>\n",
    "    </div>\n",
    "    \"\"\"\n",
    "    popup = Popup(popup_html, max_width=300)\n",
    "    \n",
    "    # Schwarze Marker für die Orte\n",
    "    folium.CircleMarker(\n",
    "        location=[location[\"latitude\"], location[\"longitude\"]],\n",
    "        radius=10,\n",
    "        color=\"black\",\n",
    "        fill=True,\n",
    "        fill_opacity=0.7,\n",
    "        popup=popup,\n",
    "    ).add_to(marker_cluster)\n",
    "\n",
    "# Farbliche Legende für die Punktzahlen\n",
    "legend_html = \"\"\"\n",
    "<div style=\"position: fixed; bottom: 50px; right: 50px; width: 300px; height: 200px; background-color: white; border:2px solid grey; z-index:9999; font-size:14px; padding:10px;\">\n",
    "    <h4>Punktzahl Legende</h4>\n",
    "    <ul style=\"list-style-type:none; padding:0; margin:0;\">\n",
    "        <li><span style=\"display:inline-block; width:20px; height:20px; background-color:green; margin-right:10px;\"></span>10 Punkte</li>\n",
    "        <li><span style=\"display:inline-block; width:20px; height:20px; background-color:yellow; margin-right:10px;\"></span>5 Punkte</li>\n",
    "        <li><span style=\"display:inline-block; width:20px; height:20px; background-color:orange; margin-right:10px;\"></span>-5 Punkte</li>\n",
    "        <li><span style=\"display:inline-block; width:20px; height:20px; background-color:red; margin-right:10px;\"></span>-10 Punkte</li>\n",
    "    </ul>\n",
    "</div>\n",
    "\"\"\"\n",
    "m.get_root().html.add_child(folium.Element(legend_html))\n",
    "\n",
    "# Rangliste aktualisieren\n",
    "def update_ranking():\n",
    "    if ranking_visible:\n",
    "        sorted_players = sorted(players.items(), key=lambda x: x[1], reverse=True)\n",
    "        rank_list_html = \"\"\"\n",
    "        <div style=\"position: fixed; bottom: 120px; left: 50px; width: 250px; height: 200px; background-color: white; border:2px solid grey; z-index:9999; font-size:14px;\">\n",
    "            <h4>Rangliste</h4>\n",
    "        \"\"\"\n",
    "        \n",
    "        for idx, (player, score) in enumerate(sorted_players, 1):\n",
    "            rank_list_html += f\"<p>{idx}. {player}: {score} Punkte</p>\"\n",
    "        \n",
    "        rank_list_html += \"</div>\"\n",
    "        return rank_list_html\n",
    "    else:\n",
    "        return \"\"\"\n",
    "        <div style=\"position: fixed; bottom: 120px; left: 50px; width: 250px; height: 50px; background-color: white; border:2px solid grey; z-index:9999; font-size:14px;\">\n",
    "            <p>Rangliste wird nach den 5 Versuchen angezeigt.</p>\n",
    "        </div>\n",
    "        \"\"\"\n",
    "\n",
    "m.get_root().html.add_child(folium.Element(update_ranking()))\n",
    "\n",
    "# Karte speichern\n",
    "m.save(\"Luftqualitaet_Spiel_mit_Scoreboard_und_Legende.html\")\n",
    "m\n"
   ]
  },
  {
   "cell_type": "markdown",
   "metadata": {},
   "source": [
    "&#x2753;**<font color=cornflowerblue>QUESTION: </font>** Can you do it better? Try to fix the mistakes!"
   ]
  },
  {
   "cell_type": "code",
   "execution_count": null,
   "metadata": {
    "ExecuteTime": {
     "end_time": "2024-10-05T10:07:13.004543Z",
     "start_time": "2024-10-05T10:07:12.993255Z"
    }
   },
   "outputs": [],
   "source": [
    "# put your code here\n",
    "\n",
    "\n",
    "\n",
    "\n",
    "\n",
    "\n",
    "\n",
    "\n",
    "\n",
    "\n",
    "\n"
   ]
  },
  {
   "cell_type": "markdown",
   "metadata": {},
   "source": [
    "---------\n",
    "# Thanks for listening!\n",
    "\n",
    "This notebook is written by [Johannes Zipp]"
   ]
  }
 ],
 "metadata": {
  "kernelspec": {
   "display_name": "Python 3 (ipykernel)",
   "language": "python",
   "name": "python3"
  },
  "language_info": {
   "codemirror_mode": {
    "name": "ipython",
    "version": 3
   },
   "file_extension": ".py",
   "mimetype": "text/x-python",
   "name": "python",
   "nbconvert_exporter": "python",
   "pygments_lexer": "ipython3",
   "version": "3.11.9"
  },
  "toc": {
   "base_numbering": 1,
   "nav_menu": {},
   "number_sections": false,
   "sideBar": true,
   "skip_h1_title": false,
   "title_cell": "Table of Contents",
   "title_sidebar": "Contents",
   "toc_cell": false,
   "toc_position": {},
   "toc_section_display": true,
   "toc_window_display": false
  },
  "varInspector": {
   "cols": {
    "lenName": 16,
    "lenType": 16,
    "lenVar": 40
   },
   "kernels_config": {
    "python": {
     "delete_cmd_postfix": "",
     "delete_cmd_prefix": "del ",
     "library": "var_list.py",
     "varRefreshCmd": "print(var_dic_list())"
    },
    "r": {
     "delete_cmd_postfix": ") ",
     "delete_cmd_prefix": "rm(",
     "library": "var_list.r",
     "varRefreshCmd": "cat(var_dic_list()) "
    }
   },
   "types_to_exclude": [
    "module",
    "function",
    "builtin_function_or_method",
    "instance",
    "_Feature"
   ],
   "window_display": false
  }
 },
 "nbformat": 4,
 "nbformat_minor": 4
}
