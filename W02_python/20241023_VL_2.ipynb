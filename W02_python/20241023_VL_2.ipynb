{
 "cells": [
  {
   "cell_type": "code",
   "execution_count": 1,
   "id": "fff1187d-e08d-47ef-84b6-b7c8edeadb96",
   "metadata": {},
   "outputs": [
    {
     "name": "stdout",
     "output_type": "stream",
     "text": [
      "Hello, World!\n",
      "Hello, World!\n"
     ]
    }
   ],
   "source": [
    "# Print the statement\n",
    "print(\"Hello, World!\")\n",
    "\n",
    "# Print the variable\n",
    "variable1 = \"Hello, World!\"\n",
    "print(variable1)"
   ]
  },
  {
   "cell_type": "code",
   "execution_count": 2,
   "id": "2cd8eb16-ab37-499c-bdc3-ad31672f852e",
   "metadata": {},
   "outputs": [
    {
     "name": "stdout",
     "output_type": "stream",
     "text": [
      "You are an adult.\n"
     ]
    }
   ],
   "source": [
    "# Test if statement\n",
    "\n",
    "age = 20\n",
    "\n",
    "if age >= 18:\n",
    "    print(\"You are an adult.\")\n",
    "else:\n",
    "    print(\"Your are not an adult.\")"
   ]
  },
  {
   "cell_type": "code",
   "execution_count": 3,
   "id": "182c30c1-f130-4207-a99a-ce19254b18e9",
   "metadata": {},
   "outputs": [
    {
     "name": "stdout",
     "output_type": "stream",
     "text": [
      "0\n",
      "1\n",
      "2\n",
      "3\n",
      "4\n",
      "5\n",
      "6\n",
      "7\n",
      "8\n",
      "9\n",
      "10\n"
     ]
    }
   ],
   "source": [
    "# Test For Loop\n",
    "\n",
    "list = [0, 1, 2, 3, 4, 5, 6, 7, 8, 9, 10]\n",
    "\n",
    "for i in list:\n",
    "    print(i)"
   ]
  },
  {
   "cell_type": "code",
   "execution_count": 15,
   "id": "db0dcdd7-3439-4fcd-9e7a-b25b78593e99",
   "metadata": {},
   "outputs": [
    {
     "name": "stdout",
     "output_type": "stream",
     "text": [
      "10\n",
      "9\n",
      "8\n",
      "7\n",
      "6\n",
      "5\n",
      "4\n",
      "3\n",
      "2\n",
      "1\n",
      "0\n"
     ]
    }
   ],
   "source": [
    "# Test While\n",
    "\n",
    "counter = len(list) - 1\n",
    "\n",
    "while counter >= 0:\n",
    "    print(counter)\n",
    "    counter = counter - 1    "
   ]
  },
  {
   "cell_type": "code",
   "execution_count": 31,
   "id": "8b128364-e2be-46ce-a699-c50acdbaa255",
   "metadata": {},
   "outputs": [
    {
     "name": "stdout",
     "output_type": "stream",
     "text": [
      "Your are not an adult.\n",
      "You are an adult.\n"
     ]
    }
   ],
   "source": [
    "# Test Function\n",
    "\n",
    "def check_age(age):\n",
    "    if age >= 18:\n",
    "        return print(\"You are an adult.\")\n",
    "    else:\n",
    "        return print(\"Your are not an adult.\")\n",
    "\n",
    "# Funktion aufrufen\n",
    "check_age(14)\n",
    "check_age(19)"
   ]
  }
 ],
 "metadata": {
  "kernelspec": {
   "display_name": "Python 3 (ipykernel)",
   "language": "python",
   "name": "python3"
  },
  "language_info": {
   "codemirror_mode": {
    "name": "ipython",
    "version": 3
   },
   "file_extension": ".py",
   "mimetype": "text/x-python",
   "name": "python",
   "nbconvert_exporter": "python",
   "pygments_lexer": "ipython3",
   "version": "3.12.4"
  }
 },
 "nbformat": 4,
 "nbformat_minor": 5
}
