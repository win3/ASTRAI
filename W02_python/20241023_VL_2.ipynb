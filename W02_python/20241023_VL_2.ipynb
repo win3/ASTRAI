{
 "cells": [
  {
   "cell_type": "code",
   "execution_count": 1,
   "id": "fff1187d-e08d-47ef-84b6-b7c8edeadb96",
   "metadata": {},
   "outputs": [
    {
     "name": "stdout",
     "output_type": "stream",
     "text": [
      "Hello, World!\n",
      "Hello, World!\n"
     ]
    }
   ],
   "source": [
    "# Print the statement\n",
    "print(\"Hello, World!\")\n",
    "\n",
    "# Print the variable\n",
    "variable1 = \"Hello, World!\"\n",
    "print(variable1)"
   ]
  },
  {
   "cell_type": "code",
   "execution_count": 2,
   "id": "2cd8eb16-ab37-499c-bdc3-ad31672f852e",
   "metadata": {},
   "outputs": [
    {
     "name": "stdout",
     "output_type": "stream",
     "text": [
      "You are an adult.\n"
     ]
    }
   ],
   "source": [
    "age = 20\n",
    "\n",
    "if age >= 18:\n",
    "    print(\"You are an adult.\")\n",
    "else:\n",
    "    print(\"Your are not an adult.\")"
   ]
  }
 ],
 "metadata": {
  "kernelspec": {
   "display_name": "Python 3 (ipykernel)",
   "language": "python",
   "name": "python3"
  },
  "language_info": {
   "codemirror_mode": {
    "name": "ipython",
    "version": 3
   },
   "file_extension": ".py",
   "mimetype": "text/x-python",
   "name": "python",
   "nbconvert_exporter": "python",
   "pygments_lexer": "ipython3",
   "version": "3.12.4"
  }
 },
 "nbformat": 4,
 "nbformat_minor": 5
}
