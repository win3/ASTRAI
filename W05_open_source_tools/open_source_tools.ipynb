{
 "cells": [
  {
   "cell_type": "markdown",
   "metadata": {},
   "source": [
    "# <center>Open Source Tools</center>"
   ]
  },
  {
   "cell_type": "markdown",
   "metadata": {},
   "source": [
    "<img src=\"../image/tools_DALLE.jpeg\" width=30% align=\"right\" style=\"in-line\">\n",
    "\n",
    ">*Why reinvent the wheel when you can copy-paste someone else's,*\n",
    ">\n",
    ">*then spend hours figuring out why it doesn't work?*\n",
    ">\n",
    ">— ChatGPT 4o\n",
    "\n",
    "<img src=\"../image/quote3_ChatGPT.png\" width=60% align=\"left\" style=\"in-line\">"
   ]
  },
  {
   "cell_type": "markdown",
   "metadata": {},
   "source": [
    "## Learning goals\n",
    "\n",
    "1. Understand the role of open-source licenses.\n",
    "2. Know where and how to find open-source packages for your projects.\n",
    "3. Know how to quickly judge the quality and relevance of packages."
   ]
  },
  {
   "cell_type": "markdown",
   "metadata": {
    "ExecuteTime": {
     "end_time": "2022-04-01T08:33:09.252271Z",
     "start_time": "2022-04-01T08:33:09.160011Z"
    }
   },
   "source": [
    "## Agenda\n",
    "\n",
    "1. [Open-source licenses](#1)\n",
    "2. [Finding and testing open-source tools](#2)\n",
    "3. [Signing up for YOU-lead](#3)"
   ]
  },
  {
   "cell_type": "markdown",
   "metadata": {},
   "source": [
    "<a name=\"1\"></a>\n",
    "## Agenda 1. Open-source licenses"
   ]
  },
  {
   "cell_type": "markdown",
   "metadata": {},
   "source": [
    "An open source license is a legal agreement that outlines how software can be used, shared, and modified. Think of it as a set of rules provided by the software's creator that you agree to follow when you use their software.\n",
    "\n",
    "Open-source licenses are important because they:\n",
    "\n",
    "- **Protect the creators**: They ensure that the people who originally made the software get credit for their work.\n",
    "- **Clarify users' rights**: They let the users know exactly what they are allowed to do with the software.\n",
    "- **Encourage collaboration**: They make it easier for people to work together and build upon each other's work legally."
   ]
  },
  {
   "cell_type": "markdown",
   "metadata": {},
   "source": [
    "### Types of open-source licenses\n",
    "\n",
    "- **Permissive Licenses**:\n",
    "    - **MIT License**: Minimal restrictions on how the software can be used, allowing users to freely use, modify, and distribute the software.\n",
    "    - **Apache License**: Similar to the MIT License but includes explicit patent rights.\n",
    "    - **BSD License**: Similar to the MIT License. Minimal restrictions on redistribution. \n",
    "- **Copyleft Licenses**:\n",
    "    - **GNU General Public License (GPL)**: Requires any modified versions of the software to be distributed under the same license terms.\n",
    "    \n",
    "Here is a great article explaining the most common licenses: [Top Open Source Licenses Explained](https://www.mend.io/blog/top-open-source-licenses-explained/)."
   ]
  },
  {
   "cell_type": "markdown",
   "metadata": {},
   "source": [
    "<img src=\"../image/license_example.jpg\" width=100% align=\"center\" style=\"in-line\">\n",
    "\n",
    "Source: https://github.com/pandas-dev/pandas"
   ]
  },
  {
   "cell_type": "markdown",
   "metadata": {},
   "source": [
    "### What open source licenses mean for us\n",
    "\n",
    "- **Use software freely**: Nearly all open source software is free software (There are exceptions. You can read more [here](https://www.gnu.org/philosophy/open-source-misses-the-point.en.html).)\n",
    "- **Modify software to fit our needs**: Depending on the license, we may be able to adapt the software to better suit a specific research need.\n",
    "- **Share our work legally**: If a research project involves distributing software or code, open source licenses provide a legal framework to do so.\n",
    "\n",
    "&#x1F4A1; If you ever need to **license your work**, click [here](https://choosealicense.com) for help choosing a license."
   ]
  },
  {
   "cell_type": "markdown",
   "metadata": {},
   "source": [
    "<a name=\"2\"></a>\n",
    "## Agenda 2. Finding and testing open-source tools"
   ]
  },
  {
   "cell_type": "markdown",
   "metadata": {},
   "source": [
    "I recommend two places for searching for open-source tools: GitHub and JOSS. \n",
    "\n",
    "**GitHub** is the largest source code host in the world (source: [Wikipedia](https://en.wikipedia.org/wiki/GitHub)). You can use the [search bar](https://github.com/search) &#x1F50D; with keywords or explore [trending repositories](https://github.com/trending).\n",
    "\n",
    "**JOSS** is the short name for the [Journal of Open Source Software](https://joss.theoj.org). It is a open access journal for ***research*** software packages. The tools published in JOSS are peer-reviewed, which means they have been  rigorously evaluated. They usually meets standards of scientific quality, usability, and proper documentation. Most JOSS packages are hosted on GitHub."
   ]
  },
  {
   "cell_type": "markdown",
   "metadata": {},
   "source": [
    "### How to quickly judge the quality and relevance of packages"
   ]
  },
  {
   "cell_type": "markdown",
   "metadata": {},
   "source": [
    "When assessing the quality and relevance of a tool hosted on GitHub, consider these key criteria:\n",
    "\n",
    "1. **Stars and forks**: Indicators of popularity\n",
    "\n",
    "- The number of stars reflects how many users have saved the repository as a favorite.\n",
    "\n",
    "- The number of forks shows how many users have created their own copy of the repository, often to contribute or modify the code. A high number of forks may indicate a collaborative and evolving project with active contributors.\n",
    "\n",
    "2. **Last commit date**: Recency of updates\n",
    "\n",
    "- A recent commit date often signifies that the project is being actively developed or maintained.\n",
    "\n",
    "3. **Issues and pull requests**: Active maintenance\n",
    "\n",
    "- The ratio of open to closed issues can show how actively the maintainers resolve problems. A large number of unresolved issues might signal a lack of maintenance. \n",
    "- Frequent and recent pull requests indicate active contributions and community engagement. \n",
    "- Look at the types of open issues (e.g., bugs, enhancements). Too many critical or unresolved bugs might be a red flag, while enhancement-focused issues can indicate active feature development.\n",
    "\n",
    "4. **`README`**: Quality of documentation\n",
    "\n",
    "- A good `README` provides a clear overview of the package, including its purpose, main features, and usage. This can help determine if the project meets your needs.\n",
    "- Step-by-step installation and usage instructions makes it easier for new users to get started.\n",
    "- Some projects link to additional documentation, like usage examples, or tutorial videos, which can be very helpful for understanding and using the tool effectively."
   ]
  },
  {
   "cell_type": "markdown",
   "metadata": {},
   "source": [
    "Let's look at an example: [seesus](https://github.com/caimeng2/seesus). It is an open-source package published in [JOSS](https://joss.theoj.org/papers/10.21105/joss.06244). \n",
    "\n",
    "&#x1F4D6; **<font color=teal>WHAT WE HAVE LEARNED: </font> Open-source licenses**: Have you noticed the license for this package? What does the license tell you?\n",
    "\n",
    "&#x270A; **<font color=firebrick>DO THIS: </font>** Skim through the `README` file and see if, and how, we can this package to analyze the news we've collected."
   ]
  },
  {
   "cell_type": "code",
   "execution_count": null,
   "metadata": {
    "ExecuteTime": {
     "end_time": "2024-10-31T13:35:23.927439Z",
     "start_time": "2024-10-31T13:35:23.917866Z"
    }
   },
   "outputs": [],
   "source": [
    "#!pip install seesus"
   ]
  },
  {
   "cell_type": "code",
   "execution_count": null,
   "metadata": {
    "ExecuteTime": {
     "end_time": "2024-11-09T15:23:36.124113Z",
     "start_time": "2024-11-09T15:23:36.116113Z"
    }
   },
   "outputs": [],
   "source": [
    "import pandas as pd\n",
    "from seesus import SeeSus\n",
    "from ast import literal_eval\n",
    "import matplotlib.pyplot as plt"
   ]
  },
  {
   "cell_type": "code",
   "execution_count": null,
   "metadata": {
    "ExecuteTime": {
     "end_time": "2024-11-09T15:05:02.623566Z",
     "start_time": "2024-11-09T15:05:02.601122Z"
    }
   },
   "outputs": [],
   "source": [
    "# import the data we cleaned last week\n",
    "news = pd.read_csv(\"../W04_data_wrangling/news_clean.csv\")"
   ]
  },
  {
   "cell_type": "code",
   "execution_count": null,
   "metadata": {
    "ExecuteTime": {
     "end_time": "2024-11-09T15:05:14.880117Z",
     "start_time": "2024-11-09T15:05:14.851800Z"
    }
   },
   "outputs": [],
   "source": [
    "news"
   ]
  },
  {
   "cell_type": "code",
   "execution_count": null,
   "metadata": {
    "ExecuteTime": {
     "end_time": "2024-11-09T15:06:04.323884Z",
     "start_time": "2024-11-09T15:06:04.313334Z"
    }
   },
   "outputs": [],
   "source": [
    "# a piece of text for testing\n",
    "text = news.title.iloc[1]\n",
    "print(text)"
   ]
  },
  {
   "cell_type": "code",
   "execution_count": null,
   "metadata": {
    "ExecuteTime": {
     "end_time": "2024-11-09T15:06:51.304757Z",
     "start_time": "2024-11-09T15:06:50.181008Z"
    }
   },
   "outputs": [],
   "source": [
    "# call the function we imported\n",
    "result = SeeSus(text)"
   ]
  },
  {
   "cell_type": "code",
   "execution_count": null,
   "metadata": {
    "ExecuteTime": {
     "end_time": "2024-11-09T15:06:57.213151Z",
     "start_time": "2024-11-09T15:06:57.203238Z"
    }
   },
   "outputs": [],
   "source": [
    "# print the names of identified SDGs and the description of the sdg\n",
    "print(result.sdg, result.sdg_desc)"
   ]
  },
  {
   "cell_type": "markdown",
   "metadata": {},
   "source": [
    "Now let's try using the tool to analyze the entire dataset. This is an alternative to conducting content analysis manually."
   ]
  },
  {
   "cell_type": "code",
   "execution_count": null,
   "metadata": {
    "ExecuteTime": {
     "end_time": "2024-11-09T15:10:08.015508Z",
     "start_time": "2024-11-09T15:10:08.006345Z"
    }
   },
   "outputs": [],
   "source": [
    "sdg_title_list = []\n",
    "sdg_desc_list = []"
   ]
  },
  {
   "cell_type": "code",
   "execution_count": null,
   "metadata": {
    "ExecuteTime": {
     "end_time": "2024-11-09T15:16:37.498232Z",
     "start_time": "2024-11-09T15:10:16.513211Z"
    },
    "scrolled": true
   },
   "outputs": [],
   "source": [
    "# warning!! this cell takes about 6 min to run\n",
    "for i in range(len(news)):\n",
    "    title = news.title.iloc[i]\n",
    "    print(\"analyzing news No.\", i) # to see the progress\n",
    "    desc = news.desc.iloc[i]\n",
    "    sdg_title = SeeSus(title).sdg\n",
    "    sdg_desc = SeeSus(desc).sdg\n",
    "    sdg_title_list.append(sdg_title)\n",
    "    sdg_desc_list.append(sdg_desc)"
   ]
  },
  {
   "cell_type": "code",
   "execution_count": null,
   "metadata": {
    "ExecuteTime": {
     "end_time": "2024-11-09T15:17:09.071150Z",
     "start_time": "2024-11-09T15:17:09.053539Z"
    }
   },
   "outputs": [],
   "source": [
    "news[\"sdg_title\"] = sdg_title_list\n",
    "news[\"sdg_desc\"] = sdg_desc_list"
   ]
  },
  {
   "cell_type": "code",
   "execution_count": null,
   "metadata": {
    "ExecuteTime": {
     "end_time": "2024-11-09T15:17:10.657005Z",
     "start_time": "2024-11-09T15:17:10.632138Z"
    }
   },
   "outputs": [],
   "source": [
    "news"
   ]
  },
  {
   "cell_type": "markdown",
   "metadata": {},
   "source": [
    "<img src=\"../image/E_SDG_poster_UN_emblem_WEB.png\" width=90% align=\"center\" style=\"in-line\">\n",
    "\n",
    "\n",
    "Source: https://www.un.org/sustainabledevelopment/news/communications-material/"
   ]
  },
  {
   "cell_type": "code",
   "execution_count": null,
   "metadata": {
    "ExecuteTime": {
     "end_time": "2024-11-09T15:29:39.301926Z",
     "start_time": "2024-11-09T15:29:39.287555Z"
    }
   },
   "outputs": [],
   "source": [
    "news.to_csv(\"news_processed.csv\", index=False)"
   ]
  },
  {
   "cell_type": "code",
   "execution_count": null,
   "metadata": {
    "ExecuteTime": {
     "end_time": "2024-11-09T15:29:40.069223Z",
     "start_time": "2024-11-09T15:29:40.030405Z"
    }
   },
   "outputs": [],
   "source": [
    "news = pd.read_csv(\"news_processed.csv\", \n",
    "                   converters={\"sdg_title\": literal_eval, \"sdg_desc\": literal_eval,}) # the last two columns are lists, not strings"
   ]
  },
  {
   "cell_type": "code",
   "execution_count": null,
   "metadata": {
    "ExecuteTime": {
     "end_time": "2024-11-09T15:29:44.060485Z",
     "start_time": "2024-11-09T15:29:44.034507Z"
    }
   },
   "outputs": [],
   "source": [
    "news"
   ]
  },
  {
   "cell_type": "code",
   "execution_count": null,
   "metadata": {
    "ExecuteTime": {
     "end_time": "2024-11-09T15:29:45.724225Z",
     "start_time": "2024-11-09T15:29:45.706365Z"
    }
   },
   "outputs": [],
   "source": [
    "news.sdg_title.value_counts()\n",
    "#news.sdg_desc.value_counts()"
   ]
  },
  {
   "cell_type": "code",
   "execution_count": null,
   "metadata": {
    "ExecuteTime": {
     "end_time": "2024-11-09T15:29:48.309066Z",
     "start_time": "2024-11-09T15:29:48.290521Z"
    }
   },
   "outputs": [],
   "source": [
    "# combine sdg_title and sdg_desc columns and keep unique values\n",
    "news['sdgs_list'] = news[['sdg_title', 'sdg_desc']].apply(lambda x: list(set([item for sublist in x for item in sublist if item])), axis=1)"
   ]
  },
  {
   "cell_type": "markdown",
   "metadata": {},
   "source": [
    "&#x1F4A1; In the above cell, \n",
    "- `item for sublist in x for item in sublist if item` is a list comprehension. It creates a new list by iterating over nested lists. Read more [here](https://realpython.com/list-comprehension-python/) about list comprehension.\n",
    "- `list(set(...))` removes duplicate items from a list. \n",
    "- `apply()` means applying a function along one of the axis of a DataFrame. The default is 0, which is the row axis. axis=1 means applying to a column.\n",
    "- A `lambda` function is a small function without a name, often used for simple operations or as a quick, one-line function without needing a `def` statement. If you'd like to know more about `lambda` functions, check out [this article](https://realpython.com/python-lambda/)."
   ]
  },
  {
   "cell_type": "code",
   "execution_count": null,
   "metadata": {
    "ExecuteTime": {
     "end_time": "2024-11-09T15:29:50.764935Z",
     "start_time": "2024-11-09T15:29:50.740822Z"
    }
   },
   "outputs": [],
   "source": [
    "news.head(7)"
   ]
  },
  {
   "cell_type": "code",
   "execution_count": null,
   "metadata": {
    "ExecuteTime": {
     "end_time": "2024-11-09T15:29:53.092507Z",
     "start_time": "2024-11-09T15:29:53.080138Z"
    }
   },
   "outputs": [],
   "source": [
    "# if you'd like to remove []\n",
    "news['sdgs'] = news['sdgs_list'].apply(lambda x: ', '.join(x) if x else '')"
   ]
  },
  {
   "cell_type": "code",
   "execution_count": null,
   "metadata": {
    "ExecuteTime": {
     "end_time": "2024-11-09T15:29:55.939144Z",
     "start_time": "2024-11-09T15:29:55.916861Z"
    }
   },
   "outputs": [],
   "source": [
    "news.head()"
   ]
  },
  {
   "cell_type": "code",
   "execution_count": null,
   "metadata": {
    "ExecuteTime": {
     "end_time": "2024-11-09T15:30:00.766809Z",
     "start_time": "2024-11-09T15:30:00.751125Z"
    }
   },
   "outputs": [],
   "source": [
    "news.sdgs.value_counts()"
   ]
  },
  {
   "cell_type": "code",
   "execution_count": null,
   "metadata": {
    "ExecuteTime": {
     "end_time": "2024-11-09T15:30:11.222208Z",
     "start_time": "2024-11-09T15:30:11.195492Z"
    }
   },
   "outputs": [],
   "source": [
    "news['date'] = pd.to_datetime(news['date'])\n",
    "news['month'] = news['date'].dt.to_period('M')  # 'M' period groups by month"
   ]
  },
  {
   "cell_type": "markdown",
   "metadata": {},
   "source": [
    "Common time series frequencies: https://pandas.pydata.org/docs/user_guide/timeseries.html#timeseries-period-aliases"
   ]
  },
  {
   "cell_type": "code",
   "execution_count": null,
   "metadata": {
    "ExecuteTime": {
     "end_time": "2024-11-09T15:30:36.090470Z",
     "start_time": "2024-11-09T15:30:36.062526Z"
    }
   },
   "outputs": [],
   "source": [
    "news.head()"
   ]
  },
  {
   "cell_type": "code",
   "execution_count": null,
   "metadata": {
    "ExecuteTime": {
     "end_time": "2024-11-09T15:32:43.296987Z",
     "start_time": "2024-11-09T15:32:43.280908Z"
    }
   },
   "outputs": [],
   "source": [
    "# expand SDG list entries so each SDG has its own row\n",
    "sdg_expanded = news.explode('sdgs_list')"
   ]
  },
  {
   "cell_type": "code",
   "execution_count": null,
   "metadata": {
    "ExecuteTime": {
     "end_time": "2024-11-09T15:32:44.012164Z",
     "start_time": "2024-11-09T15:32:43.985711Z"
    }
   },
   "outputs": [],
   "source": [
    "sdg_expanded"
   ]
  },
  {
   "cell_type": "code",
   "execution_count": null,
   "metadata": {
    "ExecuteTime": {
     "end_time": "2024-11-09T15:32:46.469550Z",
     "start_time": "2024-11-09T15:32:46.454933Z"
    }
   },
   "outputs": [],
   "source": [
    "# group by month and SDG, count occurrences\n",
    "sdg_counts = sdg_expanded.groupby(['month', 'sdgs_list']).size().unstack(fill_value=0)"
   ]
  },
  {
   "cell_type": "code",
   "execution_count": null,
   "metadata": {
    "ExecuteTime": {
     "end_time": "2024-11-09T15:32:47.843365Z",
     "start_time": "2024-11-09T15:32:47.824068Z"
    }
   },
   "outputs": [],
   "source": [
    "sdg_counts"
   ]
  },
  {
   "cell_type": "code",
   "execution_count": null,
   "metadata": {
    "ExecuteTime": {
     "end_time": "2024-11-09T15:32:50.924952Z",
     "start_time": "2024-11-09T15:32:50.910475Z"
    }
   },
   "outputs": [],
   "source": [
    "sdg_info = {\n",
    "    \"SDG1\": (\"No Poverty\", \"#E5243B\"), \n",
    "    \"SDG2\": (\"Zero Hunger\", \"#DDA63A\"), \n",
    "    \"SDG3\": (\"Good Health and Well-being\", \"#4C9F38\"), \n",
    "    \"SDG4\": (\"Quality Education\", \"#C5192D\"),\n",
    "    \"SDG5\": (\"Gender Equality\", \"#FF3A21\"), \n",
    "    \"SDG6\": (\"Clean Water and Sanitation\", \"#26BDE2\"), \n",
    "    \"SDG7\": (\"Affordable and Clean Energy\", \"#FCC30B\"), \n",
    "    \"SDG8\": (\"Decent Work and Economic Growth\", \"#A21942\"),\n",
    "    \"SDG9\": (\"Industry, Innovation and Infrastructure\", \"#FD6925\"), \n",
    "    \"SDG10\": (\"Reduced Inequality\", \"#DD1367\"), \n",
    "    \"SDG11\": (\"Sustainable Cities and Communities\", \"#FD9D24\"),\n",
    "    \"SDG12\": (\"Responsible Consumption and Production\", \"#BF8B2E\"), \n",
    "    \"SDG13\": (\"Climate Action\", \"#3F7E44\"), \n",
    "    \"SDG14\": (\"Life Below Water\", \"#0A97D9\"), \n",
    "    \"SDG15\": (\"Life on Land\", \"#56C02B\"), \n",
    "    \"SDG16\": (\"Peace and Justice Strong Institutions\", \"#00689D\"), \n",
    "    \"SDG17\": (\"Partnerships for the Goals\", \"#19486A\")\n",
    "}"
   ]
  },
  {
   "cell_type": "code",
   "execution_count": null,
   "metadata": {
    "ExecuteTime": {
     "end_time": "2024-11-09T15:33:04.446774Z",
     "start_time": "2024-11-09T15:33:04.434516Z"
    }
   },
   "outputs": [],
   "source": [
    "plot_colors = [sdg_info[sdg][1] for sdg in sdg_counts.columns]  # get color from sdg_info\n",
    "column_labels = [f\"{sdg} {sdg_info[sdg][0]}\" for sdg in sdg_counts.columns]"
   ]
  },
  {
   "cell_type": "code",
   "execution_count": null,
   "metadata": {
    "ExecuteTime": {
     "end_time": "2024-11-09T15:33:06.978216Z",
     "start_time": "2024-11-09T15:33:06.965333Z"
    }
   },
   "outputs": [],
   "source": [
    "column_labels"
   ]
  },
  {
   "cell_type": "code",
   "execution_count": null,
   "metadata": {
    "ExecuteTime": {
     "end_time": "2024-11-09T15:38:38.605038Z",
     "start_time": "2024-11-09T15:38:38.181468Z"
    }
   },
   "outputs": [],
   "source": [
    "# Plot the SDG counts\n",
    "ax = sdg_counts.plot(kind='bar', stacked=True, figsize=(12, 7), color=plot_colors)\n",
    "plt.title(\"SDG mentions in the news\")\n",
    "plt.xlabel(\"Month\")\n",
    "plt.ylabel(\"Count of SDG mentions\")\n",
    "plt.legend(title=\"Sustainable Development Goals\", labels=column_labels, loc=\"upper left\", bbox_to_anchor=(1, 1))\n",
    "plt.xticks(rotation=45)\n",
    "plt.tight_layout()\n",
    "plt.show()"
   ]
  },
  {
   "cell_type": "markdown",
   "metadata": {},
   "source": [
    "We can also calculate the overall frequency of each SDG across the news dataset."
   ]
  },
  {
   "cell_type": "code",
   "execution_count": null,
   "metadata": {
    "ExecuteTime": {
     "end_time": "2024-11-09T15:36:37.653694Z",
     "start_time": "2024-11-09T15:36:37.643247Z"
    }
   },
   "outputs": [],
   "source": [
    "# sum the occurrences of each SDG across all months\n",
    "total_sdg_counts = sdg_counts.sum()"
   ]
  },
  {
   "cell_type": "code",
   "execution_count": null,
   "metadata": {
    "ExecuteTime": {
     "end_time": "2024-11-09T15:38:31.043021Z",
     "start_time": "2024-11-09T15:38:30.889454Z"
    }
   },
   "outputs": [],
   "source": [
    "# plot a pie chart of overall SDG frequencies\n",
    "plt.figure(figsize=(10, 8))\n",
    "plt.pie(total_sdg_counts, labels=column_labels, autopct='%1.0f%%', startangle=90, colors=plot_colors)\n",
    "plt.title(\"Overall frequency of each SDG\")\n",
    "plt.tight_layout()\n",
    "plt.show()"
   ]
  },
  {
   "cell_type": "markdown",
   "metadata": {},
   "source": [
    "&#x270A; **<font color=firebrick>DO THIS: </font>** Explore GitHub and JOSS. Install and test a tool that you find interesting.\n",
    "\n",
    "If you'd like to have some recommendations, check out [`superblockify`](https://github.com/NERDSITU/superblockify)(visualizing and analyzing urban street networks), [`dyntapy`](https://joss.theoj.org/papers/10.21105/joss.04593)(macroscopic traffic modeling), or [`Mobilkit`](https://github.com/mindearth/mobilkit)(analyzing human mobility data)."
   ]
  },
  {
   "cell_type": "code",
   "execution_count": null,
   "metadata": {
    "ExecuteTime": {
     "end_time": "2024-11-09T15:39:37.506428Z",
     "start_time": "2024-11-09T15:39:37.497057Z"
    }
   },
   "outputs": [],
   "source": [
    "# put your code here\n",
    "\n",
    "\n",
    "\n",
    "\n",
    "\n",
    "\n",
    "\n",
    "\n",
    "\n"
   ]
  },
  {
   "cell_type": "markdown",
   "metadata": {},
   "source": [
    "<a name=\"3\"></a>\n",
    "## Agenda 3. Signing up for YOU-lead"
   ]
  },
  {
   "cell_type": "markdown",
   "metadata": {},
   "source": [
    "### Possible topics\n",
    "\n",
    "They can be **anything** (within the scope of this course) that you find interesting or useful. They can be a use case of what you have learned from the class or a new tool related to what you have learned. The following are some examples.\n",
    "\n",
    "**Use cases**: scraping traffic data, creating a dashboard using PowerBI, demonstrating how to use GitHub for teamwork, analyzing survey data with R.\n",
    "\n",
    "**Methods**: machine learning, agent-based modeling, network analysis, traffic simulation, spatial analysis, regular expressions.\n",
    "\n",
    "**Packages**: pandas, NumPy, scikit-learn, TensorFlow, PyTorch, matplotlib, seaborn, plotly, folium, shapely, geopandas.\n",
    "\n",
    "**Tools**: VS Code, Google Colab, JupyterHub.\n",
    "\n",
    "### &#x270A; **<font color=firebrick>DO THIS: </font>**  Sign up [here](https://docs.google.com/spreadsheets/d/1esQtwJurQ6PXKDdeY0r3jsSK4SU1G4MgjCqUpfYVKSY/edit?gid=0#gid=0) now.\n"
   ]
  },
  {
   "cell_type": "markdown",
   "metadata": {},
   "source": [
    "---------\n",
    "### Congratulations, we are done!\n",
    "\n",
    "This notebook is written by [Meng Cai](https://www.verkehr.tu-darmstadt.de/vv/das_institut_ivv/team_ivv/wissenschaftliche_mitarbeiter_doktoranden/meng_cai/standardseite_204.de.jsp), Technical University of Darmstadt. This work is licensed under a <a rel=\"license\" href=\"http://creativecommons.org/licenses/by-nc/4.0/\">Creative Commons Attribution-NonCommercial 4.0 International License</a>.\n",
    "<a rel=\"license\" href=\"http://creativecommons.org/licenses/by-nc/4.0/\"><img alt=\"Creative Commons License\" style=\"border-width:0\" src=\"https://i.creativecommons.org/l/by-nc/4.0/88x31.png\" /></a>"
   ]
  }
 ],
 "metadata": {
  "kernelspec": {
   "display_name": "Python 3 (ipykernel)",
   "language": "python",
   "name": "python3"
  },
  "language_info": {
   "codemirror_mode": {
    "name": "ipython",
    "version": 3
   },
   "file_extension": ".py",
   "mimetype": "text/x-python",
   "name": "python",
   "nbconvert_exporter": "python",
   "pygments_lexer": "ipython3",
   "version": "3.11.9"
  },
  "toc": {
   "base_numbering": 1,
   "nav_menu": {},
   "number_sections": false,
   "sideBar": true,
   "skip_h1_title": false,
   "title_cell": "Table of Contents",
   "title_sidebar": "Contents",
   "toc_cell": false,
   "toc_position": {},
   "toc_section_display": true,
   "toc_window_display": false
  },
  "varInspector": {
   "cols": {
    "lenName": 16,
    "lenType": 16,
    "lenVar": 40
   },
   "kernels_config": {
    "python": {
     "delete_cmd_postfix": "",
     "delete_cmd_prefix": "del ",
     "library": "var_list.py",
     "varRefreshCmd": "print(var_dic_list())"
    },
    "r": {
     "delete_cmd_postfix": ") ",
     "delete_cmd_prefix": "rm(",
     "library": "var_list.r",
     "varRefreshCmd": "cat(var_dic_list()) "
    }
   },
   "types_to_exclude": [
    "module",
    "function",
    "builtin_function_or_method",
    "instance",
    "_Feature"
   ],
   "window_display": false
  }
 },
 "nbformat": 4,
 "nbformat_minor": 4
}
