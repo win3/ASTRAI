{
 "cells": [
  {
   "cell_type": "markdown",
   "metadata": {},
   "source": [
    "# <center>Data Wrangling</center>"
   ]
  },
  {
   "cell_type": "markdown",
   "metadata": {},
   "source": [
    "<img src=\"../image/wrangling_DALLE.jpeg\" width=30% align=\"right\" style=\"in-line\">\n",
    "\n",
    ">*80% of data wrangling is spent cleaning the data.*\n",
    ">\n",
    ">*The other 20% is spent complaining about cleaning the data.*\n",
    ">\n",
    ">— ChatGPT 4o\n",
    "\n",
    "<img src=\"../image/quote2_ChatGPT.png\" width=60% align=\"left\" style=\"in-line\">"
   ]
  },
  {
   "cell_type": "markdown",
   "metadata": {},
   "source": [
    "## Learning goals\n",
    "\n",
    "1. Be able to perform web scraping across multiple pages.\n",
    "2. Be able to load, explore, and understand the structure of datasets using Python.\n",
    "3. Become familiar with common data wrangling tasks, including handling missing values, merging datasets, filtering, and sorting data."
   ]
  },
  {
   "cell_type": "markdown",
   "metadata": {
    "ExecuteTime": {
     "end_time": "2022-04-01T08:33:09.252271Z",
     "start_time": "2022-04-01T08:33:09.160011Z"
    }
   },
   "source": [
    "## Agenda\n",
    "\n",
    "1. [Review: web scraping](#1)\n",
    "2. [Data wrangling](#2)"
   ]
  },
  {
   "cell_type": "markdown",
   "metadata": {},
   "source": [
    "<a name=\"1\"></a>\n",
    "## Agenda 1. Web scraping"
   ]
  },
  {
   "cell_type": "markdown",
   "metadata": {},
   "source": [
    "&#x1F4DD; **<font color=dodgerblue>FROM LAST WEEK: </font>** Here is an example project. We would like to find out what the European Union has been doing to advance sustainable mobility and transport. One possible data source is the news (https://transport.ec.europa.eu/news-events/news_en) we just scraped, but we need more information other than the title of the news.\n",
    "\n",
    "So now please write some code to collect **the date, the title, the short description, the news type, and the link to the full text** of all news. Save the data to a **csv** file.\n",
    "\n",
    "Here are some tips:\n",
    "1. How many pages do you need to scrape? Observe how the web addresses change between the first page and the second.\n",
    "2. Remember we have talked about **avoid overloading servers** in ethics. Make sure to use `time.sleep()`.\n",
    "3. Maybe AI tools such as ChatGPT can help. But you need to make sure its solution works.\n",
    "\n",
    "If you would like to challenge yourself, see if you can scrape the full text (not the short description) of the news. Try with one or two pieces of news would be enough."
   ]
  },
  {
   "cell_type": "code",
   "execution_count": 1,
   "metadata": {
    "ExecuteTime": {
     "end_time": "2024-11-06T11:00:11.303823Z",
     "start_time": "2024-11-06T11:00:09.824588Z"
    }
   },
   "outputs": [],
   "source": [
    "import requests\n",
    "from bs4 import BeautifulSoup\n",
    "import time\n",
    "import csv\n",
    "import pandas as pd"
   ]
  },
  {
   "cell_type": "markdown",
   "metadata": {},
   "source": [
    "### Step 1: Send an HTTP request"
   ]
  },
  {
   "cell_type": "code",
   "execution_count": 2,
   "metadata": {
    "ExecuteTime": {
     "end_time": "2024-11-06T11:01:09.135776Z",
     "start_time": "2024-11-06T11:01:09.021869Z"
    }
   },
   "outputs": [],
   "source": [
    "url = \"https://transport.ec.europa.eu/news-events/news_en?page=0\"\n",
    "page = requests.get(url)"
   ]
  },
  {
   "cell_type": "code",
   "execution_count": 3,
   "metadata": {
    "ExecuteTime": {
     "end_time": "2024-11-06T11:01:12.811510Z",
     "start_time": "2024-11-06T11:01:12.799577Z"
    }
   },
   "outputs": [
    {
     "name": "stdout",
     "output_type": "stream",
     "text": [
      "<Response [200]>\n"
     ]
    }
   ],
   "source": [
    "print(page)"
   ]
  },
  {
   "cell_type": "markdown",
   "metadata": {},
   "source": [
    "### Step 2: Parse the HTML content"
   ]
  },
  {
   "cell_type": "code",
   "execution_count": 4,
   "metadata": {
    "ExecuteTime": {
     "end_time": "2024-11-06T11:01:34.946009Z",
     "start_time": "2024-11-06T11:01:34.906138Z"
    }
   },
   "outputs": [],
   "source": [
    "soup = BeautifulSoup(page.content, 'html.parser')"
   ]
  },
  {
   "cell_type": "code",
   "execution_count": 5,
   "metadata": {
    "ExecuteTime": {
     "end_time": "2024-11-06T11:01:46.507710Z",
     "start_time": "2024-11-06T11:01:46.479220Z"
    },
    "scrolled": true
   },
   "outputs": [
    {
     "name": "stdout",
     "output_type": "stream",
     "text": [
      "<!DOCTYPE html>\n",
      "\n",
      "<html dir=\"ltr\" lang=\"en\" prefix=\"og: https://ogp.me/ns#\">\n",
      "<head>\n",
      "<meta charset=\"utf-8\"/>\n",
      "<meta content=\"News\" name=\"description\"/>\n",
      "<meta content=\"en\" http-equiv=\"content-language\"/>\n",
      "<link href=\"https://transport.ec.europa.eu/news-events/news_en\" rel=\"canonical\"/>\n",
      "<meta content=\"follow, noindex\" name=\"robots\"/>\n",
      "<meta content=\"auto\" property=\"og:determiner\"/>\n",
      "<meta content=\"Mobility and Transport\" property=\"og:site_name\"/>\n",
      "<meta content=\"website\" property=\"og:type\"/>\n",
      "<meta content=\"https://transport.ec.europa.eu/news-events/news_en\" property=\"og:url\"/>\n",
      "<meta content=\"News\" property=\"og:title\"/>\n",
      "<meta content=\"News\" property=\"og:description\"/>\n",
      "<meta content=\"https://transport.ec.europa.eu/profiles/contrib/ewcms/modules/ewcms_seo/assets/images/ec-socialmedia-fallback.png\" property=\"og:image\"/>\n",
      "<meta content=\"Mobility and Transport\" property=\"og:image:alt\"/>\n",
      "<meta content=\"summary_large_image\" name=\"twitter:card\"/>\n",
      "<meta content=\"News\" name=\"twitter:title\"/>\n",
      "<meta content=\"News\" name=\"twitter:description\"/>\n",
      "<meta content=\"https://transport.ec.europa.eu/news-events/news_en\" name=\"twitter:url\"/>\n",
      "<meta content=\"https://transport.ec.europa.eu/profiles/contrib/ewcms/modules/ewcms_seo/assets/images/ec-socialmedia-fallback.png\" name=\"twitter:image\"/>\n",
      "<meta content=\"Mobility and Transport\" name=\"twitter:image:alt\"/>\n",
      "<meta content=\"IE=edge,chrome=1\" http-equiv=\"X-UA-Compatible\"/>\n",
      "<meta content=\"Drupal 10 (https://www.drupal.org)\" name=\"Generator\"/>\n",
      "<meta content=\"width\" name=\"MobileOptimized\"/>\n",
      "<meta content=\"true\" name=\"HandheldFriendly\"/>\n",
      "<meta content=\"width=device-width, initial-scale=1.0\" name=\"viewport\"/>\n",
      "<script type=\"application/json\">{\"service\":\"etrans\",\"renderAs\":false,\"user\":\"Mobility and Transport\",\"exclude\":\".ecl-site-header__language-item,.ecl-site-header__language-selector,.toolbar\",\"languages\":{\"source\":\"en\",\"available\":[\"en\"]},\"config\":{\"live\":false,\"mode\":\"lc2023\",\"targets\":{\"receiver\":\"#webtools-etrans\"}}}</script>\n",
      "<link href=\"/profiles/contrib/ewcms/themes/ewcms_theme/images/favicons/ec/favicon.ico\" rel=\"icon\" type=\"image/vnd.microsoft.icon\"/>\n",
      "<link href=\"https://transport.ec.europa.eu/news-events/news_en\" hreflang=\"en\" rel=\"alternate\"/>\n",
      "<link href=\"/profiles/contrib/ewcms/themes/ewcms_theme/images/favicons/ec/favicon.svg\" rel=\"icon\" type=\"image/svg+xml\"/>\n",
      "<link href=\"/profiles/contrib/ewcms/themes/ewcms_theme/images/favicons/ec/favicon.png\" rel=\"apple-touch-icon\"/>\n",
      "<title>News - European Commission</title>\n",
      "<link href=\"/sites/default/files/css/css_N7Zh8bC6vnIXK3ZRDn6u0jL1oeBfqc4G440HxM81kYE.css?delta=0&amp;language=en&amp;theme=ewcms_theme&amp;include=eJxtj9EOgzAIRX_IzU9qsDIlodAAdevfz2RuxmRvcM8J4SqmJ06hyj7O1irw_bvfvIAFK8xog2KKFQuOWUtVQYnENBlYT5gH7x5YxgkcTxNfgSbAybflTKuRxIDPXPxIHoQ8p59NWeXCPzPsrAdl_8OiV10M6toPWBoHMcnSgA-nQF5J9i8MxBmCVJLoXmLD68WcvNmG_Q0OYHDX\" media=\"all\" rel=\"stylesheet\"/>\n",
      "<link href=\"/sites/default/files/css/css_ZzVgJ2TgBnUugSEvhFPVlpGqVYJ9YSLSDEu39_SAFv0.css?delta=1&amp;language=en&amp;theme=ewcms_theme&amp;include=eJxtj9EOgzAIRX_IzU9qsDIlodAAdevfz2RuxmRvcM8J4SqmJ06hyj7O1irw_bvfvIAFK8xog2KKFQuOWUtVQYnENBlYT5gH7x5YxgkcTxNfgSbAybflTKuRxIDPXPxIHoQ8p59NWeXCPzPsrAdl_8OiV10M6toPWBoHMcnSgA-nQF5J9i8MxBmCVJLoXmLD68WcvNmG_Q0OYHDX\" media=\"all\" rel=\"stylesheet\"/>\n",
      "<link href=\"/sites/default/files/css/css_KCKq4bR9zOK7p89Yu8dHNV8qQoRx0Ro0NdYXCNcJQoc.css?delta=2&amp;language=en&amp;theme=ewcms_theme&amp;include=eJxtj9EOgzAIRX_IzU9qsDIlodAAdevfz2RuxmRvcM8J4SqmJ06hyj7O1irw_bvfvIAFK8xog2KKFQuOWUtVQYnENBlYT5gH7x5YxgkcTxNfgSbAybflTKuRxIDPXPxIHoQ8p59NWeXCPzPsrAdl_8OiV10M6toPWBoHMcnSgA-nQF5J9i8MxBmCVJLoXmLD68WcvNmG_Q0OYHDX\" media=\"print\" rel=\"stylesheet\"/>\n",
      "<link href=\"/sites/default/files/css/css_IZDdAcSfTwDRw6TCodKQVWQGZpSAk_hl2yHx3lumw6w.css?delta=3&amp;language=en&amp;theme=ewcms_theme&amp;include=eJxtj9EOgzAIRX_IzU9qsDIlodAAdevfz2RuxmRvcM8J4SqmJ06hyj7O1irw_bvfvIAFK8xog2KKFQuOWUtVQYnENBlYT5gH7x5YxgkcTxNfgSbAybflTKuRxIDPXPxIHoQ8p59NWeXCPzPsrAdl_8OiV10M6toPWBoHMcnSgA-nQF5J9i8MxBmCVJLoXmLD68WcvNmG_Q0OYHDX\" media=\"all\" rel=\"stylesheet\"/>\n",
      "<link href=\"/sites/default/files/css/css_wRBFuqhQuXNmyy_R3duZZQMi3p3Yv6Q7SWSToOG-j14.css?delta=4&amp;language=en&amp;theme=ewcms_theme&amp;include=eJxtj9EOgzAIRX_IzU9qsDIlodAAdevfz2RuxmRvcM8J4SqmJ06hyj7O1irw_bvfvIAFK8xog2KKFQuOWUtVQYnENBlYT5gH7x5YxgkcTxNfgSbAybflTKuRxIDPXPxIHoQ8p59NWeXCPzPsrAdl_8OiV10M6toPWBoHMcnSgA-nQF5J9i8MxBmCVJLoXmLD68WcvNmG_Q0OYHDX\" media=\"print\" rel=\"stylesheet\"/>\n",
      "<link href=\"/sites/default/files/css/css_PuVcq2B85CocVfmOI-a7PAsgtSG3BGJimF0jsoyvmak.css?delta=5&amp;language=en&amp;theme=ewcms_theme&amp;include=eJxtj9EOgzAIRX_IzU9qsDIlodAAdevfz2RuxmRvcM8J4SqmJ06hyj7O1irw_bvfvIAFK8xog2KKFQuOWUtVQYnENBlYT5gH7x5YxgkcTxNfgSbAybflTKuRxIDPXPxIHoQ8p59NWeXCPzPsrAdl_8OiV10M6toPWBoHMcnSgA-nQF5J9i8MxBmCVJLoXmLD68WcvNmG_Q0OYHDX\" media=\"all\" rel=\"stylesheet\"/>\n",
      "</head>\n",
      "<body class=\"language-en ecl-typography path-node page-node-type-ewcms-pool-page\">\n",
      "<a class=\"ecl-link ecl-link--primary ecl-skip-link\" href=\"#main-content\" id=\"skip-id\">Skip to main content</a>\n",
      "<div id=\"cck_here\"></div> <script type=\"application/json\">{\"utility\":\"globan\",\"theme\":\"light\",\"logo\":true,\"link\":true,\"mode\":false}</script>\n",
      "<div class=\"dialog-off-canvas-main-canvas\" data-off-canvas-main-canvas=\"\">\n",
      "<header class=\"ecl-site-header ecl-site-header--has-menu\" data-ecl-auto-init=\"SiteHeader\">\n",
      "<div class=\"ecl-site-header__header\">\n",
      "<div class=\"ecl-site-header__background\">\n",
      "<div class=\"ecl-site-header__header\">\n",
      "<div class=\"ecl-site-header__container ecl-container\">\n",
      "<div class=\"ecl-site-header__top\" data-ecl-site-header-top=\"\">\n",
      "<a aria-label=\"Home - European Commission\" class=\"ecl-link ecl-link--standalone ecl-site-header__logo-link\" data-aria-label-en=\"Home - European Commission\" href=\"https://commission.europa.eu/index_en\">\n",
      "<picture class=\"ecl-picture ecl-site-header__picture\" title=\"European Commission\"><source media=\"(min-width: 996px)\" srcset=\"/themes/contrib/oe_theme/dist/ec/images/logo/positive/logo-ec--en.svg\"/><img alt=\"European Commission logo\" class=\"ecl-site-header__logo-image\" src=\"/themes/contrib/oe_theme/dist/ec/images/logo/logo-ec--mute.svg\"/></picture> </a>\n",
      "<div class=\"ecl-site-header__action\">\n",
      "<div class=\"ecl-site-header__language\"><a aria-controls=\"language-list-overlay\" aria-label=\"Change language, current language is English - en\" class=\"ecl-button ecl-button--tertiary ecl-site-header__language-selector\" data-ecl-language-selector=\"\" href=\"https://transport.ec.europa.eu/news-events/news_en?page=0\" role=\"button\"><span class=\"ecl-site-header__language-icon\"><svg aria-hidden=\"false\" class=\"ecl-icon ecl-icon--s ecl-site-header__icon\" focusable=\"false\" role=\"img\"><title>en</title><use xlink:href=\"/themes/contrib/oe_theme/dist/ec/images/icons/sprites/icons.svg#global\"></use></svg></span>en</a><div aria-labelledby=\"ecl-site-header__language-title\" class=\"ecl-site-header__language-container\" data-ecl-language-list-overlay=\"\" hidden=\"\" id=\"language-list-overlay\" role=\"dialog\"><div class=\"ecl-site-header__language-header\"><div class=\"ecl-site-header__language-title\" id=\"ecl-site-header__language-title\">Select your language</div><button class=\"ecl-button ecl-button--tertiary ecl-site-header__language-close ecl-button--icon-only\" data-ecl-language-list-close=\"\" type=\"submit\"><span class=\"ecl-button__container\"><span class=\"ecl-button__label\" data-ecl-label=\"true\">Close</span><svg aria-hidden=\"true\" class=\"ecl-icon ecl-icon--m ecl-button__icon\" data-ecl-icon=\"\" focusable=\"false\"><use xlink:href=\"/themes/contrib/oe_theme/dist/ec/images/icons/sprites/icons.svg#close\"></use></svg></span></button></div><div class=\"ecl-site-header__language-content\" data-ecl-language-list-content=\"\"><div class=\"ecl-site-header__language-category\" data-ecl-language-list-eu=\"\"><div class=\"ecl-site-header__language-category-title\">EU official languages</div><ul class=\"ecl-site-header__language-list\"><li class=\"ecl-site-header__language-item\"><a class=\"ecl-link ecl-link--standalone ecl-link--no-visited ecl-site-header__language-link\" href=\"https://transport.ec.europa.eu/news-events/news_bg?page=0\" hreflang=\"bg\"><span class=\"ecl-site-header__language-link-code\">bg</span><span class=\"ecl-site-header__language-link-label\" lang=\"bg\">български</span></a></li><li class=\"ecl-site-header__language-item\"><a class=\"ecl-link ecl-link--standalone ecl-link--no-visited ecl-site-header__language-link\" href=\"https://transport.ec.europa.eu/news-events/news_es?page=0\" hreflang=\"es\"><span class=\"ecl-site-header__language-link-code\">es</span><span class=\"ecl-site-header__language-link-label\" lang=\"es\">español</span></a></li><li class=\"ecl-site-header__language-item\"><a class=\"ecl-link ecl-link--standalone ecl-link--no-visited ecl-site-header__language-link\" href=\"https://transport.ec.europa.eu/news-events/news_cs?page=0\" hreflang=\"cs\"><span class=\"ecl-site-header__language-link-code\">cs</span><span class=\"ecl-site-header__language-link-label\" lang=\"cs\">čeština</span></a></li><li class=\"ecl-site-header__language-item\"><a class=\"ecl-link ecl-link--standalone ecl-link--no-visited ecl-site-header__language-link\" href=\"https://transport.ec.europa.eu/news-events/news_da?page=0\" hreflang=\"da\"><span class=\"ecl-site-header__language-link-code\">da</span><span class=\"ecl-site-header__language-link-label\" lang=\"da\">dansk</span></a></li><li class=\"ecl-site-header__language-item\"><a class=\"ecl-link ecl-link--standalone ecl-link--no-visited ecl-site-header__language-link\" href=\"https://transport.ec.europa.eu/news-events/news_de?page=0\" hreflang=\"de\"><span class=\"ecl-site-header__language-link-code\">de</span><span class=\"ecl-site-header__language-link-label\" lang=\"de\">Deutsch</span></a></li><li class=\"ecl-site-header__language-item\"><a class=\"ecl-link ecl-link--standalone ecl-link--no-visited ecl-site-header__language-link\" href=\"https://transport.ec.europa.eu/news-events/news_et?page=0\" hreflang=\"et\"><span class=\"ecl-site-header__language-link-code\">et</span><span class=\"ecl-site-header__language-link-label\" lang=\"et\">eesti</span></a></li><li class=\"ecl-site-header__language-item\"><a class=\"ecl-link ecl-link--standalone ecl-link--no-visited ecl-site-header__language-link\" href=\"https://transport.ec.europa.eu/news-events/news_el?page=0\" hreflang=\"el\"><span class=\"ecl-site-header__language-link-code\">el</span><span class=\"ecl-site-header__language-link-label\" lang=\"el\">ελληνικά</span></a></li><li class=\"ecl-site-header__language-item\"><a class=\"ecl-link ecl-link--standalone ecl-link--no-visited ecl-site-header__language-link ecl-site-header__language-link--active\" href=\"https://transport.ec.europa.eu/news-events/news_en?page=0\" hreflang=\"en\"><span class=\"ecl-site-header__language-link-code\">en</span><span class=\"ecl-site-header__language-link-label\" lang=\"en\">English</span></a></li><li class=\"ecl-site-header__language-item\"><a class=\"ecl-link ecl-link--standalone ecl-link--no-visited ecl-site-header__language-link\" href=\"https://transport.ec.europa.eu/news-events/news_fr?page=0\" hreflang=\"fr\"><span class=\"ecl-site-header__language-link-code\">fr</span><span class=\"ecl-site-header__language-link-label\" lang=\"fr\">français</span></a></li><li class=\"ecl-site-header__language-item\"><a class=\"ecl-link ecl-link--standalone ecl-link--no-visited ecl-site-header__language-link\" href=\"https://transport.ec.europa.eu/news-events/news_ga?page=0\" hreflang=\"ga\"><span class=\"ecl-site-header__language-link-code\">ga</span><span class=\"ecl-site-header__language-link-label\" lang=\"ga\">Gaeilge</span></a></li><li class=\"ecl-site-header__language-item\"><a class=\"ecl-link ecl-link--standalone ecl-link--no-visited ecl-site-header__language-link\" href=\"https://transport.ec.europa.eu/news-events/news_hr?page=0\" hreflang=\"hr\"><span class=\"ecl-site-header__language-link-code\">hr</span><span class=\"ecl-site-header__language-link-label\" lang=\"hr\">hrvatski</span></a></li><li class=\"ecl-site-header__language-item\"><a class=\"ecl-link ecl-link--standalone ecl-link--no-visited ecl-site-header__language-link\" href=\"https://transport.ec.europa.eu/news-events/news_it?page=0\" hreflang=\"it\"><span class=\"ecl-site-header__language-link-code\">it</span><span class=\"ecl-site-header__language-link-label\" lang=\"it\">italiano</span></a></li><li class=\"ecl-site-header__language-item\"><a class=\"ecl-link ecl-link--standalone ecl-link--no-visited ecl-site-header__language-link\" href=\"https://transport.ec.europa.eu/news-events/news_lv?page=0\" hreflang=\"lv\"><span class=\"ecl-site-header__language-link-code\">lv</span><span class=\"ecl-site-header__language-link-label\" lang=\"lv\">latviešu</span></a></li><li class=\"ecl-site-header__language-item\"><a class=\"ecl-link ecl-link--standalone ecl-link--no-visited ecl-site-header__language-link\" href=\"https://transport.ec.europa.eu/news-events/news_lt?page=0\" hreflang=\"lt\"><span class=\"ecl-site-header__language-link-code\">lt</span><span class=\"ecl-site-header__language-link-label\" lang=\"lt\">lietuvių</span></a></li><li class=\"ecl-site-header__language-item\"><a class=\"ecl-link ecl-link--standalone ecl-link--no-visited ecl-site-header__language-link\" href=\"https://transport.ec.europa.eu/news-events/news_hu?page=0\" hreflang=\"hu\"><span class=\"ecl-site-header__language-link-code\">hu</span><span class=\"ecl-site-header__language-link-label\" lang=\"hu\">magyar</span></a></li><li class=\"ecl-site-header__language-item\"><a class=\"ecl-link ecl-link--standalone ecl-link--no-visited ecl-site-header__language-link\" href=\"https://transport.ec.europa.eu/news-events/news_mt?page=0\" hreflang=\"mt\"><span class=\"ecl-site-header__language-link-code\">mt</span><span class=\"ecl-site-header__language-link-label\" lang=\"mt\">Malti</span></a></li><li class=\"ecl-site-header__language-item\"><a class=\"ecl-link ecl-link--standalone ecl-link--no-visited ecl-site-header__language-link\" href=\"https://transport.ec.europa.eu/news-events/news_nl?page=0\" hreflang=\"nl\"><span class=\"ecl-site-header__language-link-code\">nl</span><span class=\"ecl-site-header__language-link-label\" lang=\"nl\">Nederlands</span></a></li><li class=\"ecl-site-header__language-item\"><a class=\"ecl-link ecl-link--standalone ecl-link--no-visited ecl-site-header__language-link\" href=\"https://transport.ec.europa.eu/news-events/news_pl?page=0\" hreflang=\"pl\"><span class=\"ecl-site-header__language-link-code\">pl</span><span class=\"ecl-site-header__language-link-label\" lang=\"pl\">polski</span></a></li><li class=\"ecl-site-header__language-item\"><a class=\"ecl-link ecl-link--standalone ecl-link--no-visited ecl-site-header__language-link\" href=\"https://transport.ec.europa.eu/news-events/news_pt?page=0\" hreflang=\"pt\"><span class=\"ecl-site-header__language-link-code\">pt</span><span class=\"ecl-site-header__language-link-label\" lang=\"pt\">português</span></a></li><li class=\"ecl-site-header__language-item\"><a class=\"ecl-link ecl-link--standalone ecl-link--no-visited ecl-site-header__language-link\" href=\"https://transport.ec.europa.eu/news-events/news_ro?page=0\" hreflang=\"ro\"><span class=\"ecl-site-header__language-link-code\">ro</span><span class=\"ecl-site-header__language-link-label\" lang=\"ro\">română</span></a></li><li class=\"ecl-site-header__language-item\"><a class=\"ecl-link ecl-link--standalone ecl-link--no-visited ecl-site-header__language-link\" href=\"https://transport.ec.europa.eu/news-events/news_sk?page=0\" hreflang=\"sk\"><span class=\"ecl-site-header__language-link-code\">sk</span><span class=\"ecl-site-header__language-link-label\" lang=\"sk\">slovenčina</span></a></li><li class=\"ecl-site-header__language-item\"><a class=\"ecl-link ecl-link--standalone ecl-link--no-visited ecl-site-header__language-link\" href=\"https://transport.ec.europa.eu/news-events/news_sl?page=0\" hreflang=\"sl\"><span class=\"ecl-site-header__language-link-code\">sl</span><span class=\"ecl-site-header__language-link-label\" lang=\"sl\">slovenščina</span></a></li><li class=\"ecl-site-header__language-item\"><a class=\"ecl-link ecl-link--standalone ecl-link--no-visited ecl-site-header__language-link\" href=\"https://transport.ec.europa.eu/news-events/news_fi?page=0\" hreflang=\"fi\"><span class=\"ecl-site-header__language-link-code\">fi</span><span class=\"ecl-site-header__language-link-label\" lang=\"fi\">suomi</span></a></li><li class=\"ecl-site-header__language-item\"><a class=\"ecl-link ecl-link--standalone ecl-link--no-visited ecl-site-header__language-link\" href=\"https://transport.ec.europa.eu/news-events/news_sv?page=0\" hreflang=\"sv\"><span class=\"ecl-site-header__language-link-code\">sv</span><span class=\"ecl-site-header__language-link-label\" lang=\"sv\">svenska</span></a></li></ul></div><div class=\"ecl-site-header__language-category\" data-ecl-language-list-non-eu=\"\"><div class=\"ecl-site-header__language-category-title\">Other languages</div><ul class=\"ecl-site-header__language-list\"><li class=\"ecl-site-header__language-item\"><a class=\"ecl-link ecl-link--standalone ecl-link--no-visited ecl-site-header__language-link\" href=\"https://transport.ec.europa.eu/news-events/news_uk?page=0\" hreflang=\"uk\" lang=\"uk\"><span class=\"ecl-site-header__language-link-code\">uk</span><span class=\"ecl-site-header__language-link-label\">yкраїнська</span></a></li></ul></div></div></div></div>\n",
      "<div class=\"ecl-site-header__search-container\" role=\"search\">\n",
      "<a aria-controls=\"oe-search-search-form\" aria-expanded=\"false\" class=\"ecl-button ecl-button--tertiary ecl-site-header__search-toggle\" data-ecl-search-toggle=\"true\" href=\"\"><svg aria-hidden=\"true\" class=\"ecl-icon ecl-icon--s ecl-site-header__icon\" focusable=\"false\" role=\"img\"><use xlink:href=\"/themes/contrib/oe_theme/dist/ec/images/icons/sprites/icons.svg#search\"></use></svg>Search\n",
      "  </a>\n",
      "<form accept-charset=\"UTF-8\" action=\"/news-events/news_en?page=0\" class=\"ecl-search-form ecl-site-header__search\" data-ecl-search-form=\"\" id=\"oe-search-search-form\" method=\"post\" role=\"search\"><div class=\"ecl-form-group\"><label class=\"ecl-form-label ecl-search-form__label\" for=\"edit-keys\" id=\"edit-keys-label\">Search</label><input class=\"ecl-text-input ecl-text-input--m ecl-search-form__text-input form-search ecl-search-form__text-input\" id=\"edit-keys\" name=\"keys\" type=\"search\"/></div><button class=\"ecl-button ecl-button--ghost ecl-search-form__button ecl-search-form__button\" type=\"submit\"><span class=\"ecl-button__container\"><svg aria-hidden=\"true\" class=\"ecl-icon ecl-icon--xs ecl-button__icon\" data-ecl-icon=\"\" focusable=\"false\"><use xlink:href=\"/themes/contrib/oe_theme/dist/ec/images/icons/sprites/icons.svg#search\"></use></svg><span class=\"ecl-button__label\" data-ecl-label=\"true\">Search</span></span></button><input autocomplete=\"off\" data-drupal-selector=\"form-xfrmbm9zrtavoaepdvcwyahwfrxambuel8kucnb2f6i\" name=\"form_build_id\" type=\"hidden\" value=\"form-XFRMbM9zrTAVoAePdvcWyahWFrxaMBUeL8kUcNb2f6I\"/><input data-drupal-selector=\"edit-oe-search-search-form\" name=\"form_id\" type=\"hidden\" value=\"oe_search_search_form\"/></form>\n",
      "<script type=\"application/json\">{\"service\":\"search\",\"results\":\"in\",\"form\":\".ecl-search-form\",\"lang\":\"en\",\"key\":\"europa_default\"}</script>\n",
      "</div>\n",
      "</div>\n",
      "</div>\n",
      "</div>\n",
      "</div>\n",
      "</div>\n",
      "</div>\n",
      "<div class=\"ecl-site-header__banner\">\n",
      "<div class=\"ecl-container\">\n",
      "<div class=\"ecl-site-header__site-name\">Mobility and Transport</div>\n",
      "</div>\n",
      "</div>\n",
      "<div id=\"block-ewcms-theme-horizontal-menu\">\n",
      "<nav aria-expanded=\"false\" aria-label=\"Site navigation\" class=\"ecl-menu\" data-ecl-auto-init=\"Menu\" data-ecl-menu=\"\" data-ecl-menu-label-close=\"Close\" data-ecl-menu-label-open=\"Menu\" data-ecl-menu-max-lines=\"2\" role=\"navigation\"><div class=\"ecl-menu__overlay\"></div><div class=\"ecl-container ecl-menu__container\"><button aria-expanded=\"false\" class=\"ecl-button ecl-button--tertiary ecl-menu__open ecl-button--icon-only\" data-ecl-menu-open=\"\" type=\"button\"><span class=\"ecl-button__container\"><svg aria-hidden=\"true\" class=\"ecl-icon ecl-icon--m ecl-button__icon\" data-ecl-icon=\"\" focusable=\"false\"><use xlink:href=\"/themes/contrib/oe_theme/dist/ec/images/icons/sprites/icons.svg#hamburger\"></use></svg><svg aria-hidden=\"true\" class=\"ecl-icon ecl-icon--m ecl-button__icon\" data-ecl-icon=\"\" focusable=\"false\"><use xlink:href=\"/themes/contrib/oe_theme/dist/ec/images/icons/sprites/icons.svg#close\"></use></svg><span class=\"ecl-button__label\" data-ecl-label=\"true\">Menu</span></span></button><section aria-label=\"Menu\" class=\"ecl-menu__inner\" data-ecl-menu-inner=\"\"><header class=\"ecl-menu__inner-header\"><button class=\"ecl-button ecl-button--ghost ecl-menu__close ecl-button--icon-only\" data-ecl-menu-close=\"\" type=\"submit\"><span class=\"ecl-button__container\"><span class=\"ecl-button__label\" data-ecl-label=\"true\">Close</span><svg aria-hidden=\"true\" class=\"ecl-icon ecl-icon--m ecl-button__icon\" data-ecl-icon=\"\" focusable=\"false\"><use xlink:href=\"/themes/contrib/oe_theme/dist/ec/images/icons/sprites/icons.svg#close\"></use></svg></span></button><div class=\"ecl-menu__title\">Menu</div><button class=\"ecl-button ecl-button--ghost ecl-menu__back\" data-ecl-menu-back=\"\" type=\"submit\"><span class=\"ecl-button__container\"><svg aria-hidden=\"true\" class=\"ecl-icon ecl-icon--xs ecl-icon--rotate-270 ecl-button__icon\" data-ecl-icon=\"\" focusable=\"false\"><use xlink:href=\"/themes/contrib/oe_theme/dist/ec/images/icons/sprites/icons.svg#corner-arrow\"></use></svg><span class=\"ecl-button__label\" data-ecl-label=\"true\">Back</span></span></button></header><button class=\"ecl-button ecl-button--ghost ecl-menu__item ecl-menu__items-previous ecl-button--icon-only\" data-ecl-menu-items-previous=\"\" tabindex=\"-1\" type=\"button\"><span class=\"ecl-button__container\"><svg aria-hidden=\"true\" class=\"ecl-icon ecl-icon--s ecl-icon--rotate-270 ecl-button__icon\" data-ecl-icon=\"\" focusable=\"false\"><use xlink:href=\"/themes/contrib/oe_theme/dist/ec/images/icons/sprites/icons.svg#corner-arrow\"></use></svg><span class=\"ecl-button__label\" data-ecl-label=\"true\">Previous items</span></span></button><button class=\"ecl-button ecl-button--ghost ecl-menu__item ecl-menu__items-next ecl-button--icon-only\" data-ecl-menu-items-next=\"\" tabindex=\"-1\" type=\"button\"><span class=\"ecl-button__container\"><svg aria-hidden=\"true\" class=\"ecl-icon ecl-icon--s ecl-icon--rotate-90 ecl-button__icon\" data-ecl-icon=\"\" focusable=\"false\"><use xlink:href=\"/themes/contrib/oe_theme/dist/ec/images/icons/sprites/icons.svg#corner-arrow\"></use></svg><span class=\"ecl-button__label\" data-ecl-label=\"true\">Next items</span></span></button><ul class=\"ecl-menu__list\" data-ecl-menu-list=\"\"><li class=\"ecl-menu__item\" data-ecl-menu-item=\"\" id=\"ecl-menu-item-ecl-menu-66084046-0\"><a class=\"ecl-link ecl-link--standalone ecl-menu__link\" data-ecl-menu-link=\"\" data-untranslated-label=\"Home\" href=\"/index_en\" id=\"ecl-menu-item-ecl-menu-66084046-0-link\">Home</a></li><li aria-expanded=\"false\" aria-haspopup=\"\" class=\"ecl-menu__item ecl-menu__item--has-children\" data-ecl-has-children=\"\" data-ecl-menu-item=\"\" id=\"ecl-menu-item-ecl-menu-66084046-1\"><a class=\"ecl-link ecl-link--standalone ecl-menu__link\" data-ecl-menu-link=\"\" data-untranslated-label=\"Ukraine\" href=\"/ukraine_en\" id=\"ecl-menu-item-ecl-menu-66084046-1-link\">Ukraine</a><button aria-describedby=\"ecl-menu-item-ecl-menu-66084046-1-link\" aria-expanded=\"false\" aria-label=\"Access item's children\" class=\"ecl-button ecl-button--ghost ecl-menu__button-caret ecl-button--icon-only\" data-ecl-menu-caret=\"\" type=\"button\"><span class=\"ecl-button__container\"><svg aria-hidden=\"true\" class=\"ecl-icon ecl-icon--xs ecl-icon--rotate-180 ecl-button__icon\" data-ecl-icon=\"\" focusable=\"false\"><use xlink:href=\"/themes/contrib/oe_theme/dist/ec/images/icons/sprites/icons.svg#corner-arrow\"></use></svg></span></button><div class=\"ecl-menu__mega\" data-ecl-menu-mega=\"\"><ul class=\"ecl-menu__sublist\"><li class=\"ecl-menu__subitem\" data-ecl-menu-subitem=\"\"><a class=\"ecl-link ecl-link--standalone ecl-menu__sublink\" data-untranslated-label=\"EU-Ukraine Solidarity Lanes\" href=\"/ukraine/eu-ukraine-solidarity-lanes_en\">EU-Ukraine Solidarity Lanes</a></li><li class=\"ecl-menu__subitem\" data-ecl-menu-subitem=\"\"><a class=\"ecl-link ecl-link--standalone ecl-menu__sublink\" data-untranslated-label=\"Information for people fleeing the war in Ukraine\" href=\"https://ec.europa.eu/info/strategy/priorities-2019-2024/stronger-europe-world/eu-solidarity-ukraine/eu-assistance-ukraine/information-people-fleeing-war-ukraine_en\">Information for people fleeing the war in Ukraine</a></li><li class=\"ecl-menu__subitem ecl-menu__see-all\"><a class=\"ecl-link ecl-link--standalone ecl-link--icon ecl-menu__sublink\" href=\"/ukraine_en\"><span class=\"ecl-link__label\">See all</span><svg aria-hidden=\"true\" class=\"ecl-icon ecl-icon--xs ecl-icon--rotate-180 ecl-link__icon\" focusable=\"false\"><use xlink:href=\"/themes/contrib/oe_theme/dist/ec/images/icons/sprites/icons.svg#arrow-left\"></use></svg></a></li></ul></div></li><li aria-expanded=\"false\" aria-haspopup=\"\" class=\"ecl-menu__item ecl-menu__item--has-children\" data-ecl-has-children=\"\" data-ecl-menu-item=\"\" id=\"ecl-menu-item-ecl-menu-66084046-2\"><a class=\"ecl-link ecl-link--standalone ecl-menu__link\" data-ecl-menu-link=\"\" data-untranslated-label=\"Transport modes\" href=\"/transport-modes_en\" id=\"ecl-menu-item-ecl-menu-66084046-2-link\">Transport modes</a><button aria-describedby=\"ecl-menu-item-ecl-menu-66084046-2-link\" aria-expanded=\"false\" aria-label=\"Access item's children\" class=\"ecl-button ecl-button--ghost ecl-menu__button-caret ecl-button--icon-only\" data-ecl-menu-caret=\"\" type=\"button\"><span class=\"ecl-button__container\"><svg aria-hidden=\"true\" class=\"ecl-icon ecl-icon--xs ecl-icon--rotate-180 ecl-button__icon\" data-ecl-icon=\"\" focusable=\"false\"><use xlink:href=\"/themes/contrib/oe_theme/dist/ec/images/icons/sprites/icons.svg#corner-arrow\"></use></svg></span></button><div class=\"ecl-menu__mega\" data-ecl-menu-mega=\"\"><ul class=\"ecl-menu__sublist\"><li class=\"ecl-menu__subitem\" data-ecl-menu-subitem=\"\"><a class=\"ecl-link ecl-link--standalone ecl-menu__sublink\" data-untranslated-label=\"Air\" href=\"/transport-modes/air_en\">Air</a></li><li class=\"ecl-menu__subitem\" data-ecl-menu-subitem=\"\"><a class=\"ecl-link ecl-link--standalone ecl-menu__sublink\" data-untranslated-label=\"Road\" href=\"/transport-modes/road_en\">Road</a></li><li class=\"ecl-menu__subitem\" data-ecl-menu-subitem=\"\"><a class=\"ecl-link ecl-link--standalone ecl-menu__sublink\" data-untranslated-label=\"Rail\" href=\"/transport-modes/rail_en\">Rail</a></li><li class=\"ecl-menu__subitem\" data-ecl-menu-subitem=\"\"><a class=\"ecl-link ecl-link--standalone ecl-menu__sublink\" data-untranslated-label=\"Maritime\" href=\"/transport-modes/maritime_en\">Maritime</a></li><li class=\"ecl-menu__subitem\" data-ecl-menu-subitem=\"\"><a class=\"ecl-link ecl-link--standalone ecl-menu__sublink\" data-untranslated-label=\"Inland waterways\" href=\"/transport-modes/inland-waterways_en\">Inland waterways</a></li><li class=\"ecl-menu__subitem ecl-menu__see-all\"><a class=\"ecl-link ecl-link--standalone ecl-link--icon ecl-menu__sublink\" href=\"/transport-modes_en\"><span class=\"ecl-link__label\">See all</span><svg aria-hidden=\"true\" class=\"ecl-icon ecl-icon--xs ecl-icon--rotate-180 ecl-link__icon\" focusable=\"false\"><use xlink:href=\"/themes/contrib/oe_theme/dist/ec/images/icons/sprites/icons.svg#arrow-left\"></use></svg></a></li></ul></div></li><li aria-expanded=\"false\" aria-haspopup=\"\" class=\"ecl-menu__item ecl-menu__item--has-children\" data-ecl-has-children=\"\" data-ecl-menu-item=\"\" id=\"ecl-menu-item-ecl-menu-66084046-3\"><a class=\"ecl-link ecl-link--standalone ecl-menu__link\" data-ecl-menu-link=\"\" data-untranslated-label=\"Transport themes\" href=\"/transport-themes_en\" id=\"ecl-menu-item-ecl-menu-66084046-3-link\">Transport themes</a><button aria-describedby=\"ecl-menu-item-ecl-menu-66084046-3-link\" aria-expanded=\"false\" aria-label=\"Access item's children\" class=\"ecl-button ecl-button--ghost ecl-menu__button-caret ecl-button--icon-only\" data-ecl-menu-caret=\"\" type=\"button\"><span class=\"ecl-button__container\"><svg aria-hidden=\"true\" class=\"ecl-icon ecl-icon--xs ecl-icon--rotate-180 ecl-button__icon\" data-ecl-icon=\"\" focusable=\"false\"><use xlink:href=\"/themes/contrib/oe_theme/dist/ec/images/icons/sprites/icons.svg#corner-arrow\"></use></svg></span></button><div class=\"ecl-menu__mega\" data-ecl-menu-mega=\"\"><ul class=\"ecl-menu__sublist\"><li class=\"ecl-menu__subitem\" data-ecl-menu-subitem=\"\"><a class=\"ecl-link ecl-link--standalone ecl-menu__sublink\" data-untranslated-label=\"Mobility Strategy \" href=\"/transport-themes/mobility-strategy_en\">Mobility Strategy </a></li><li class=\"ecl-menu__subitem\" data-ecl-menu-subitem=\"\"><a class=\"ecl-link ecl-link--standalone ecl-menu__sublink\" data-untranslated-label=\"Passenger rights \" href=\"/transport-themes/passenger-rights_en\">Passenger rights </a></li><li class=\"ecl-menu__subitem\" data-ecl-menu-subitem=\"\"><a class=\"ecl-link ecl-link--standalone ecl-menu__sublink\" data-untranslated-label=\"Security &amp; Safety\" href=\"/transport-themes/security-safety_en\">Security &amp; Safety</a></li><li class=\"ecl-menu__subitem\" data-ecl-menu-subitem=\"\"><a class=\"ecl-link ecl-link--standalone ecl-menu__sublink\" data-untranslated-label=\"Clean transport\" href=\"/transport-themes/clean-transport_en\">Clean transport</a></li><li class=\"ecl-menu__subitem\" data-ecl-menu-subitem=\"\"><a class=\"ecl-link ecl-link--standalone ecl-menu__sublink\" data-untranslated-label=\"Urban transport\" href=\"/transport-themes/urban-transport_en\">Urban transport</a></li><li class=\"ecl-menu__subitem\" data-ecl-menu-subitem=\"\"><a class=\"ecl-link ecl-link--standalone ecl-menu__sublink\" data-untranslated-label=\"Sustainable transport\" href=\"/transport-themes/sustainable-transport_en\">Sustainable transport</a></li><li class=\"ecl-menu__subitem\" data-ecl-menu-subitem=\"\"><a class=\"ecl-link ecl-link--standalone ecl-menu__sublink\" data-untranslated-label=\"Infrastructure and Investment\" href=\"/transport-themes/infrastructure-and-investment_en\">Infrastructure and Investment</a></li><li class=\"ecl-menu__subitem\" data-ecl-menu-subitem=\"\"><a class=\"ecl-link ecl-link--standalone ecl-menu__sublink\" data-untranslated-label=\"Smart Mobility\" href=\"/transport-themes/smart-mobility_en\">Smart Mobility</a></li><li class=\"ecl-menu__subitem\" data-ecl-menu-subitem=\"\"><a class=\"ecl-link ecl-link--standalone ecl-menu__sublink\" data-untranslated-label=\"Research and Innovation\" href=\"/transport-themes/research-and-innovation_en\">Research and Innovation</a></li><li class=\"ecl-menu__subitem\" data-ecl-menu-subitem=\"\"><a class=\"ecl-link ecl-link--standalone ecl-menu__sublink\" data-untranslated-label=\"International relations\" href=\"/transport-themes/international-relations_en\">International relations</a></li><li class=\"ecl-menu__subitem\" data-ecl-menu-subitem=\"\"><a class=\"ecl-link ecl-link--standalone ecl-menu__sublink\" data-untranslated-label=\"Public service obligations\" href=\"/transport-themes/public-service-obligations_en\">Public service obligations</a></li><li class=\"ecl-menu__subitem\" data-ecl-menu-subitem=\"\"><a class=\"ecl-link ecl-link--standalone ecl-menu__sublink\" data-untranslated-label=\"Transport of Dangerous Goods\" href=\"/transport-themes/transport-dangerous-goods_en\">Transport of Dangerous Goods</a></li><li class=\"ecl-menu__subitem\" data-ecl-menu-subitem=\"\"><a class=\"ecl-link ecl-link--standalone ecl-menu__sublink\" data-untranslated-label=\"The EU Air Safety List \" href=\"/transport-themes/eu-air-safety-list_en\">The EU Air Safety List </a></li><li class=\"ecl-menu__subitem\" data-ecl-menu-subitem=\"\"><a class=\"ecl-link ecl-link--standalone ecl-menu__sublink\" data-untranslated-label=\"Summertime\" href=\"/transport-themes/summertime_en\">Summertime</a></li><li class=\"ecl-menu__subitem\" data-ecl-menu-subitem=\"\"><a class=\"ecl-link ecl-link--standalone ecl-menu__sublink\" data-untranslated-label=\"Logistics and multimodal transport\" href=\"/transport-themes/logistics-and-multimodal-transport_en\">Logistics and multimodal transport</a></li><li class=\"ecl-menu__subitem\" data-ecl-menu-subitem=\"\"><a class=\"ecl-link ecl-link--standalone ecl-menu__sublink\" data-untranslated-label=\"Digital Transport and Logistics Forum (DTLF)\" href=\"/transport-themes/digital-transport-and-logistics-forum-dtlf_en\">Digital Transport and Logistics Forum (DTLF)</a></li><li class=\"ecl-menu__subitem\" data-ecl-menu-subitem=\"\"><a class=\"ecl-link ecl-link--standalone ecl-menu__sublink\" data-untranslated-label=\"Social issues, Equality and attractiveness of the transport sector\" href=\"/transport-themes/social-issues-equality-and-attractiveness-transport-sector_en\">Social issues, Equality and attractiveness of the transport sector</a></li><li class=\"ecl-menu__subitem ecl-menu__see-all\"><a class=\"ecl-link ecl-link--standalone ecl-link--icon ecl-menu__sublink\" href=\"/transport-themes_en\"><span class=\"ecl-link__label\">See all</span><svg aria-hidden=\"true\" class=\"ecl-icon ecl-icon--xs ecl-icon--rotate-180 ecl-link__icon\" focusable=\"false\"><use xlink:href=\"/themes/contrib/oe_theme/dist/ec/images/icons/sprites/icons.svg#arrow-left\"></use></svg></a></li></ul></div></li><li class=\"ecl-menu__item\" data-ecl-menu-item=\"\" id=\"ecl-menu-item-ecl-menu-66084046-4\"><a class=\"ecl-link ecl-link--standalone ecl-menu__link\" data-ecl-menu-link=\"\" data-untranslated-label=\"EU Mobility &amp; Transport achievements 2019-2024\" href=\"/eu-mobility-transport-achievements-2019-2024_en\" id=\"ecl-menu-item-ecl-menu-66084046-4-link\">EU Mobility &amp; Transport achievements 2019-2024</a></li><li aria-expanded=\"false\" aria-haspopup=\"\" class=\"ecl-menu__item ecl-menu__item--current ecl-menu__item--has-children\" data-ecl-has-children=\"\" data-ecl-menu-item=\"\" id=\"ecl-menu-item-ecl-menu-66084046-5\"><a class=\"ecl-link ecl-link--standalone ecl-menu__link ecl-menu__link--current\" data-ecl-menu-link=\"\" data-untranslated-label=\"News &amp; Events\" href=\"/news-events_en\" id=\"ecl-menu-item-ecl-menu-66084046-5-link\">News &amp; Events</a><button aria-describedby=\"ecl-menu-item-ecl-menu-66084046-5-link\" aria-expanded=\"false\" aria-label=\"Access item's children\" class=\"ecl-button ecl-button--ghost ecl-menu__button-caret ecl-button--icon-only\" data-ecl-menu-caret=\"\" type=\"button\"><span class=\"ecl-button__container\"><svg aria-hidden=\"true\" class=\"ecl-icon ecl-icon--xs ecl-icon--rotate-180 ecl-button__icon\" data-ecl-icon=\"\" focusable=\"false\"><use xlink:href=\"/themes/contrib/oe_theme/dist/ec/images/icons/sprites/icons.svg#corner-arrow\"></use></svg></span></button><div class=\"ecl-menu__mega\" data-ecl-menu-mega=\"\"><ul class=\"ecl-menu__sublist\"><li class=\"ecl-menu__subitem ecl-menu__subitem--current\" data-ecl-menu-subitem=\"\"><a aria-current=\"page\" class=\"ecl-link ecl-link--standalone ecl-menu__sublink ecl-menu__sublink--current\" data-untranslated-label=\"News\" href=\"/news-events/news_en\">News</a></li><li class=\"ecl-menu__subitem\" data-ecl-menu-subitem=\"\"><a class=\"ecl-link ecl-link--standalone ecl-menu__sublink\" data-untranslated-label=\"Events\" href=\"/news-events/events_en\">Events</a></li><li class=\"ecl-menu__subitem\" data-ecl-menu-subitem=\"\"><a class=\"ecl-link ecl-link--standalone ecl-menu__sublink\" data-untranslated-label=\"Main events\" href=\"/news-events/main-events_en\">Main events</a></li><li class=\"ecl-menu__subitem\" data-ecl-menu-subitem=\"\"><a class=\"ecl-link ecl-link--standalone ecl-menu__sublink\" data-untranslated-label=\"Newsletter\" href=\"/news-events/newsletter_en\">Newsletter</a></li><li class=\"ecl-menu__subitem\" data-ecl-menu-subitem=\"\"><a class=\"ecl-link ecl-link--standalone ecl-menu__sublink\" data-untranslated-label=\"Infringements proceedings\" href=\"/news-events/infringements-proceedings_en\">Infringements proceedings</a></li><li class=\"ecl-menu__subitem\" data-ecl-menu-subitem=\"\"><a class=\"ecl-link ecl-link--standalone ecl-menu__sublink\" data-untranslated-label=\"Videos\" href=\"https://audiovisual.ec.europa.eu/en/search?thesaurus=2863\">Videos</a></li><li class=\"ecl-menu__subitem ecl-menu__see-all\"><a class=\"ecl-link ecl-link--standalone ecl-link--icon ecl-menu__sublink\" href=\"/news-events_en\"><span class=\"ecl-link__label\">See all</span><svg aria-hidden=\"true\" class=\"ecl-icon ecl-icon--xs ecl-icon--rotate-180 ecl-link__icon\" focusable=\"false\"><use xlink:href=\"/themes/contrib/oe_theme/dist/ec/images/icons/sprites/icons.svg#arrow-left\"></use></svg></a></li></ul></div></li><li aria-expanded=\"false\" aria-haspopup=\"\" class=\"ecl-menu__item ecl-menu__item--has-children\" data-ecl-has-children=\"\" data-ecl-menu-item=\"\" id=\"ecl-menu-item-ecl-menu-66084046-6\"><a class=\"ecl-link ecl-link--standalone ecl-menu__link\" data-ecl-menu-link=\"\" data-untranslated-label=\"Facts &amp; Funding\" href=\"/facts-funding_en\" id=\"ecl-menu-item-ecl-menu-66084046-6-link\">Facts &amp; Funding</a><button aria-describedby=\"ecl-menu-item-ecl-menu-66084046-6-link\" aria-expanded=\"false\" aria-label=\"Access item's children\" class=\"ecl-button ecl-button--ghost ecl-menu__button-caret ecl-button--icon-only\" data-ecl-menu-caret=\"\" type=\"button\"><span class=\"ecl-button__container\"><svg aria-hidden=\"true\" class=\"ecl-icon ecl-icon--xs ecl-icon--rotate-180 ecl-button__icon\" data-ecl-icon=\"\" focusable=\"false\"><use xlink:href=\"/themes/contrib/oe_theme/dist/ec/images/icons/sprites/icons.svg#corner-arrow\"></use></svg></span></button><div class=\"ecl-menu__mega\" data-ecl-menu-mega=\"\"><ul class=\"ecl-menu__sublist\"><li class=\"ecl-menu__subitem\" data-ecl-menu-subitem=\"\"><a class=\"ecl-link ecl-link--standalone ecl-menu__sublink\" data-untranslated-label=\"Studies &amp; data\" href=\"/facts-funding/studies-data_en\">Studies &amp; data</a></li><li class=\"ecl-menu__subitem\" data-ecl-menu-subitem=\"\"><a class=\"ecl-link ecl-link--standalone ecl-menu__sublink\" data-untranslated-label=\"Economic Modelling\" href=\"https://energy.ec.europa.eu/data-and-analysis/energy-modelling_en\">Economic Modelling</a></li><li class=\"ecl-menu__subitem\" data-ecl-menu-subitem=\"\"><a class=\"ecl-link ecl-link--standalone ecl-menu__sublink\" data-untranslated-label=\"Summaries of EU Legislation (Eur-Lex)\" href=\"https://eur-lex.europa.eu/summary/chapter/transport.html?root_default=SUM_1_CODED=32\">Summaries of EU Legislation (Eur-Lex)</a></li><li class=\"ecl-menu__subitem\" data-ecl-menu-subitem=\"\"><a class=\"ecl-link ecl-link--standalone ecl-menu__sublink\" data-untranslated-label=\"Financing decisions\" href=\"/facts-funding/financing-decisions-policy-support-and-pilot-projects-and-preparatory-actions_en\">Financing decisions</a></li><li class=\"ecl-menu__subitem\" data-ecl-menu-subitem=\"\"><a class=\"ecl-link ecl-link--standalone ecl-menu__sublink\" data-untranslated-label=\"Grants\" href=\"/facts-funding/grants-calls-proposals-field-transport_en\">Grants</a></li><li class=\"ecl-menu__subitem\" data-ecl-menu-subitem=\"\"><a class=\"ecl-link ecl-link--standalone ecl-menu__sublink\" data-untranslated-label=\"Calls for tenders\" href=\"/facts-funding/calls-tenders_en\">Calls for tenders</a></li><li class=\"ecl-menu__subitem ecl-menu__see-all\"><a class=\"ecl-link ecl-link--standalone ecl-link--icon ecl-menu__sublink\" href=\"/facts-funding_en\"><span class=\"ecl-link__label\">See all</span><svg aria-hidden=\"true\" class=\"ecl-icon ecl-icon--xs ecl-icon--rotate-180 ecl-link__icon\" focusable=\"false\"><use xlink:href=\"/themes/contrib/oe_theme/dist/ec/images/icons/sprites/icons.svg#arrow-left\"></use></svg></a></li></ul></div></li></ul></section></div></nav>\n",
      "</div>\n",
      "</header>\n",
      "<div class=\"ecl-u-mb-2xl\" id=\"block-ewcms-theme-page-header\">\n",
      "<div class=\"ecl-page-header\"><div class=\"ecl-container\"><nav aria-label=\"\" class=\"ecl-breadcrumb ecl-page-header__breadcrumb\" data-ecl-breadcrumb=\"true\"><ol class=\"ecl-breadcrumb__container\"><li class=\"ecl-breadcrumb__segment\" data-ecl-breadcrumb-item=\"static\"><a class=\"ecl-link ecl-link--standalone ecl-link--no-visited ecl-breadcrumb__link\" href=\"https://transport.ec.europa.eu/index_en\">Home</a><svg aria-hidden=\"true\" class=\"ecl-icon ecl-icon--fluid ecl-breadcrumb__icon\" focusable=\"false\" role=\"presentation\"><use xlink:href=\"/themes/contrib/oe_theme/dist/ec/images/icons/sprites/icons.svg#corner-arrow\"></use></svg></li><li class=\"ecl-breadcrumb__segment\" data-ecl-breadcrumb-item=\"static\"><a class=\"ecl-link ecl-link--standalone ecl-link--no-visited ecl-breadcrumb__link\" href=\"/news-events_en\">News &amp; Events</a><svg aria-hidden=\"true\" class=\"ecl-icon ecl-icon--fluid ecl-breadcrumb__icon\" focusable=\"false\" role=\"presentation\"><use xlink:href=\"/themes/contrib/oe_theme/dist/ec/images/icons/sprites/icons.svg#corner-arrow\"></use></svg></li><li aria-current=\"page\" class=\"ecl-breadcrumb__segment ecl-breadcrumb__current-page\" data-ecl-breadcrumb-item=\"static\"><span>News</span></li></ol></nav><div class=\"ecl-page-header__info\"><h1 class=\"ecl-page-header__title\"><span>News</span></h1></div></div></div>\n",
      "</div>\n",
      "<main class=\"ecl-u-pb-xl\" data-inpage-navigation-source-area=\"h2.ecl-u-type-heading-2, div.ecl-featured-item__heading\" id=\"main-content\">\n",
      "<div class=\"ecl-container\">\n",
      "<div class=\"ecl-row\">\n",
      "<div class=\"ecl-col-s-12 ewcms-top-sidebar\">\n",
      "<div>\n",
      "<div class=\"hidden\" data-drupal-messages-fallback=\"\"></div>\n",
      "</div>\n",
      "</div>\n",
      "</div>\n",
      "<div class=\"ecl-row\">\n",
      "<div class=\"ecl-col-s-12\">\n",
      "<div class=\"ecl-u-mb-l\" data-inpage-navigation-source-area=\"h2, div.ecl-featured-item__heading\" id=\"block-ewcms-theme-main-page-content\">\n",
      "<article dir=\"ltr\">\n",
      "<div>\n",
      "<div class=\"ecl-row\">\n",
      "<div class=\"ecl-col-s-12 ecl-col-m-3\">\n",
      "<div class=\"ecl-u-border-bottom ecl-u-border-width-2\">\n",
      "<h4 class=\"ecl-u-type-heading-4 ecl-u-mb-s\">Filter by</h4>\n",
      "</div>\n",
      "<form accept-charset=\"UTF-8\" action=\"/news-events/news_en?page=0\" class=\"oe-list-pages-facets-form ecl-form\" data-drupal-selector=\"oe-list-pages-facets-form\" id=\"oe-list-pages-facets-form\" method=\"post\"><div class=\"facet-empty facet-hidden js-form-wrapper form-wrapper ecl-form-group\" data-drupal-facet-id=\"oe_news_title\" data-drupal-selector=\"edit-0\" id=\"edit-0\"><div class=\"js-form-item form-item js-form-type-textfield form-item-oe-news-title js-form-item-oe-news-title ecl-form-group ecl-form-group--text-input ecl-u-mv-m\">\n",
      "<label class=\"ecl-form-label\" for=\"edit-oe-news-title--2\">Keywords</label>\n",
      "<input class=\"form-text ecl-text-input ecl-u-mt-none\" data-drupal-selector=\"edit-oe-news-title\" id=\"edit-oe-news-title--2\" maxlength=\"128\" name=\"oe_news_title\" size=\"60\" type=\"text\" value=\"\"/>\n",
      "</div>\n",
      "</div>\n",
      "<div class=\"js-form-item form-item js-form-type-select form-item-oe-news-types js-form-item-oe-news-types ecl-form-group ecl-form-group--select ecl-u-mv-m\">\n",
      "<label class=\"ecl-form-label\" for=\"edit-oe-news-types--2\">News type</label>\n",
      "<div class=\"ecl-form-group form-select form-select\" data-drupal-selector=\"edit-oe-news-types\" id=\"edit-oe-news-types--2\" multiple=\"multiple\" name=\"oe_news_types[]\"><div class=\"ecl-select__container ecl-select__container--m\"><select class=\"ecl-select\" data-ecl-auto-init=\"Select\" data-ecl-select-all=\"Select all\" data-ecl-select-clear-all=\"Clear all\" data-ecl-select-close=\"Close\" data-ecl-select-default=\"Select\" data-ecl-select-multiple=\"\" data-ecl-select-no-results=\"\" data-ecl-select-search=\"Filter results\" id=\"edit-oe-news-types--2\" multiple=\"\" name=\"oe_news_types[]\"><option value=\"http://publications.europa.eu/resource/authority/resource-type/ARTICLE_NEWS\">News article</option><option value=\"http://publications.europa.eu/resource/authority/resource-type/PRESS_REL\">Press release</option><option value=\"http://publications.europa.eu/resource/authority/resource-type/SPEECH\">Speech</option><option value=\"http://publications.europa.eu/resource/authority/resource-type/INFO_SUPPL\">Supplementary information</option></select><div class=\"ecl-select__icon\"><button class=\"ecl-button ecl-button--ghost ecl-button--icon-only\" tabindex=\"-1\" type=\"button\"><span class=\"ecl-button__container\"><span class=\"ecl-button__label\" data-ecl-label=\"true\">Toggle dropdown</span><svg aria-hidden=\"true\" class=\"ecl-icon ecl-icon--xs ecl-icon--rotate-180 ecl-button__icon\" data-ecl-icon=\"\" focusable=\"false\"><use xlink:href=\"/themes/contrib/oe_theme/dist/ec/images/icons/sprites/icons.svg#corner-arrow\"></use></svg></span></button></div></div></div>\n",
      "</div>\n",
      "<div class=\"js-form-item form-item js-form-type-select form-item-oe-news-subject js-form-item-oe-news-subject ecl-form-group ecl-form-group--select ecl-u-mv-m\">\n",
      "<label class=\"ecl-form-label\" for=\"edit-oe-news-subject--2\">Subject</label>\n",
      "<div class=\"ecl-form-group form-select form-select\" data-drupal-selector=\"edit-oe-news-subject\" id=\"edit-oe-news-subject--2\" multiple=\"multiple\" name=\"oe_news_subject[]\"><div class=\"ecl-select__container ecl-select__container--m\"><select class=\"ecl-select\" data-ecl-auto-init=\"Select\" data-ecl-select-all=\"Select all\" data-ecl-select-clear-all=\"Clear all\" data-ecl-select-close=\"Close\" data-ecl-select-default=\"Select\" data-ecl-select-multiple=\"\" data-ecl-select-no-results=\"\" data-ecl-select-search=\"Filter results\" id=\"edit-oe-news-subject--2\" multiple=\"\" name=\"oe_news_subject[]\"><option value=\"http://data.europa.eu/uxp/2494\">transport policy</option><option value=\"http://data.europa.eu/uxp/4505\">air transport</option><option value=\"http://data.europa.eu/uxp/4514\">rail transport</option><option value=\"http://data.europa.eu/uxp/1433\">transport infrastructure</option><option value=\"http://data.europa.eu/uxp/4522\">maritime transport</option><option value=\"http://data.europa.eu/uxp/4533\">road transport</option><option value=\"http://data.europa.eu/uxp/6850\">sustainable mobility</option><option value=\"http://data.europa.eu/uxp/5814\">infringement procedure (EU)</option><option value=\"http://data.europa.eu/uxp/4219\">tendering</option><option value=\"http://data.europa.eu/uxp/4541\">urban transport</option><option value=\"http://data.europa.eu/uxp/6851\">intelligent transport system</option><option value=\"http://data.europa.eu/uxp/4047\">road safety</option><option value=\"http://data.europa.eu/uxp/c_a02c420c\">passenger rights</option><option value=\"http://data.europa.eu/uxp/det_110\">war in Ukraine</option><option value=\"http://data.europa.eu/uxp/4519\">international transport</option><option value=\"http://data.europa.eu/uxp/4515\">inland waterway transport</option><option value=\"http://data.europa.eu/uxp/5887\">air safety</option><option value=\"http://data.europa.eu/uxp/c_c8c80a5b\">aviation security</option><option value=\"http://data.europa.eu/uxp/4506\">multimodal transport</option><option value=\"http://data.europa.eu/uxp/4033\">transport safety</option><option value=\"http://data.europa.eu/uxp/2350\">transport staff</option><option value=\"http://data.europa.eu/uxp/5889\">maritime safety</option><option value=\"http://data.europa.eu/uxp/det_374\">maritime security</option><option value=\"http://data.europa.eu/uxp/det_813\">rail safety</option><option value=\"http://data.europa.eu/uxp/1161\">logistics</option><option value=\"http://data.europa.eu/uxp/8418\">public consultation</option><option value=\"http://data.europa.eu/uxp/3913\">gender equality</option><option value=\"http://data.europa.eu/uxp/4539\">land transport</option><option value=\"http://data.europa.eu/uxp/det_1100\">transport research</option><option value=\"http://data.europa.eu/uxp/1052\">fund (EU)</option><option value=\"http://data.europa.eu/uxp/det_48\">COVID-19</option><option value=\"http://data.europa.eu/uxp/2041\">maritime shipping</option><option value=\"http://data.europa.eu/uxp/c_52792cef\">Single European Sky</option><option value=\"http://data.europa.eu/uxp/1241\">summertime</option><option value=\"http://data.europa.eu/uxp/3139\">environmental impact</option><option value=\"http://data.europa.eu/uxp/5953\">infringement of EU law</option><option value=\"http://data.europa.eu/uxp/3461\">international agreement</option><option value=\"http://data.europa.eu/uxp/2474\">competition policy</option><option value=\"http://data.europa.eu/uxp/c_5b447e3a\">crisis management</option><option value=\"http://data.europa.eu/uxp/2825\">environmental protection</option><option value=\"http://data.europa.eu/uxp/7932\">European neighbourhood policy</option><option value=\"http://data.europa.eu/uxp/1469\">inclusion</option><option value=\"http://data.europa.eu/uxp/3163\">pollution from ships</option><option value=\"http://data.europa.eu/uxp/det_90\">recovery from the coronavirus pandemic</option><option value=\"http://data.europa.eu/uxp/det_10\">smart city</option><option value=\"http://data.europa.eu/uxp/3899\">social rights</option><option value=\"http://data.europa.eu/uxp/5933\">trafficking in human beings</option><option value=\"http://data.europa.eu/uxp/3160\">transport regulations</option><option value=\"http://data.europa.eu/uxp/4690\">Western Balkans</option></select><div class=\"ecl-select__icon\"><button class=\"ecl-button ecl-button--ghost ecl-button--icon-only\" tabindex=\"-1\" type=\"button\"><span class=\"ecl-button__container\"><span class=\"ecl-button__label\" data-ecl-label=\"true\">Toggle dropdown</span><svg aria-hidden=\"true\" class=\"ecl-icon ecl-icon--xs ecl-icon--rotate-180 ecl-button__icon\" data-ecl-icon=\"\" focusable=\"false\"><use xlink:href=\"/themes/contrib/oe_theme/dist/ec/images/icons/sprites/icons.svg#corner-arrow\"></use></svg></span></button></div></div></div>\n",
      "</div>\n",
      "<input autocomplete=\"off\" data-drupal-selector=\"form-uohvpqzawnlbsusj4ip9p8bb3odurstw-lw8zy12k08\" name=\"form_build_id\" type=\"hidden\" value=\"form-UOHvpQZaWNlBSuSJ4iP9P8bB3ODuRSTW-lW8ZY12K08\"/>\n",
      "<input data-drupal-selector=\"edit-oe-list-pages-facets-form\" name=\"form_id\" type=\"hidden\" value=\"oe_list_pages_facets_form\"/>\n",
      "<div class=\"form-actions js-form-wrapper form-wrapper ecl-form-group\" data-drupal-selector=\"edit-actions\" id=\"edit-actions\">\n",
      "<button class=\"button js-form-submit form-submit\" data-drupal-selector=\"edit-submit\" id=\"edit-submit\" name=\"op\" type=\"submit\" value=\"Search\">Search</button>\n",
      "<button class=\"button button--secondary js-form-submit form-submit\" data-drupal-selector=\"edit-reset\" id=\"edit-reset\" name=\"op\" type=\"submit\" value=\"Clear filters\">Clear filters</button></div>\n",
      "</form>\n",
      "</div>\n",
      "<div class=\"ecl-col-s-12 ecl-col-m-9\">\n",
      "<div class=\"ecl-u-border-bottom ecl-u-border-width-2 ecl-u-d-flex ecl-u-justify-content-between ecl-u-align-items-end\">\n",
      "<h4 class=\"ecl-u-type-heading-4 ecl-u-mb-s\">\n",
      "<span>News</span>\n",
      "<span> (1246)</span>\n",
      "</h4>\n",
      "<a class=\"ecl-link ecl-link--standalone ecl-link--icon ecl-u-mb-s\" href=\"/node/2/rss_en\"><svg aria-hidden=\"true\" class=\"ecl-icon ecl-icon--s ecl-link__icon\" focusable=\"false\"><use xlink:href=\"/themes/contrib/oe_theme/dist/ec/images/icons/sprites/icons.svg#rss\"></use></svg><span class=\"ecl-link__label\">RSS</span></a>\n",
      "</div>\n",
      "<div class=\"ecl-u-type-heading-5 ecl-u-type-color-dark-100 ecl-u-mt-m ecl-u-mv-m\">\n",
      "<div>\n",
      "<div>Showing results 1 to 10</div>\n",
      "</div>\n",
      "</div>\n",
      "<div class=\"ecl-u-mb-l\">\n",
      "<div>\n",
      "<div></div>\n",
      "</div>\n",
      "</div>\n",
      "<div>\n",
      "<div><div class=\"ecl-content-item-block\"><div class=\"ecl-row\"><div class=\"ecl-content-item-block__item contextual-region ecl-u-mb-l ecl-col-12\"><div data-contextual-id=\"node:node=3864:\" data-contextual-token=\"FsIpHy1-eR819dEL6zzN3vB1mwNA5IJpwtqJvFX19qo\" data-drupal-ajax-container=\"\"></div><article class=\"ecl-content-item\"><div class=\"ecl-content-block ecl-content-item__content-block\" data-ecl-auto-init=\"ContentBlock\" data-ecl-content-block=\"\"><ul class=\"ecl-content-block__primary-meta-container\"><li class=\"ecl-content-block__primary-meta-item\">News article</li><li class=\"ecl-content-block__primary-meta-item\"><time datetime=\"2024-10-17T12:00:00Z\">17 October 2024</time></li></ul><div class=\"ecl-content-block__title\" data-ecl-title-link=\"\"><a class=\"ecl-link ecl-link--standalone\" href=\"/news-events/news/solidarity-lanes-latest-figures-september-2024-2024-10-17_en\">Solidarity Lanes: Latest figures – September 2024</a></div><div class=\"ecl-content-block__description\"><p>Latest figures on Ukrainian exports and imports via the EU-Ukraine Solidarity Lanes: new transport routes established in the face of Russia’s war of aggression against Ukraine.</p></div><ul class=\"ecl-content-block__secondary-meta-container\"><li class=\"ecl-content-block__secondary-meta-item\"><svg aria-hidden=\"true\" class=\"ecl-icon ecl-icon--s ecl-content-block__secondary-meta-icon\" focusable=\"false\"><use xlink:href=\"/themes/contrib/oe_theme/dist/ec/images/icons/sprites/icons.svg#clock\"></use></svg><span class=\"ecl-content-block__secondary-meta-label\">3 min read</span></li></ul><div class=\"ecl-content-block__list-container\"></div></div></article></div><div class=\"ecl-content-item-block__item contextual-region ecl-u-mb-l ecl-col-12\"><div data-contextual-id=\"node:node=3858:\" data-contextual-token=\"Tv1Tk9YmHAMvjpUNcKlh7nNG4ODp9nDjMIvxIJr6Hng\" data-drupal-ajax-container=\"\"></div><article class=\"ecl-content-item\"><div class=\"ecl-content-block ecl-content-item__content-block\" data-ecl-auto-init=\"ContentBlock\" data-ecl-content-block=\"\"><ul class=\"ecl-content-block__primary-meta-container\"><li class=\"ecl-content-block__primary-meta-item\">News article</li><li class=\"ecl-content-block__primary-meta-item\"><time datetime=\"2024-10-10T12:00:00Z\">10 October 2024</time></li></ul><div class=\"ecl-content-block__title\" data-ecl-title-link=\"\"><a class=\"ecl-link ecl-link--standalone\" href=\"/news-events/news/20400-lives-lost-eu-road-crashes-last-year-2024-10-10_en\">20,400 lives lost in EU road crashes last year</a></div><div class=\"ecl-content-block__description\"><p>In 2023, 20,400 people lost their lives in road crashes across the EU, marking a 1% decrease from the previous year, with 46 road deaths per million inhabitants.</p></div><ul class=\"ecl-content-block__secondary-meta-container\"><li class=\"ecl-content-block__secondary-meta-item\"><svg aria-hidden=\"true\" class=\"ecl-icon ecl-icon--s ecl-content-block__secondary-meta-icon\" focusable=\"false\"><use xlink:href=\"/themes/contrib/oe_theme/dist/ec/images/icons/sprites/icons.svg#clock\"></use></svg><span class=\"ecl-content-block__secondary-meta-label\">3 min read</span></li></ul><div class=\"ecl-content-block__list-container\"></div></div></article></div><div class=\"ecl-content-item-block__item contextual-region ecl-u-mb-l ecl-col-12\"><div data-contextual-id=\"node:node=3857:\" data-contextual-token=\"DbqWfnlne-AU1bFqlQohbvwMpgSeOedribY_Iepv21g\" data-drupal-ajax-container=\"\"></div><article class=\"ecl-content-item\"><div class=\"ecl-content-block ecl-content-item__content-block\" data-ecl-auto-init=\"ContentBlock\" data-ecl-content-block=\"\"><ul class=\"ecl-content-block__primary-meta-container\"><li class=\"ecl-content-block__primary-meta-item\">News article</li><li class=\"ecl-content-block__primary-meta-item\"><time datetime=\"2024-10-03T12:00:00Z\">3 October 2024</time></li></ul><div class=\"ecl-content-block__title\" data-ecl-title-link=\"\"><a class=\"ecl-link ecl-link--standalone\" href=\"https://ec.europa.eu/commission/presscorner/detail/en/inf_24_4561\">October infringements package: key decisions</a></div><div class=\"ecl-content-block__description\"><p>In its regular package of infringement decisions, the European Commission pursues legal action against Member States for failing to comply with their obligations under EU law.</p></div><div class=\"ecl-content-block__list-container\"></div></div></article></div><div class=\"ecl-content-item-block__item contextual-region ecl-u-mb-l ecl-col-12\"><div data-contextual-id=\"node:node=3856:\" data-contextual-token=\"FDMiS6Ar08Tfdt_qGiFxEsFyygmP3y_Z6Jb3JvpIccs\" data-drupal-ajax-container=\"\"></div><article class=\"ecl-content-item\"><div class=\"ecl-content-block ecl-content-item__content-block\" data-ecl-auto-init=\"ContentBlock\" data-ecl-content-block=\"\"><ul class=\"ecl-content-block__primary-meta-container\"><li class=\"ecl-content-block__primary-meta-item\">News article</li><li class=\"ecl-content-block__primary-meta-item\"><time datetime=\"2024-10-02T12:00:00Z\">2 October 2024</time></li></ul><div class=\"ecl-content-block__title\" data-ecl-title-link=\"\"><a class=\"ecl-link ecl-link--standalone\" href=\"/news-events/news/single-european-sky-annual-monitoring-highlights-persistent-capacity-shortages-and-failure-meet-2024-10-02_en\">Single European Sky: annual monitoring highlights persistent capacity shortages and failure to meet environmental targets in 2023, as traffic recovers</a></div><div class=\"ecl-content-block__description\"><p>The Performance Review Body (PRB) has published the 2023 Annual Monitoring Report and Traffic Light System - part of its yearly review of how Single European Sky (SES) Member States are performing.</p></div><ul class=\"ecl-content-block__secondary-meta-container\"><li class=\"ecl-content-block__secondary-meta-item\"><svg aria-hidden=\"true\" class=\"ecl-icon ecl-icon--s ecl-content-block__secondary-meta-icon\" focusable=\"false\"><use xlink:href=\"/themes/contrib/oe_theme/dist/ec/images/icons/sprites/icons.svg#clock\"></use></svg><span class=\"ecl-content-block__secondary-meta-label\">1 min read</span></li></ul><div class=\"ecl-content-block__list-container\"></div></div></article></div><div class=\"ecl-content-item-block__item contextual-region ecl-u-mb-l ecl-col-12\"><div data-contextual-id=\"node:node=3851:\" data-contextual-token=\"6wXc8y07vbV_a7fhYDiFHfHLvy1AeXO7Wb6VY9ph0iQ\" data-drupal-ajax-container=\"\"></div><article class=\"ecl-content-item\"><div class=\"ecl-content-block ecl-content-item__content-block\" data-ecl-auto-init=\"ContentBlock\" data-ecl-content-block=\"\"><ul class=\"ecl-content-block__primary-meta-container\"><li class=\"ecl-content-block__primary-meta-item\">News article</li><li class=\"ecl-content-block__primary-meta-item\"><time datetime=\"2024-09-25T12:00:00Z\">25 September 2024</time></li></ul><div class=\"ecl-content-block__title\" data-ecl-title-link=\"\"><a class=\"ecl-link ecl-link--standalone\" href=\"/news-events/news/women-rail-2024-award-boost-female-talent-sustainable-and-competitive-rail-industry-2024-09-25_en\">Women in Rail 2024 Award to boost female talent for a sustainable and competitive rail industry</a></div><div class=\"ecl-content-block__description\"><p>The Commission together with Europe’s Rail Joint Undertaking and the EU Agency for Railways celebrated the Women in Rail 2024 Award.</p></div><ul class=\"ecl-content-block__secondary-meta-container\"><li class=\"ecl-content-block__secondary-meta-item\"><svg aria-hidden=\"true\" class=\"ecl-icon ecl-icon--s ecl-content-block__secondary-meta-icon\" focusable=\"false\"><use xlink:href=\"/themes/contrib/oe_theme/dist/ec/images/icons/sprites/icons.svg#clock\"></use></svg><span class=\"ecl-content-block__secondary-meta-label\">1 min read</span></li></ul><div class=\"ecl-content-block__list-container\"></div></div></article></div><div class=\"ecl-content-item-block__item contextual-region ecl-u-mb-l ecl-col-12\"><div data-contextual-id=\"node:node=3847:\" data-contextual-token=\"SaNRGi5BgG_q8e4gr_e991Kri0iR8Ohb7WAAjTbH7As\" data-drupal-ajax-container=\"\"></div><article class=\"ecl-content-item\"><div class=\"ecl-content-block ecl-content-item__content-block\" data-ecl-auto-init=\"ContentBlock\" data-ecl-content-block=\"\"><ul class=\"ecl-content-block__primary-meta-container\"><li class=\"ecl-content-block__primary-meta-item\">News article</li><li class=\"ecl-content-block__primary-meta-item\"><time datetime=\"2024-09-25T12:00:00Z\">25 September 2024</time></li></ul><div class=\"ecl-content-block__title\" data-ecl-title-link=\"\"><a class=\"ecl-link ecl-link--standalone\" href=\"/news-events/news/commission-seeks-feedback-flight-emissions-label-2024-09-25_en\">Commission seeks feedback on the Flight Emissions Label</a></div><div class=\"ecl-content-block__description\"><p>The Commission has launched a public consultation on the draft proposal establishing the EU Flight Emissions Label.</p></div><ul class=\"ecl-content-block__secondary-meta-container\"><li class=\"ecl-content-block__secondary-meta-item\"><svg aria-hidden=\"true\" class=\"ecl-icon ecl-icon--s ecl-content-block__secondary-meta-icon\" focusable=\"false\"><use xlink:href=\"/themes/contrib/oe_theme/dist/ec/images/icons/sprites/icons.svg#clock\"></use></svg><span class=\"ecl-content-block__secondary-meta-label\">2 min read</span></li></ul><div class=\"ecl-content-block__list-container\"></div></div></article></div><div class=\"ecl-content-item-block__item contextual-region ecl-u-mb-l ecl-col-12\"><div data-contextual-id=\"node:node=3848:\" data-contextual-token=\"5U9a-4G9dQpOFpbJub7vD3tYz3Ee4c9fMCqSnGHKtQE\" data-drupal-ajax-container=\"\"></div><article class=\"ecl-content-item\"><div class=\"ecl-content-block ecl-content-item__content-block\" data-ecl-auto-init=\"ContentBlock\" data-ecl-content-block=\"\"><ul class=\"ecl-content-block__primary-meta-container\"><li class=\"ecl-content-block__primary-meta-item\">News article</li><li class=\"ecl-content-block__primary-meta-item\"><time datetime=\"2024-09-24T12:00:00Z\">24 September 2024</time></li></ul><div class=\"ecl-content-block__title\" data-ecl-title-link=\"\"><a class=\"ecl-link ecl-link--standalone\" href=\"/news-events/news/cef-transport-eu25-billion-boost-resilience-and-safety-across-eu-transport-network-2024-09-24_en\">CEF Transport: €2.5 billion to boost resilience and safety across the EU transport network</a></div><div class=\"ecl-content-block__description\"><p>The 2024 CEF for Transport call for proposals makes €2.5 billion available for projects that will modernise transport infrastructure on the EU’s TEN-T network, and in Ukraine and Moldova.</p></div><ul class=\"ecl-content-block__secondary-meta-container\"><li class=\"ecl-content-block__secondary-meta-item\"><svg aria-hidden=\"true\" class=\"ecl-icon ecl-icon--s ecl-content-block__secondary-meta-icon\" focusable=\"false\"><use xlink:href=\"/themes/contrib/oe_theme/dist/ec/images/icons/sprites/icons.svg#clock\"></use></svg><span class=\"ecl-content-block__secondary-meta-label\">1 min read</span></li></ul><div class=\"ecl-content-block__list-container\"></div></div></article></div><div class=\"ecl-content-item-block__item contextual-region ecl-u-mb-l ecl-col-12\"><div data-contextual-id=\"node:node=3846:\" data-contextual-token=\"5zFKmWymUANs1JltuLQD47XlgiE7gdEjCpuiIjMMo4Q\" data-drupal-ajax-container=\"\"></div><article class=\"ecl-content-item\"><div class=\"ecl-content-block ecl-content-item__content-block\" data-ecl-auto-init=\"ContentBlock\" data-ecl-content-block=\"\"><ul class=\"ecl-content-block__primary-meta-container\"><li class=\"ecl-content-block__primary-meta-item\">News article</li><li class=\"ecl-content-block__primary-meta-item\"><time datetime=\"2024-09-23T12:00:00Z\">23 September 2024</time></li></ul><div class=\"ecl-content-block__title\" data-ecl-title-link=\"\"><a class=\"ecl-link ecl-link--standalone\" href=\"/news-events/news/rail-market-opening-competition-leads-lower-ticket-prices-eu-study-finds-2024-09-23_en\">Rail market opening: competition leads to lower ticket prices, EU study finds</a></div><div class=\"ecl-content-block__description\"><p>A study released by the European Commission highlights the user benefits of competition in both passenger rail and rail freight services.</p></div><ul class=\"ecl-content-block__secondary-meta-container\"><li class=\"ecl-content-block__secondary-meta-item\"><svg aria-hidden=\"true\" class=\"ecl-icon ecl-icon--s ecl-content-block__secondary-meta-icon\" focusable=\"false\"><use xlink:href=\"/themes/contrib/oe_theme/dist/ec/images/icons/sprites/icons.svg#clock\"></use></svg><span class=\"ecl-content-block__secondary-meta-label\">2 min read</span></li></ul><div class=\"ecl-content-block__list-container\"></div></div></article></div><div class=\"ecl-content-item-block__item contextual-region ecl-u-mb-l ecl-col-12\"><div data-contextual-id=\"node:node=3850:\" data-contextual-token=\"Ve-RQV6tkdj-xJWOMn2PJ7cOBi-UmNSQkKel1Cr7Gbo\" data-drupal-ajax-container=\"\"></div><article class=\"ecl-content-item\"><div class=\"ecl-content-block ecl-content-item__content-block\" data-ecl-auto-init=\"ContentBlock\" data-ecl-content-block=\"\"><ul class=\"ecl-content-block__primary-meta-container\"><li class=\"ecl-content-block__primary-meta-item\">News article</li><li class=\"ecl-content-block__primary-meta-item\"><time datetime=\"2024-09-20T12:00:00Z\">20 September 2024</time></li></ul><div class=\"ecl-content-block__title\" data-ecl-title-link=\"\"><a class=\"ecl-link ecl-link--standalone\" href=\"/news-events/news/solidarity-lanes-latest-figures-august-2024-2024-09-20_en\">Solidarity Lanes: Latest figures – August 2024</a></div><div class=\"ecl-content-block__description\"><p>Latest figures on Ukrainian exports and imports via the EU-Ukraine Solidarity Lanes: new transport routes established in the face of Russia’s war of aggression against Ukraine.</p></div><ul class=\"ecl-content-block__secondary-meta-container\"><li class=\"ecl-content-block__secondary-meta-item\"><svg aria-hidden=\"true\" class=\"ecl-icon ecl-icon--s ecl-content-block__secondary-meta-icon\" focusable=\"false\"><use xlink:href=\"/themes/contrib/oe_theme/dist/ec/images/icons/sprites/icons.svg#clock\"></use></svg><span class=\"ecl-content-block__secondary-meta-label\">3 min read</span></li></ul><div class=\"ecl-content-block__list-container\"></div></div></article></div><div class=\"ecl-content-item-block__item contextual-region ecl-u-mb-l ecl-col-12 last-item-column last-item\"><div data-contextual-id=\"node:node=3844:\" data-contextual-token=\"W7nIzvO6m7NEBM5gv7SPLIvf_MVqQA7fKGfpti471l0\" data-drupal-ajax-container=\"\"></div><article class=\"ecl-content-item\"><div class=\"ecl-content-block ecl-content-item__content-block\" data-ecl-auto-init=\"ContentBlock\" data-ecl-content-block=\"\"><ul class=\"ecl-content-block__primary-meta-container\"><li class=\"ecl-content-block__primary-meta-item\">News article</li><li class=\"ecl-content-block__primary-meta-item\"><time datetime=\"2024-09-16T12:00:00Z\">16 September 2024</time></li></ul><div class=\"ecl-content-block__title\" data-ecl-title-link=\"\"><a class=\"ecl-link ecl-link--standalone\" href=\"/news-events/news/european-mobility-week-kicks-promote-shared-public-spaces-sustainable-urban-mobility-and-improved-2024-09-16_en\">European Mobility Week kicks off to promote shared public spaces for sustainable urban mobility and improved quality of life</a></div><div class=\"ecl-content-block__description\"><p>The European Mobility Week, an annual event promoting sustainable urban mobility with over 2,500 cities and towns participating in a week-long festival from 16 to 22 September.</p></div><ul class=\"ecl-content-block__secondary-meta-container\"><li class=\"ecl-content-block__secondary-meta-item\"><svg aria-hidden=\"true\" class=\"ecl-icon ecl-icon--s ecl-content-block__secondary-meta-icon\" focusable=\"false\"><use xlink:href=\"/themes/contrib/oe_theme/dist/ec/images/icons/sprites/icons.svg#clock\"></use></svg><span class=\"ecl-content-block__secondary-meta-label\">1 min read</span></li></ul><div class=\"ecl-content-block__list-container\"></div></div></article></div></div></div> <nav aria-label=\"Pagination\" class=\"ecl-pagination\"><ul class=\"ecl-pagination__list\"><li class=\"ecl-pagination__item ecl-pagination__item--current\"><span aria-current=\"true\" class=\"ecl-pagination__text ecl-pagination__text--summary\">1</span><span aria-current=\"true\" class=\"ecl-pagination__text ecl-pagination__text--full\">Page 1</span></li><li class=\"ecl-pagination__item\"><a aria-label=\"Go to page 2\" class=\"ecl-link ecl-link--standalone ecl-pagination__link\" href=\"?page=1\">2</a></li><li class=\"ecl-pagination__item\"><a aria-label=\"Go to page 3\" class=\"ecl-link ecl-link--standalone ecl-pagination__link\" href=\"?page=2\">3</a></li><li class=\"ecl-pagination__item ecl-pagination__item--ellipsis\"><span class=\"ecl-pagination__text ecl-pagination__text--summary\">...</span></li><li class=\"ecl-pagination__item ecl-pagination__item--last\"><a aria-label=\"Go to page 125\" class=\"ecl-link ecl-link--standalone ecl-pagination__link\" href=\"?page=124\">125</a></li><li class=\"ecl-pagination__item ecl-pagination__item--next\"><a aria-label=\"Go to next page\" class=\"ecl-link ecl-link--standalone ecl-link--icon ecl-pagination__link ecl-link--icon-only\" href=\"?page=1\"><span class=\"ecl-link__label\">Next</span><svg aria-hidden=\"true\" class=\"ecl-icon ecl-icon--xs ecl-icon--rotate-90 ecl-link__icon\" focusable=\"false\"><use xlink:href=\"/themes/contrib/oe_theme/dist/ec/images/icons/sprites/icons.svg#corner-arrow\"></use></svg></a></li></ul></nav></div>\n",
      "</div>\n",
      "</div>\n",
      "</div>\n",
      "</div>\n",
      "</article>\n",
      "</div>\n",
      "</div>\n",
      "</div>\n",
      "<div class=\"ecl-row\">\n",
      "<div class=\"ecl-col-s-12\">\n",
      "</div>\n",
      "</div>\n",
      "</div>\n",
      "</main>\n",
      "<footer class=\"ecl-site-footer\" data-logo-area-label-en=\"Home - European Commission\"><div class=\"ecl-container ecl-site-footer__container\"><div class=\"ecl-site-footer__row\"><div class=\"ecl-site-footer__column\"><div class=\"ecl-site-footer__section ecl-site-footer__section--site-info\"><div class=\"ecl-site-footer__title\"><a class=\"ecl-link ecl-link--standalone ecl-site-footer__title-link\" href=\"https://transport.ec.europa.eu/index_en\">Mobility and Transport</a></div><div class=\"ecl-site-footer__description\">This site is managed by:<br/>Directorate-General for Mobility and Transport</div><ul class=\"ecl-site-footer__list\"><li class=\"ecl-site-footer__list-item\"><a class=\"ecl-link ecl-link--standalone ecl-link--inverted ecl-site-footer__link\" data-is-accessibility-link=\"true\" href=\"/accessibility-statement_en\">Accessibility</a></li></ul></div></div><div class=\"ecl-site-footer__column\"><div class=\"ecl-site-footer__section\"><div class=\"ecl-site-footer__title\">Contact us</div><ul class=\"ecl-site-footer__list\"><li class=\"ecl-site-footer__list-item\"><a class=\"ecl-link ecl-link--standalone ecl-link--inverted ecl-site-footer__link\" data-footer-link-label=\"Contact us\" data-section-label-untranslated=\"Contact us\" href=\"/contact-us_en\">Contact us</a></li><li class=\"ecl-site-footer__list-item\"><a class=\"ecl-link ecl-link--standalone ecl-link--inverted ecl-site-footer__link\" data-footer-link-label=\"Find us\" data-section-label-untranslated=\"Contact us\" href=\"/finding-us_en\">Find us</a></li></ul></div><div class=\"ecl-site-footer__section\"><div class=\"ecl-site-footer__title\">Follow us</div><ul class=\"ecl-site-footer__list ecl-site-footer__list--inline\"><li class=\"ecl-site-footer__list-item\"><a class=\"ecl-link ecl-link--standalone ecl-link--inverted ecl-link--icon ecl-site-footer__link\" data-footer-link-label=\"Transport_EU\" data-section-label-untranslated=\"Follow us\" href=\"https://twitter.com/Transport_EU\"><svg aria-hidden=\"true\" class=\"ecl-icon ecl-icon--m ecl-link__icon\" focusable=\"false\"><use xlink:href=\"/themes/contrib/oe_theme/dist/ec/images/icons-social-media/sprites/icons-social-media.svg#twitter-negative\"></use></svg><span class=\"ecl-link__label\">Transport_EU</span></a></li></ul></div></div><div class=\"ecl-site-footer__column\"><div class=\"ecl-site-footer__section\"><div class=\"ecl-site-footer__title\">About us</div><ul class=\"ecl-site-footer__list\"><li class=\"ecl-site-footer__list-item\"><a class=\"ecl-link ecl-link--standalone ecl-link--inverted ecl-site-footer__link\" data-footer-link-label=\"About us\" data-section-label-untranslated=\"About us\" href=\"https://commission.europa.eu/about-european-commission/departments-and-executive-agencies/mobility-and-transport_en\">About us</a></li></ul></div><div class=\"ecl-site-footer__section\"><div class=\"ecl-site-footer__title\">Related sites</div><ul class=\"ecl-site-footer__list\"><li class=\"ecl-site-footer__list-item\"><a class=\"ecl-link ecl-link--standalone ecl-link--inverted ecl-site-footer__link\" data-footer-link-label=\"Road Safety\" data-section-label-untranslated=\"Related sites\" href=\"https://road-safety.transport.ec.europa.eu/index_en\">Road Safety</a></li><li class=\"ecl-site-footer__list-item\"><a class=\"ecl-link ecl-link--standalone ecl-link--inverted ecl-site-footer__link\" data-footer-link-label=\"European Road Safety Charter\" data-section-label-untranslated=\"Related sites\" href=\"https://road-safety-charter.ec.europa.eu/\">European Road Safety Charter</a></li><li class=\"ecl-site-footer__list-item\"><a class=\"ecl-link ecl-link--standalone ecl-link--inverted ecl-site-footer__link\" data-footer-link-label=\"EU Urban Mobility Observatory\" data-section-label-untranslated=\"Related sites\" href=\"https://urban-mobility-observatory.transport.ec.europa.eu/index_en\">EU Urban Mobility Observatory</a></li><li class=\"ecl-site-footer__list-item\"><a class=\"ecl-link ecl-link--standalone ecl-link--inverted ecl-site-footer__link\" data-footer-link-label=\"European Alternative Fuels Observatory\" data-section-label-untranslated=\"Related sites\" href=\"https://alternative-fuels-observatory.ec.europa.eu/\">European Alternative Fuels Observatory</a></li><li class=\"ecl-site-footer__list-item\"><a class=\"ecl-link ecl-link--standalone ecl-link--inverted ecl-link--icon ecl-site-footer__link\" data-footer-link-label=\"Euroepan mobility week\" data-section-label-untranslated=\"Related sites\" href=\"https://mobilityweek.eu/home/\"><span class=\"ecl-link__label\">Euroepan mobility week</span><svg aria-hidden=\"true\" class=\"ecl-icon ecl-icon--xs ecl-link__icon\" focusable=\"false\"><use xlink:href=\"/themes/contrib/oe_theme/dist/ec/images/icons/sprites/icons.svg#external\"></use></svg></a></li><li class=\"ecl-site-footer__list-item\"><a class=\"ecl-link ecl-link--standalone ecl-link--inverted ecl-site-footer__link\" data-footer-link-label=\"EU Single Sky Performance\" data-section-label-untranslated=\"Related sites\" href=\"https://eu-single-sky.transport.ec.europa.eu/index_en\">EU Single Sky Performance</a></li><li class=\"ecl-site-footer__list-item\"><a class=\"ecl-link ecl-link--standalone ecl-link--inverted ecl-site-footer__link\" data-footer-link-label=\"Prime Infrastructure\" data-section-label-untranslated=\"Related sites\" href=\"https://wikis.ec.europa.eu/display/primeinfrastructure\">Prime Infrastructure</a></li><li class=\"ecl-site-footer__list-item\"><a class=\"ecl-link ecl-link--standalone ecl-link--inverted ecl-link--icon ecl-site-footer__link\" data-footer-link-label=\"Road Transport - Posting Declaration \" data-section-label-untranslated=\"Related sites\" href=\"https://www.postingdeclaration.eu/landing\"><span class=\"ecl-link__label\">Road Transport - Posting Declaration </span><svg aria-hidden=\"true\" class=\"ecl-icon ecl-icon--xs ecl-link__icon\" focusable=\"false\"><use xlink:href=\"/themes/contrib/oe_theme/dist/ec/images/icons/sprites/icons.svg#external\"></use></svg></a></li><li class=\"ecl-site-footer__list-item\"><a class=\"ecl-link ecl-link--standalone ecl-link--inverted ecl-site-footer__link\" data-footer-link-label=\"Union database on supply chain security\" data-section-label-untranslated=\"Related sites\" href=\"https://ksda.ec.europa.eu/public/screen/home\">Union database on supply chain security</a></li><li class=\"ecl-site-footer__list-item\"><a class=\"ecl-link ecl-link--standalone ecl-link--inverted ecl-site-footer__link\" data-footer-link-label=\"Related agencies\" data-section-label-untranslated=\"Related sites\" href=\"/related-agencies_en\">Related agencies</a></li></ul></div></div></div><div class=\"ecl-site-footer__row\"><div class=\"ecl-site-footer__column\"><div class=\"ecl-site-footer__section\"><a class=\"ecl-link ecl-link--standalone ecl-site-footer__logo-link\" href=\"https://commission.europa.eu/index_en\"><picture class=\"ecl-picture ecl-site-footer__picture\" title=\"European Commission\"><source media=\"(min-width: 996px)\" srcset=\"/themes/contrib/oe_theme/dist/ec/images/logo/negative/logo-ec--en.svg\"/><img alt=\"European Commission logo\" class=\"ecl-site-footer__logo-image\" src=\"/themes/contrib/oe_theme/dist/ec/images/logo/negative/logo-ec--en.svg\"/></picture></a></div></div><div class=\"ecl-site-footer__column\"><div class=\"ecl-site-footer__section\"><ul class=\"ecl-site-footer__list\"><li class=\"ecl-site-footer__list-item\"><a class=\"ecl-link ecl-link--standalone ecl-link--inverted ecl-site-footer__link\" data-footer-link-label=\"Contact the European Commission\" data-section-label-untranslated=\"service_navigation\" href=\"https://commission.europa.eu/about-european-commission/contact_en\">Contact the European Commission</a></li><li class=\"ecl-site-footer__list-item\"><a class=\"ecl-link ecl-link--standalone ecl-link--inverted ecl-site-footer__link\" data-footer-link-label=\"Follow the European Commission on social media\" data-section-label-untranslated=\"service_navigation\" href=\"https://european-union.europa.eu/contact-eu/social-media-channels_en#/search?page=0&amp;institutions=european_commission\">Follow the European Commission on social media</a></li><li class=\"ecl-site-footer__list-item\"><a class=\"ecl-link ecl-link--standalone ecl-link--inverted ecl-site-footer__link\" data-footer-link-label=\"Resources for partners\" data-section-label-untranslated=\"service_navigation\" href=\"https://commission.europa.eu/resources-partners_en\">Resources for partners</a></li><li class=\"ecl-site-footer__list-item\"><a class=\"ecl-link ecl-link--standalone ecl-link--inverted ecl-site-footer__link\" data-footer-link-label=\"Report an IT vulnerability\" data-section-label-untranslated=\"service_navigation\" href=\"https://commission.europa.eu/legal-notice/vulnerability-disclosure-policy_en\">Report an IT vulnerability</a></li></ul></div></div><div class=\"ecl-site-footer__column\"><div class=\"ecl-site-footer__section\"><ul class=\"ecl-site-footer__list\"><li class=\"ecl-site-footer__list-item\"><a class=\"ecl-link ecl-link--standalone ecl-link--inverted ecl-site-footer__link\" data-footer-link-label=\"Languages on our websites\" data-section-label-untranslated=\"legal_navigation\" href=\"https://commission.europa.eu/languages-our-websites_en\">Languages on our websites</a></li><li class=\"ecl-site-footer__list-item\"><a class=\"ecl-link ecl-link--standalone ecl-link--inverted ecl-site-footer__link\" data-footer-link-label=\"Cookies\" data-section-label-untranslated=\"legal_navigation\" href=\"https://commission.europa.eu/cookies_en\">Cookies</a></li><li class=\"ecl-site-footer__list-item\"><a class=\"ecl-link ecl-link--standalone ecl-link--inverted ecl-site-footer__link\" data-footer-link-label=\"Privacy policy\" data-section-label-untranslated=\"legal_navigation\" href=\"https://commission.europa.eu/privacy-policy_en\">Privacy policy</a></li><li class=\"ecl-site-footer__list-item\"><a class=\"ecl-link ecl-link--standalone ecl-link--inverted ecl-site-footer__link\" data-footer-link-label=\"Legal notice\" data-section-label-untranslated=\"legal_navigation\" href=\"https://commission.europa.eu/legal-notice_en\">Legal notice</a></li></ul></div></div></div></div></footer>\n",
      "</div>\n",
      "<script type=\"application/json\">{\"utility\":\"piwik\",\"siteID\":\"325\",\"sitePath\":[\"transport.ec.europa.eu\"],\"instance\":\"ec.europa.eu\",\"dimensions\":[{\"id\":3,\"value\":\"Pool Page\"},{\"id\":5,\"value\":\"Directorate-General-for-Mobility-and-Transport\"},{\"id\":6,\"value\":\"News\"},{\"id\":7,\"value\":\"b3157265-f2f0-47eb-a47a-0936339ebd30\"},{\"id\":8,\"value\":\"EC - STANDARDISED\"}]}</script>\n",
      "<script type=\"application/json\">{\"utility\":\"cck\"}</script>\n",
      "<script type=\"application/json\">{\"service\":\"laco\",\"include\":\"#block-ewcms-theme-main-page-content .ecl\",\"coverage\":{\"document\":\"any\",\"page\":\"any\"},\"icon\":\"all\",\"exclude\":\".nolaco, .ecl-file, .ecl-content-item__title\",\"ignore\":[\"filename=([A-Za-z0-9\\\\-\\\\_]+)_([A-Za-z]{2}).pdf\"]}</script>\n",
      "<script data-drupal-selector=\"drupal-settings-json\" type=\"application/json\">{\"path\":{\"baseUrl\":\"\\/\",\"pathPrefix\":\"\",\"currentPath\":\"node\\/2\",\"currentPathIsAdmin\":false,\"isFront\":false,\"currentLanguage\":\"en\",\"urlSuffixes\":[\"bg\",\"es\",\"cs\",\"da\",\"de\",\"et\",\"el\",\"en\",\"fr\",\"ga\",\"hr\",\"it\",\"lv\",\"lt\",\"hu\",\"mt\",\"nl\",\"pl\",\"pt\",\"ro\",\"sk\",\"sl\",\"fi\",\"sv\",\"ca\",\"tr\",\"ar\",\"is\",\"no\",\"uk\",\"ru\",\"zh\",\"lb\",\"sw\",\"he\",\"ja\"],\"currentQuery\":{\"page\":\"0\"}},\"pluralDelimiter\":\"\\u0003\",\"suppressDeprecationErrors\":true,\"ajaxTrustedUrl\":{\"form_action_p_pvdeGsVG5zNF_XLGPTvYSKCf43t8qZYSwcfZl2uzM\":true},\"user\":{\"uid\":0,\"permissionsHash\":\"d76336ac2ba003f644e37794ae21f715780b37240c4f81e2469c67bccd54b2bf\"}}</script>\n",
      "<script src=\"/sites/default/files/js/js_nXxnMTnZYeMTgz_LjfjeLJwdac2devBeJcomXtlzJLg.js?scope=footer&amp;delta=0&amp;language=en&amp;theme=ewcms_theme&amp;include=eJxtj9EOgzAIRX_IzU9qsDIlodAAdevfz2RuxmRvcM8J4SqmJ06hyj7O1irw_bvfvIAFK8xog2KKFQuOWUtVQYnENBlYT5gH7x5YxgkcTxNfgSbAybflTKuRxIDPXPxIHoQ8p59NWeXCPzPsrAdl_8OiV10M6toPWBoHMcnSgA-nQF5J9i8MxBmCVJLoXmLD68WcvNmG_Q0OYHDX\"></script>\n",
      "<script defer=\"\" src=\"https://webtools.europa.eu/load.js\"></script>\n",
      "<script src=\"/sites/default/files/js/js_rapTesT3cmtWrs4UEu5I0hNAIr0pPLSMUwzJU9WdHcs.js?scope=footer&amp;delta=2&amp;language=en&amp;theme=ewcms_theme&amp;include=eJxtj9EOgzAIRX_IzU9qsDIlodAAdevfz2RuxmRvcM8J4SqmJ06hyj7O1irw_bvfvIAFK8xog2KKFQuOWUtVQYnENBlYT5gH7x5YxgkcTxNfgSbAybflTKuRxIDPXPxIHoQ8p59NWeXCPzPsrAdl_8OiV10M6toPWBoHMcnSgA-nQF5J9i8MxBmCVJLoXmLD68WcvNmG_Q0OYHDX\"></script>\n",
      "<script defer=\"\" src=\"https://ec.europa.eu/wel/surveys/wr_survey01/wr_survey.js\"></script>\n",
      "</body>\n",
      "</html>\n",
      "\n"
     ]
    }
   ],
   "source": [
    "print(soup)\n",
    "#print(soup.prettify())"
   ]
  },
  {
   "cell_type": "markdown",
   "metadata": {},
   "source": [
    "### Step 3: Locate the HTML elements containing the desired data"
   ]
  },
  {
   "cell_type": "markdown",
   "metadata": {},
   "source": [
    "Chrome: `View` -> `Developer` -> `Inspect Elements`\n",
    "\n",
    "<img src=\"../image/news_elements.png\">"
   ]
  },
  {
   "cell_type": "code",
   "execution_count": 6,
   "metadata": {
    "ExecuteTime": {
     "end_time": "2024-11-06T11:04:52.855387Z",
     "start_time": "2024-11-06T11:04:52.840549Z"
    }
   },
   "outputs": [],
   "source": [
    "news = soup.find_all(\"article\", class_=\"ecl-content-item\")"
   ]
  },
  {
   "cell_type": "code",
   "execution_count": 7,
   "metadata": {
    "ExecuteTime": {
     "end_time": "2024-11-06T11:04:55.668152Z",
     "start_time": "2024-11-06T11:04:55.652210Z"
    }
   },
   "outputs": [
    {
     "name": "stdout",
     "output_type": "stream",
     "text": [
      "[<article class=\"ecl-content-item\"><div class=\"ecl-content-block ecl-content-item__content-block\" data-ecl-auto-init=\"ContentBlock\" data-ecl-content-block=\"\"><ul class=\"ecl-content-block__primary-meta-container\"><li class=\"ecl-content-block__primary-meta-item\">News article</li><li class=\"ecl-content-block__primary-meta-item\"><time datetime=\"2024-10-17T12:00:00Z\">17 October 2024</time></li></ul><div class=\"ecl-content-block__title\" data-ecl-title-link=\"\"><a class=\"ecl-link ecl-link--standalone\" href=\"/news-events/news/solidarity-lanes-latest-figures-september-2024-2024-10-17_en\">Solidarity Lanes: Latest figures – September 2024</a></div><div class=\"ecl-content-block__description\"><p>Latest figures on Ukrainian exports and imports via the EU-Ukraine Solidarity Lanes: new transport routes established in the face of Russia’s war of aggression against Ukraine.</p></div><ul class=\"ecl-content-block__secondary-meta-container\"><li class=\"ecl-content-block__secondary-meta-item\"><svg aria-hidden=\"true\" class=\"ecl-icon ecl-icon--s ecl-content-block__secondary-meta-icon\" focusable=\"false\"><use xlink:href=\"/themes/contrib/oe_theme/dist/ec/images/icons/sprites/icons.svg#clock\"></use></svg><span class=\"ecl-content-block__secondary-meta-label\">3 min read</span></li></ul><div class=\"ecl-content-block__list-container\"></div></div></article>, <article class=\"ecl-content-item\"><div class=\"ecl-content-block ecl-content-item__content-block\" data-ecl-auto-init=\"ContentBlock\" data-ecl-content-block=\"\"><ul class=\"ecl-content-block__primary-meta-container\"><li class=\"ecl-content-block__primary-meta-item\">News article</li><li class=\"ecl-content-block__primary-meta-item\"><time datetime=\"2024-10-10T12:00:00Z\">10 October 2024</time></li></ul><div class=\"ecl-content-block__title\" data-ecl-title-link=\"\"><a class=\"ecl-link ecl-link--standalone\" href=\"/news-events/news/20400-lives-lost-eu-road-crashes-last-year-2024-10-10_en\">20,400 lives lost in EU road crashes last year</a></div><div class=\"ecl-content-block__description\"><p>In 2023, 20,400 people lost their lives in road crashes across the EU, marking a 1% decrease from the previous year, with 46 road deaths per million inhabitants.</p></div><ul class=\"ecl-content-block__secondary-meta-container\"><li class=\"ecl-content-block__secondary-meta-item\"><svg aria-hidden=\"true\" class=\"ecl-icon ecl-icon--s ecl-content-block__secondary-meta-icon\" focusable=\"false\"><use xlink:href=\"/themes/contrib/oe_theme/dist/ec/images/icons/sprites/icons.svg#clock\"></use></svg><span class=\"ecl-content-block__secondary-meta-label\">3 min read</span></li></ul><div class=\"ecl-content-block__list-container\"></div></div></article>, <article class=\"ecl-content-item\"><div class=\"ecl-content-block ecl-content-item__content-block\" data-ecl-auto-init=\"ContentBlock\" data-ecl-content-block=\"\"><ul class=\"ecl-content-block__primary-meta-container\"><li class=\"ecl-content-block__primary-meta-item\">News article</li><li class=\"ecl-content-block__primary-meta-item\"><time datetime=\"2024-10-03T12:00:00Z\">3 October 2024</time></li></ul><div class=\"ecl-content-block__title\" data-ecl-title-link=\"\"><a class=\"ecl-link ecl-link--standalone\" href=\"https://ec.europa.eu/commission/presscorner/detail/en/inf_24_4561\">October infringements package: key decisions</a></div><div class=\"ecl-content-block__description\"><p>In its regular package of infringement decisions, the European Commission pursues legal action against Member States for failing to comply with their obligations under EU law.</p></div><div class=\"ecl-content-block__list-container\"></div></div></article>, <article class=\"ecl-content-item\"><div class=\"ecl-content-block ecl-content-item__content-block\" data-ecl-auto-init=\"ContentBlock\" data-ecl-content-block=\"\"><ul class=\"ecl-content-block__primary-meta-container\"><li class=\"ecl-content-block__primary-meta-item\">News article</li><li class=\"ecl-content-block__primary-meta-item\"><time datetime=\"2024-10-02T12:00:00Z\">2 October 2024</time></li></ul><div class=\"ecl-content-block__title\" data-ecl-title-link=\"\"><a class=\"ecl-link ecl-link--standalone\" href=\"/news-events/news/single-european-sky-annual-monitoring-highlights-persistent-capacity-shortages-and-failure-meet-2024-10-02_en\">Single European Sky: annual monitoring highlights persistent capacity shortages and failure to meet environmental targets in 2023, as traffic recovers</a></div><div class=\"ecl-content-block__description\"><p>The Performance Review Body (PRB) has published the 2023 Annual Monitoring Report and Traffic Light System - part of its yearly review of how Single European Sky (SES) Member States are performing.</p></div><ul class=\"ecl-content-block__secondary-meta-container\"><li class=\"ecl-content-block__secondary-meta-item\"><svg aria-hidden=\"true\" class=\"ecl-icon ecl-icon--s ecl-content-block__secondary-meta-icon\" focusable=\"false\"><use xlink:href=\"/themes/contrib/oe_theme/dist/ec/images/icons/sprites/icons.svg#clock\"></use></svg><span class=\"ecl-content-block__secondary-meta-label\">1 min read</span></li></ul><div class=\"ecl-content-block__list-container\"></div></div></article>, <article class=\"ecl-content-item\"><div class=\"ecl-content-block ecl-content-item__content-block\" data-ecl-auto-init=\"ContentBlock\" data-ecl-content-block=\"\"><ul class=\"ecl-content-block__primary-meta-container\"><li class=\"ecl-content-block__primary-meta-item\">News article</li><li class=\"ecl-content-block__primary-meta-item\"><time datetime=\"2024-09-25T12:00:00Z\">25 September 2024</time></li></ul><div class=\"ecl-content-block__title\" data-ecl-title-link=\"\"><a class=\"ecl-link ecl-link--standalone\" href=\"/news-events/news/women-rail-2024-award-boost-female-talent-sustainable-and-competitive-rail-industry-2024-09-25_en\">Women in Rail 2024 Award to boost female talent for a sustainable and competitive rail industry</a></div><div class=\"ecl-content-block__description\"><p>The Commission together with Europe’s Rail Joint Undertaking and the EU Agency for Railways celebrated the Women in Rail 2024 Award.</p></div><ul class=\"ecl-content-block__secondary-meta-container\"><li class=\"ecl-content-block__secondary-meta-item\"><svg aria-hidden=\"true\" class=\"ecl-icon ecl-icon--s ecl-content-block__secondary-meta-icon\" focusable=\"false\"><use xlink:href=\"/themes/contrib/oe_theme/dist/ec/images/icons/sprites/icons.svg#clock\"></use></svg><span class=\"ecl-content-block__secondary-meta-label\">1 min read</span></li></ul><div class=\"ecl-content-block__list-container\"></div></div></article>, <article class=\"ecl-content-item\"><div class=\"ecl-content-block ecl-content-item__content-block\" data-ecl-auto-init=\"ContentBlock\" data-ecl-content-block=\"\"><ul class=\"ecl-content-block__primary-meta-container\"><li class=\"ecl-content-block__primary-meta-item\">News article</li><li class=\"ecl-content-block__primary-meta-item\"><time datetime=\"2024-09-25T12:00:00Z\">25 September 2024</time></li></ul><div class=\"ecl-content-block__title\" data-ecl-title-link=\"\"><a class=\"ecl-link ecl-link--standalone\" href=\"/news-events/news/commission-seeks-feedback-flight-emissions-label-2024-09-25_en\">Commission seeks feedback on the Flight Emissions Label</a></div><div class=\"ecl-content-block__description\"><p>The Commission has launched a public consultation on the draft proposal establishing the EU Flight Emissions Label.</p></div><ul class=\"ecl-content-block__secondary-meta-container\"><li class=\"ecl-content-block__secondary-meta-item\"><svg aria-hidden=\"true\" class=\"ecl-icon ecl-icon--s ecl-content-block__secondary-meta-icon\" focusable=\"false\"><use xlink:href=\"/themes/contrib/oe_theme/dist/ec/images/icons/sprites/icons.svg#clock\"></use></svg><span class=\"ecl-content-block__secondary-meta-label\">2 min read</span></li></ul><div class=\"ecl-content-block__list-container\"></div></div></article>, <article class=\"ecl-content-item\"><div class=\"ecl-content-block ecl-content-item__content-block\" data-ecl-auto-init=\"ContentBlock\" data-ecl-content-block=\"\"><ul class=\"ecl-content-block__primary-meta-container\"><li class=\"ecl-content-block__primary-meta-item\">News article</li><li class=\"ecl-content-block__primary-meta-item\"><time datetime=\"2024-09-24T12:00:00Z\">24 September 2024</time></li></ul><div class=\"ecl-content-block__title\" data-ecl-title-link=\"\"><a class=\"ecl-link ecl-link--standalone\" href=\"/news-events/news/cef-transport-eu25-billion-boost-resilience-and-safety-across-eu-transport-network-2024-09-24_en\">CEF Transport: €2.5 billion to boost resilience and safety across the EU transport network</a></div><div class=\"ecl-content-block__description\"><p>The 2024 CEF for Transport call for proposals makes €2.5 billion available for projects that will modernise transport infrastructure on the EU’s TEN-T network, and in Ukraine and Moldova.</p></div><ul class=\"ecl-content-block__secondary-meta-container\"><li class=\"ecl-content-block__secondary-meta-item\"><svg aria-hidden=\"true\" class=\"ecl-icon ecl-icon--s ecl-content-block__secondary-meta-icon\" focusable=\"false\"><use xlink:href=\"/themes/contrib/oe_theme/dist/ec/images/icons/sprites/icons.svg#clock\"></use></svg><span class=\"ecl-content-block__secondary-meta-label\">1 min read</span></li></ul><div class=\"ecl-content-block__list-container\"></div></div></article>, <article class=\"ecl-content-item\"><div class=\"ecl-content-block ecl-content-item__content-block\" data-ecl-auto-init=\"ContentBlock\" data-ecl-content-block=\"\"><ul class=\"ecl-content-block__primary-meta-container\"><li class=\"ecl-content-block__primary-meta-item\">News article</li><li class=\"ecl-content-block__primary-meta-item\"><time datetime=\"2024-09-23T12:00:00Z\">23 September 2024</time></li></ul><div class=\"ecl-content-block__title\" data-ecl-title-link=\"\"><a class=\"ecl-link ecl-link--standalone\" href=\"/news-events/news/rail-market-opening-competition-leads-lower-ticket-prices-eu-study-finds-2024-09-23_en\">Rail market opening: competition leads to lower ticket prices, EU study finds</a></div><div class=\"ecl-content-block__description\"><p>A study released by the European Commission highlights the user benefits of competition in both passenger rail and rail freight services.</p></div><ul class=\"ecl-content-block__secondary-meta-container\"><li class=\"ecl-content-block__secondary-meta-item\"><svg aria-hidden=\"true\" class=\"ecl-icon ecl-icon--s ecl-content-block__secondary-meta-icon\" focusable=\"false\"><use xlink:href=\"/themes/contrib/oe_theme/dist/ec/images/icons/sprites/icons.svg#clock\"></use></svg><span class=\"ecl-content-block__secondary-meta-label\">2 min read</span></li></ul><div class=\"ecl-content-block__list-container\"></div></div></article>, <article class=\"ecl-content-item\"><div class=\"ecl-content-block ecl-content-item__content-block\" data-ecl-auto-init=\"ContentBlock\" data-ecl-content-block=\"\"><ul class=\"ecl-content-block__primary-meta-container\"><li class=\"ecl-content-block__primary-meta-item\">News article</li><li class=\"ecl-content-block__primary-meta-item\"><time datetime=\"2024-09-20T12:00:00Z\">20 September 2024</time></li></ul><div class=\"ecl-content-block__title\" data-ecl-title-link=\"\"><a class=\"ecl-link ecl-link--standalone\" href=\"/news-events/news/solidarity-lanes-latest-figures-august-2024-2024-09-20_en\">Solidarity Lanes: Latest figures – August 2024</a></div><div class=\"ecl-content-block__description\"><p>Latest figures on Ukrainian exports and imports via the EU-Ukraine Solidarity Lanes: new transport routes established in the face of Russia’s war of aggression against Ukraine.</p></div><ul class=\"ecl-content-block__secondary-meta-container\"><li class=\"ecl-content-block__secondary-meta-item\"><svg aria-hidden=\"true\" class=\"ecl-icon ecl-icon--s ecl-content-block__secondary-meta-icon\" focusable=\"false\"><use xlink:href=\"/themes/contrib/oe_theme/dist/ec/images/icons/sprites/icons.svg#clock\"></use></svg><span class=\"ecl-content-block__secondary-meta-label\">3 min read</span></li></ul><div class=\"ecl-content-block__list-container\"></div></div></article>, <article class=\"ecl-content-item\"><div class=\"ecl-content-block ecl-content-item__content-block\" data-ecl-auto-init=\"ContentBlock\" data-ecl-content-block=\"\"><ul class=\"ecl-content-block__primary-meta-container\"><li class=\"ecl-content-block__primary-meta-item\">News article</li><li class=\"ecl-content-block__primary-meta-item\"><time datetime=\"2024-09-16T12:00:00Z\">16 September 2024</time></li></ul><div class=\"ecl-content-block__title\" data-ecl-title-link=\"\"><a class=\"ecl-link ecl-link--standalone\" href=\"/news-events/news/european-mobility-week-kicks-promote-shared-public-spaces-sustainable-urban-mobility-and-improved-2024-09-16_en\">European Mobility Week kicks off to promote shared public spaces for sustainable urban mobility and improved quality of life</a></div><div class=\"ecl-content-block__description\"><p>The European Mobility Week, an annual event promoting sustainable urban mobility with over 2,500 cities and towns participating in a week-long festival from 16 to 22 September.</p></div><ul class=\"ecl-content-block__secondary-meta-container\"><li class=\"ecl-content-block__secondary-meta-item\"><svg aria-hidden=\"true\" class=\"ecl-icon ecl-icon--s ecl-content-block__secondary-meta-icon\" focusable=\"false\"><use xlink:href=\"/themes/contrib/oe_theme/dist/ec/images/icons/sprites/icons.svg#clock\"></use></svg><span class=\"ecl-content-block__secondary-meta-label\">1 min read</span></li></ul><div class=\"ecl-content-block__list-container\"></div></div></article>]\n"
     ]
    }
   ],
   "source": [
    "print(news)"
   ]
  },
  {
   "cell_type": "code",
   "execution_count": 8,
   "metadata": {
    "ExecuteTime": {
     "end_time": "2024-11-06T11:05:07.939782Z",
     "start_time": "2024-11-06T11:05:07.923135Z"
    }
   },
   "outputs": [
    {
     "data": {
      "text/plain": [
       "10"
      ]
     },
     "execution_count": 8,
     "metadata": {},
     "output_type": "execute_result"
    }
   ],
   "source": [
    "len(news)"
   ]
  },
  {
   "cell_type": "markdown",
   "metadata": {},
   "source": [
    "### Step 4: Extract data"
   ]
  },
  {
   "cell_type": "code",
   "execution_count": 9,
   "metadata": {
    "ExecuteTime": {
     "end_time": "2024-11-06T11:06:35.503124Z",
     "start_time": "2024-11-06T11:06:35.485794Z"
    },
    "scrolled": true
   },
   "outputs": [
    {
     "name": "stdout",
     "output_type": "stream",
     "text": [
      "2024-10-17T12:00:00Z Solidarity Lanes: Latest figures – September 2024 Latest figures on Ukrainian exports and imports via the EU-Ukraine Solidarity Lanes: new transport routes established in the face of Russia’s war of aggression against Ukraine.\n",
      "News article\n",
      "/news-events/news/solidarity-lanes-latest-figures-september-2024-2024-10-17_en\n",
      "=====\n",
      "2024-10-10T12:00:00Z 20,400 lives lost in EU road crashes last year In 2023, 20,400 people lost their lives in road crashes across the EU, marking a 1% decrease from the previous year, with 46 road deaths per million inhabitants.\n",
      "News article\n",
      "/news-events/news/20400-lives-lost-eu-road-crashes-last-year-2024-10-10_en\n",
      "=====\n",
      "2024-10-03T12:00:00Z October infringements package: key decisions In its regular package of infringement decisions, the European Commission pursues legal action against Member States for failing to comply with their obligations under EU law.\n",
      "News article\n",
      "https://ec.europa.eu/commission/presscorner/detail/en/inf_24_4561\n",
      "=====\n",
      "2024-10-02T12:00:00Z Single European Sky: annual monitoring highlights persistent capacity shortages and failure to meet environmental targets in 2023, as traffic recovers The Performance Review Body (PRB) has published the 2023 Annual Monitoring Report and Traffic Light System - part of its yearly review of how Single European Sky (SES) Member States are performing.\n",
      "News article\n",
      "/news-events/news/single-european-sky-annual-monitoring-highlights-persistent-capacity-shortages-and-failure-meet-2024-10-02_en\n",
      "=====\n",
      "2024-09-25T12:00:00Z Women in Rail 2024 Award to boost female talent for a sustainable and competitive rail industry The Commission together with Europe’s Rail Joint Undertaking and the EU Agency for Railways celebrated the Women in Rail 2024 Award.\n",
      "News article\n",
      "/news-events/news/women-rail-2024-award-boost-female-talent-sustainable-and-competitive-rail-industry-2024-09-25_en\n",
      "=====\n",
      "2024-09-25T12:00:00Z Commission seeks feedback on the Flight Emissions Label The Commission has launched a public consultation on the draft proposal establishing the EU Flight Emissions Label.\n",
      "News article\n",
      "/news-events/news/commission-seeks-feedback-flight-emissions-label-2024-09-25_en\n",
      "=====\n",
      "2024-09-24T12:00:00Z CEF Transport: €2.5 billion to boost resilience and safety across the EU transport network The 2024 CEF for Transport call for proposals makes €2.5 billion available for projects that will modernise transport infrastructure on the EU’s TEN-T network, and in Ukraine and Moldova.\n",
      "News article\n",
      "/news-events/news/cef-transport-eu25-billion-boost-resilience-and-safety-across-eu-transport-network-2024-09-24_en\n",
      "=====\n",
      "2024-09-23T12:00:00Z Rail market opening: competition leads to lower ticket prices, EU study finds A study released by the European Commission highlights the user benefits of competition in both passenger rail and rail freight services.\n",
      "News article\n",
      "/news-events/news/rail-market-opening-competition-leads-lower-ticket-prices-eu-study-finds-2024-09-23_en\n",
      "=====\n",
      "2024-09-20T12:00:00Z Solidarity Lanes: Latest figures – August 2024 Latest figures on Ukrainian exports and imports via the EU-Ukraine Solidarity Lanes: new transport routes established in the face of Russia’s war of aggression against Ukraine.\n",
      "News article\n",
      "/news-events/news/solidarity-lanes-latest-figures-august-2024-2024-09-20_en\n",
      "=====\n",
      "2024-09-16T12:00:00Z European Mobility Week kicks off to promote shared public spaces for sustainable urban mobility and improved quality of life The European Mobility Week, an annual event promoting sustainable urban mobility with over 2,500 cities and towns participating in a week-long festival from 16 to 22 September.\n",
      "News article\n",
      "/news-events/news/european-mobility-week-kicks-promote-shared-public-spaces-sustainable-urban-mobility-and-improved-2024-09-16_en\n",
      "=====\n"
     ]
    }
   ],
   "source": [
    "for item in news:\n",
    "    date = item.time.attrs['datetime']\n",
    "    title = item.find(\"a\", class_=\"ecl-link ecl-link--standalone\").get_text()\n",
    "    desc = item.find(\"div\", class_=\"ecl-content-block__description\").get_text()\n",
    "    news_type = item.find(\"li\", class_=\"ecl-content-block__primary-meta-item\").get_text()\n",
    "    link = item.find(\"a\", class_=\"ecl-link ecl-link--standalone\", href=True)[\"href\"]\n",
    "    print(date,title,desc)\n",
    "    print(news_type)\n",
    "    print(link)\n",
    "    print(\"=====\")"
   ]
  },
  {
   "cell_type": "markdown",
   "metadata": {},
   "source": [
    "### Save data to csv"
   ]
  },
  {
   "cell_type": "markdown",
   "metadata": {},
   "source": [
    "To scrape multiple pages, we need to observe how the web addresses change."
   ]
  },
  {
   "cell_type": "code",
   "execution_count": 10,
   "metadata": {
    "ExecuteTime": {
     "end_time": "2024-11-06T11:09:04.139625Z",
     "start_time": "2024-11-06T11:09:04.131129Z"
    },
    "scrolled": false
   },
   "outputs": [],
   "source": [
    "#page_number = range(7,18) # year 2023. your number could be different\n",
    "page_number = range(0,8) # year 2024\n",
    "stem = \"https://transport.ec.europa.eu/news-events/news_en?page=\""
   ]
  },
  {
   "cell_type": "code",
   "execution_count": null,
   "metadata": {
    "ExecuteTime": {
     "end_time": "2024-10-02T15:38:28.888769Z",
     "start_time": "2024-10-02T15:38:28.877656Z"
    }
   },
   "outputs": [],
   "source": [
    "#csv_filename = \"news2023.csv\" # give the csv file a name\n",
    "#csv_filename = \"news2024.csv\""
   ]
  },
  {
   "cell_type": "code",
   "execution_count": null,
   "metadata": {
    "ExecuteTime": {
     "end_time": "2024-10-02T15:38:47.630236Z",
     "start_time": "2024-10-02T15:38:30.449002Z"
    },
    "scrolled": true
   },
   "outputs": [],
   "source": [
    "for i in page_number: # loop over all the pages\n",
    "    url = stem + str(i)\n",
    "    print(url)\n",
    "    \n",
    "    page = requests.get(url) # send the request\n",
    "    soup = BeautifulSoup(page.content, 'html.parser') # parse the content\n",
    "    news = soup.find_all(\"article\", class_=\"ecl-content-item\") # locate all the news\n",
    "    \n",
    "    for item in news: # loop over each article\n",
    "        try: # use try except to skip error e.g., NoneType object - empty elements\n",
    "            date = item.time.attrs['datetime']\n",
    "        except (AttributeError, KeyError, TypeError) as e:\n",
    "            date = \"\"\n",
    "            print(f\"Error extracting date: {e}\")\n",
    "            print(item)\n",
    "            print(\"====\")\n",
    "        try:\n",
    "            title = item.find(\"a\", class_=\"ecl-link ecl-link--standalone\").get_text()\n",
    "        except AttributeError as e:\n",
    "            title = \"\"\n",
    "            print(f\"Error extracting title: {e}\")\n",
    "            print(item)\n",
    "            print(\"====\")\n",
    "        try:\n",
    "            desc = item.find(\"div\", class_=\"ecl-content-block__description\").get_text()\n",
    "        except AttributeError as e:\n",
    "            desc = \"\"\n",
    "            print(f\"Error extracting description: {e}\")\n",
    "            print(item)\n",
    "            print(\"====\")\n",
    "        try:\n",
    "            news_type = item.find(\"li\", class_=\"ecl-content-block__primary-meta-item\").get_text()\n",
    "        except AttributeError as e:\n",
    "            news_type = \"\"\n",
    "            print(f\"Error extracting news type: {e}\")\n",
    "            print(item)\n",
    "            print(\"====\")\n",
    "        try:\n",
    "            link = item.find(\"a\", class_=\"ecl-link ecl-link--standalone\", href=True)[\"href\"]\n",
    "        except (AttributeError, TypeError) as e:\n",
    "            link = \"\"\n",
    "            print(f\"Error extracting link: {e}\")\n",
    "            print(item)\n",
    "            print(\"====\")\n",
    "        csv.writer(open(csv_filename, \"a\", encoding=\"latin1\")).writerow([date, title, desc, news_type, link])\n",
    "        \n",
    "    time.sleep(2)"
   ]
  },
  {
   "cell_type": "markdown",
   "metadata": {},
   "source": [
    "I got 8 errors running the above cell (for year 2023). It is okay. I have saved the errors in case we need to go back."
   ]
  },
  {
   "cell_type": "markdown",
   "metadata": {},
   "source": [
    "<a name=\"error\"></a>\n",
    "The error output\n",
    "\n",
    "```\n",
    "https://transport.ec.europa.eu/news-events/news_en?page=7\n",
    "https://transport.ec.europa.eu/news-events/news_en?page=8\n",
    "Error extracting title: 'NoneType' object has no attribute 'get_text'\n",
    "<article class=\"ecl-content-item\"><div class=\"ecl-content-block ecl-content-item__content-block\" data-ecl-auto-init=\"ContentBlock\" data-ecl-content-block=\"\"><ul class=\"ecl-content-block__primary-meta-container\"><li class=\"ecl-content-block__primary-meta-item\">News article</li><li class=\"ecl-content-block__primary-meta-item\"><time datetime=\"2023-12-12T12:00:00Z\">12 December 2023</time></li></ul><div class=\"ecl-content-block__title\" data-ecl-title-link=\"\"><a class=\"ecl-link ecl-link--standalone ecl-link--icon\" href=\"https://www.wbif.eu/news-details/transport-ministers-discuss-reforms-within-western-balkans-transport-community-summit\"><span class=\"ecl-link__label\">Transport Ministers discuss reforms within Western Balkans at Transport Community Summit</span><svg aria-hidden=\"false\" class=\"ecl-icon ecl-icon--2xs ecl-link__icon\" focusable=\"false\"><use xlink:href=\"/themes/contrib/oe_theme/dist/ec/images/icons/sprites/icons.svg#external\"></use></svg></a></div><div class=\"ecl-content-block__description\"><p>Transport ministers from the Western Balkans, Georgia, Moldova, and Ukraine, as well as the European Commission, gathered at the annual Ministerial Council Meeting of the Transport Community in Skopje, North Macedonia, on 12 December 2023.</p></div><div class=\"ecl-content-block__list-container\"></div></div></article>\n",
    "====\n",
    "Error extracting link: 'NoneType' object is not subscriptable\n",
    "<article class=\"ecl-content-item\"><div class=\"ecl-content-block ecl-content-item__content-block\" data-ecl-auto-init=\"ContentBlock\" data-ecl-content-block=\"\"><ul class=\"ecl-content-block__primary-meta-container\"><li class=\"ecl-content-block__primary-meta-item\">News article</li><li class=\"ecl-content-block__primary-meta-item\"><time datetime=\"2023-12-12T12:00:00Z\">12 December 2023</time></li></ul><div class=\"ecl-content-block__title\" data-ecl-title-link=\"\"><a class=\"ecl-link ecl-link--standalone ecl-link--icon\" href=\"https://www.wbif.eu/news-details/transport-ministers-discuss-reforms-within-western-balkans-transport-community-summit\"><span class=\"ecl-link__label\">Transport Ministers discuss reforms within Western Balkans at Transport Community Summit</span><svg aria-hidden=\"false\" class=\"ecl-icon ecl-icon--2xs ecl-link__icon\" focusable=\"false\"><use xlink:href=\"/themes/contrib/oe_theme/dist/ec/images/icons/sprites/icons.svg#external\"></use></svg></a></div><div class=\"ecl-content-block__description\"><p>Transport ministers from the Western Balkans, Georgia, Moldova, and Ukraine, as well as the European Commission, gathered at the annual Ministerial Council Meeting of the Transport Community in Skopje, North Macedonia, on 12 December 2023.</p></div><div class=\"ecl-content-block__list-container\"></div></div></article>\n",
    "====\n",
    "https://transport.ec.europa.eu/news-events/news_en?page=9\n",
    "Error extracting title: 'NoneType' object has no attribute 'get_text'\n",
    "<article class=\"ecl-content-item\"><div class=\"ecl-content-block ecl-content-item__content-block\" data-ecl-auto-init=\"ContentBlock\" data-ecl-content-block=\"\"><ul class=\"ecl-content-block__primary-meta-container\"><li class=\"ecl-content-block__primary-meta-item\">News article</li><li class=\"ecl-content-block__primary-meta-item\"><time datetime=\"2023-10-25T12:00:00Z\">25 October 2023</time></li></ul><div class=\"ecl-content-block__title\" data-ecl-title-link=\"\"><a class=\"ecl-link ecl-link--standalone ecl-link--icon\" href=\"https://www.ecac-ceac.org/news/960-press-release-european-aviation-leaders-unite-for-holistic-sustainability-in-the-ecac-eu-dialogue\"><span class=\"ecl-link__label\">European Commission joins the 12th edition of the ECAC/EU Dialogue</span><svg aria-hidden=\"false\" class=\"ecl-icon ecl-icon--2xs ecl-link__icon\" focusable=\"false\"><use xlink:href=\"/themes/contrib/oe_theme/dist/ec/images/icons/sprites/icons.svg#external\"></use></svg></a></div><div class=\"ecl-content-block__description\"><p>European aviation leaders have come together in Valencia for the 12th edition of the ECAC/EU Dialogue, reaffirming their commitment to sustainable aviation.</p></div><div class=\"ecl-content-block__list-container\"></div></div></article>\n",
    "====\n",
    "Error extracting link: 'NoneType' object is not subscriptable\n",
    "<article class=\"ecl-content-item\"><div class=\"ecl-content-block ecl-content-item__content-block\" data-ecl-auto-init=\"ContentBlock\" data-ecl-content-block=\"\"><ul class=\"ecl-content-block__primary-meta-container\"><li class=\"ecl-content-block__primary-meta-item\">News article</li><li class=\"ecl-content-block__primary-meta-item\"><time datetime=\"2023-10-25T12:00:00Z\">25 October 2023</time></li></ul><div class=\"ecl-content-block__title\" data-ecl-title-link=\"\"><a class=\"ecl-link ecl-link--standalone ecl-link--icon\" href=\"https://www.ecac-ceac.org/news/960-press-release-european-aviation-leaders-unite-for-holistic-sustainability-in-the-ecac-eu-dialogue\"><span class=\"ecl-link__label\">European Commission joins the 12th edition of the ECAC/EU Dialogue</span><svg aria-hidden=\"false\" class=\"ecl-icon ecl-icon--2xs ecl-link__icon\" focusable=\"false\"><use xlink:href=\"/themes/contrib/oe_theme/dist/ec/images/icons/sprites/icons.svg#external\"></use></svg></a></div><div class=\"ecl-content-block__description\"><p>European aviation leaders have come together in Valencia for the 12th edition of the ECAC/EU Dialogue, reaffirming their commitment to sustainable aviation.</p></div><div class=\"ecl-content-block__list-container\"></div></div></article>\n",
    "====\n",
    "https://transport.ec.europa.eu/news-events/news_en?page=10\n",
    "https://transport.ec.europa.eu/news-events/news_en?page=11\n",
    "https://transport.ec.europa.eu/news-events/news_en?page=12\n",
    "https://transport.ec.europa.eu/news-events/news_en?page=13\n",
    "https://transport.ec.europa.eu/news-events/news_en?page=14\n",
    "https://transport.ec.europa.eu/news-events/news_en?page=15\n",
    "Error extracting title: 'NoneType' object has no attribute 'get_text'\n",
    "<article class=\"ecl-content-item\"><div class=\"ecl-content-block ecl-content-item__content-block\" data-ecl-auto-init=\"ContentBlock\" data-ecl-content-block=\"\"><ul class=\"ecl-content-block__primary-meta-container\"><li class=\"ecl-content-block__primary-meta-item\">News article</li><li class=\"ecl-content-block__primary-meta-item\"><time datetime=\"2023-03-14T12:00:00Z\">14 March 2023</time></li></ul><div class=\"ecl-content-block__title\" data-ecl-title-link=\"\"><a class=\"ecl-link ecl-link--standalone ecl-link--icon\" href=\"https://www.eib.org/en/press/all/2023-108-investeu-eur3-4-billion-to-modernise-the-palermo-catania-railway-line\"><span class=\"ecl-link__label\">Italy: InvestEU - €3.4 billion to modernise the Palermo-Catania railway line</span><svg aria-hidden=\"false\" class=\"ecl-icon ecl-icon--2xs ecl-link__icon\" focusable=\"false\"><use xlink:href=\"/themes/contrib/oe_theme/dist/ec/images/icons/sprites/icons.svg#external\"></use></svg></a></div><div class=\"ecl-content-block__description\"><p>The modernisation of 178 km of the Palermo-Catania line will reduce current travel times by a third, linking the two cities with a direct two-hour rail service, which will have a significant impact on economic, social, and sustainable development in Sicily.</p></div><div class=\"ecl-content-block__list-container\"></div></div></article>\n",
    "====\n",
    "Error extracting link: 'NoneType' object is not subscriptable\n",
    "<article class=\"ecl-content-item\"><div class=\"ecl-content-block ecl-content-item__content-block\" data-ecl-auto-init=\"ContentBlock\" data-ecl-content-block=\"\"><ul class=\"ecl-content-block__primary-meta-container\"><li class=\"ecl-content-block__primary-meta-item\">News article</li><li class=\"ecl-content-block__primary-meta-item\"><time datetime=\"2023-03-14T12:00:00Z\">14 March 2023</time></li></ul><div class=\"ecl-content-block__title\" data-ecl-title-link=\"\"><a class=\"ecl-link ecl-link--standalone ecl-link--icon\" href=\"https://www.eib.org/en/press/all/2023-108-investeu-eur3-4-billion-to-modernise-the-palermo-catania-railway-line\"><span class=\"ecl-link__label\">Italy: InvestEU - €3.4 billion to modernise the Palermo-Catania railway line</span><svg aria-hidden=\"false\" class=\"ecl-icon ecl-icon--2xs ecl-link__icon\" focusable=\"false\"><use xlink:href=\"/themes/contrib/oe_theme/dist/ec/images/icons/sprites/icons.svg#external\"></use></svg></a></div><div class=\"ecl-content-block__description\"><p>The modernisation of 178 km of the Palermo-Catania line will reduce current travel times by a third, linking the two cities with a direct two-hour rail service, which will have a significant impact on economic, social, and sustainable development in Sicily.</p></div><div class=\"ecl-content-block__list-container\"></div></div></article>\n",
    "====\n",
    "Error extracting title: 'NoneType' object has no attribute 'get_text'\n",
    "<article class=\"ecl-content-item\"><div class=\"ecl-content-block ecl-content-item__content-block\" data-ecl-auto-init=\"ContentBlock\" data-ecl-content-block=\"\"><ul class=\"ecl-content-block__primary-meta-container\"><li class=\"ecl-content-block__primary-meta-item\">News article</li><li class=\"ecl-content-block__primary-meta-item\"><time datetime=\"2023-02-28T12:00:00Z\">28 February 2023</time></li></ul><div class=\"ecl-content-block__title\" data-ecl-title-link=\"\"><a class=\"ecl-link ecl-link--standalone ecl-link--icon\" href=\"https://mobilityweek.eu/media-corner/\"><span class=\"ecl-link__label\">Braga, Sofia and Zagreb among the finalists for European urban mobility awards</span><svg aria-hidden=\"false\" class=\"ecl-icon ecl-icon--2xs ecl-link__icon\" focusable=\"false\"><use xlink:href=\"/themes/contrib/oe_theme/dist/ec/images/icons/sprites/icons.svg#external\"></use></svg></a></div><div class=\"ecl-content-block__description\"><p>The finalists for the EUROPEANMOBILITYWEEK award 2022 and the first-ever MOBILITYACTION award have been announced.</p></div><div class=\"ecl-content-block__list-container\"></div></div></article>\n",
    "====\n",
    "Error extracting link: 'NoneType' object is not subscriptable\n",
    "<article class=\"ecl-content-item\"><div class=\"ecl-content-block ecl-content-item__content-block\" data-ecl-auto-init=\"ContentBlock\" data-ecl-content-block=\"\"><ul class=\"ecl-content-block__primary-meta-container\"><li class=\"ecl-content-block__primary-meta-item\">News article</li><li class=\"ecl-content-block__primary-meta-item\"><time datetime=\"2023-02-28T12:00:00Z\">28 February 2023</time></li></ul><div class=\"ecl-content-block__title\" data-ecl-title-link=\"\"><a class=\"ecl-link ecl-link--standalone ecl-link--icon\" href=\"https://mobilityweek.eu/media-corner/\"><span class=\"ecl-link__label\">Braga, Sofia and Zagreb among the finalists for European urban mobility awards</span><svg aria-hidden=\"false\" class=\"ecl-icon ecl-icon--2xs ecl-link__icon\" focusable=\"false\"><use xlink:href=\"/themes/contrib/oe_theme/dist/ec/images/icons/sprites/icons.svg#external\"></use></svg></a></div><div class=\"ecl-content-block__description\"><p>The finalists for the EUROPEANMOBILITYWEEK award 2022 and the first-ever MOBILITYACTION award have been announced.</p></div><div class=\"ecl-content-block__list-container\"></div></div></article>\n",
    "====\n",
    "https://transport.ec.europa.eu/news-events/news_en?page=16\n",
    "https://transport.ec.europa.eu/news-events/news_en?page=17\n",
    "```"
   ]
  },
  {
   "cell_type": "markdown",
   "metadata": {},
   "source": [
    "<a name=\"2\"></a>\n",
    "## Agenda 2. Data wrangling"
   ]
  },
  {
   "cell_type": "markdown",
   "metadata": {},
   "source": [
    "Data wrangling is the process of converting raw data into a usable form. It typically involves examining the data, handling missing values, cleaning, and transforming it."
   ]
  },
  {
   "cell_type": "markdown",
   "metadata": {},
   "source": [
    "### Examining data"
   ]
  },
  {
   "cell_type": "markdown",
   "metadata": {
    "ExecuteTime": {
     "end_time": "2024-10-04T13:11:43.552479Z",
     "start_time": "2024-10-04T13:11:43.536199Z"
    }
   },
   "source": [
    "We start by loading our datasets and inspecting them to get a better sense of their structure. "
   ]
  },
  {
   "cell_type": "code",
   "execution_count": 62,
   "metadata": {
    "ExecuteTime": {
     "end_time": "2024-11-06T12:14:43.763386Z",
     "start_time": "2024-11-06T12:14:43.742386Z"
    }
   },
   "outputs": [],
   "source": [
    "news2023 = pd.read_csv(\"news2023.csv\", encoding=\"latin1\", names=[\"date\", \"title\", \"desc\", \"type\", \"link\"]) # import csv with column names\n",
    "news2024 = pd.read_csv(\"news2024.csv\", encoding=\"latin1\", names=[\"date\", \"title\", \"desc\", \"type\", \"link\"])"
   ]
  },
  {
   "cell_type": "code",
   "execution_count": 63,
   "metadata": {
    "ExecuteTime": {
     "end_time": "2024-11-06T12:14:46.958228Z",
     "start_time": "2024-11-06T12:14:46.938788Z"
    }
   },
   "outputs": [
    {
     "data": {
      "text/html": [
       "<div>\n",
       "<style scoped>\n",
       "    .dataframe tbody tr th:only-of-type {\n",
       "        vertical-align: middle;\n",
       "    }\n",
       "\n",
       "    .dataframe tbody tr th {\n",
       "        vertical-align: top;\n",
       "    }\n",
       "\n",
       "    .dataframe thead th {\n",
       "        text-align: right;\n",
       "    }\n",
       "</style>\n",
       "<table border=\"1\" class=\"dataframe\">\n",
       "  <thead>\n",
       "    <tr style=\"text-align: right;\">\n",
       "      <th></th>\n",
       "      <th>date</th>\n",
       "      <th>title</th>\n",
       "      <th>desc</th>\n",
       "      <th>type</th>\n",
       "      <th>link</th>\n",
       "    </tr>\n",
       "  </thead>\n",
       "  <tbody>\n",
       "    <tr>\n",
       "      <th>0</th>\n",
       "      <td>2024-01-22T12:00:00Z</td>\n",
       "      <td>Save the date: Global TBO Symposium (4-6 June ...</td>\n",
       "      <td>Towards global trajectory-based operations (TBO)</td>\n",
       "      <td>News article</td>\n",
       "      <td>https://transport.ec.europa.eu/news-events/eve...</td>\n",
       "    </tr>\n",
       "    <tr>\n",
       "      <th>1</th>\n",
       "      <td>2024-01-19T12:00:00Z</td>\n",
       "      <td>European Commission workshop addresses key cha...</td>\n",
       "      <td>Decarbonisation, digitalisation, social securi...</td>\n",
       "      <td>News article</td>\n",
       "      <td>/news-events/news/european-commission-workshop...</td>\n",
       "    </tr>\n",
       "    <tr>\n",
       "      <th>2</th>\n",
       "      <td>2024-01-16T12:00:00Z</td>\n",
       "      <td>âEurope for Aviationâ teams up for Airspa...</td>\n",
       "      <td>The âEurope for Aviationâ partners, consis...</td>\n",
       "      <td>News article</td>\n",
       "      <td>/news-events/news/europe-aviation-teams-airspa...</td>\n",
       "    </tr>\n",
       "    <tr>\n",
       "      <th>3</th>\n",
       "      <td>2023-12-21T12:00:00Z</td>\n",
       "      <td>December Infringements package: key decisions</td>\n",
       "      <td>December Infringements package: key decisions</td>\n",
       "      <td>News article</td>\n",
       "      <td>https://ec.europa.eu/commission/presscorner/de...</td>\n",
       "    </tr>\n",
       "    <tr>\n",
       "      <th>4</th>\n",
       "      <td>2023-12-19T12:00:00Z</td>\n",
       "      <td>Provisional agreement on more sustainable and ...</td>\n",
       "      <td>TEN-T Trilogue</td>\n",
       "      <td>News article</td>\n",
       "      <td>/news-events/news/provisional-agreement-more-s...</td>\n",
       "    </tr>\n",
       "    <tr>\n",
       "      <th>...</th>\n",
       "      <td>...</td>\n",
       "      <td>...</td>\n",
       "      <td>...</td>\n",
       "      <td>...</td>\n",
       "      <td>...</td>\n",
       "    </tr>\n",
       "    <tr>\n",
       "      <th>95</th>\n",
       "      <td>2022-12-19T12:00:00Z</td>\n",
       "      <td>Future Mobility: â¬40 million EIB loan for Ca...</td>\n",
       "      <td>The EIB is providing the Spanish multi-mobilit...</td>\n",
       "      <td>News article</td>\n",
       "      <td>/news-events/news/future-mobility-eu40-million...</td>\n",
       "    </tr>\n",
       "    <tr>\n",
       "      <th>96</th>\n",
       "      <td>2022-12-16T12:00:00Z</td>\n",
       "      <td>New shipping fuel standards to reduce sulphur ...</td>\n",
       "      <td>The Commission welcomes the agreement reached ...</td>\n",
       "      <td>News article</td>\n",
       "      <td>/news-events/news/new-shipping-fuel-standards-...</td>\n",
       "    </tr>\n",
       "    <tr>\n",
       "      <th>97</th>\n",
       "      <td>2022-12-15T12:00:00Z</td>\n",
       "      <td>Vacancy for one post of Seconded National Expe...</td>\n",
       "      <td>The deadline for applications is 31/01/2023 at...</td>\n",
       "      <td>News article</td>\n",
       "      <td>https://rail-research.europa.eu/about-europes-...</td>\n",
       "    </tr>\n",
       "    <tr>\n",
       "      <th>98</th>\n",
       "      <td>2022-12-09T12:00:00Z</td>\n",
       "      <td>EU-Ukraine Solidarity Lanes: Commission and EB...</td>\n",
       "      <td>The European Commission and the European Bank ...</td>\n",
       "      <td>News article</td>\n",
       "      <td>/news-events/news/eu-ukraine-solidarity-lanes-...</td>\n",
       "    </tr>\n",
       "    <tr>\n",
       "      <th>99</th>\n",
       "      <td>2022-12-08T12:00:00Z</td>\n",
       "      <td>Financing transport infrastructure in Ukraine ...</td>\n",
       "      <td>Speech by European Commissioner Adina VÄlean</td>\n",
       "      <td>Speech</td>\n",
       "      <td>https://ec.europa.eu/commission/presscorner/de...</td>\n",
       "    </tr>\n",
       "  </tbody>\n",
       "</table>\n",
       "<p>100 rows × 5 columns</p>\n",
       "</div>"
      ],
      "text/plain": [
       "                    date                                              title  \\\n",
       "0   2024-01-22T12:00:00Z  Save the date: Global TBO Symposium (4-6 June ...   \n",
       "1   2024-01-19T12:00:00Z  European Commission workshop addresses key cha...   \n",
       "2   2024-01-16T12:00:00Z   âEurope for Aviationâ teams up for Airspa...   \n",
       "3   2023-12-21T12:00:00Z      December Infringements package: key decisions   \n",
       "4   2023-12-19T12:00:00Z  Provisional agreement on more sustainable and ...   \n",
       "..                   ...                                                ...   \n",
       "95  2022-12-19T12:00:00Z  Future Mobility: â¬40 million EIB loan for Ca...   \n",
       "96  2022-12-16T12:00:00Z  New shipping fuel standards to reduce sulphur ...   \n",
       "97  2022-12-15T12:00:00Z  Vacancy for one post of Seconded National Expe...   \n",
       "98  2022-12-09T12:00:00Z  EU-Ukraine Solidarity Lanes: Commission and EB...   \n",
       "99  2022-12-08T12:00:00Z  Financing transport infrastructure in Ukraine ...   \n",
       "\n",
       "                                                 desc          type  \\\n",
       "0    Towards global trajectory-based operations (TBO)  News article   \n",
       "1   Decarbonisation, digitalisation, social securi...  News article   \n",
       "2   The âEurope for Aviationâ partners, consis...  News article   \n",
       "3       December Infringements package: key decisions  News article   \n",
       "4                                      TEN-T Trilogue  News article   \n",
       "..                                                ...           ...   \n",
       "95  The EIB is providing the Spanish multi-mobilit...  News article   \n",
       "96  The Commission welcomes the agreement reached ...  News article   \n",
       "97  The deadline for applications is 31/01/2023 at...  News article   \n",
       "98  The European Commission and the European Bank ...  News article   \n",
       "99      Speech by European Commissioner Adina VÄlean        Speech   \n",
       "\n",
       "                                                 link  \n",
       "0   https://transport.ec.europa.eu/news-events/eve...  \n",
       "1   /news-events/news/european-commission-workshop...  \n",
       "2   /news-events/news/europe-aviation-teams-airspa...  \n",
       "3   https://ec.europa.eu/commission/presscorner/de...  \n",
       "4   /news-events/news/provisional-agreement-more-s...  \n",
       "..                                                ...  \n",
       "95  /news-events/news/future-mobility-eu40-million...  \n",
       "96  /news-events/news/new-shipping-fuel-standards-...  \n",
       "97  https://rail-research.europa.eu/about-europes-...  \n",
       "98  /news-events/news/eu-ukraine-solidarity-lanes-...  \n",
       "99  https://ec.europa.eu/commission/presscorner/de...  \n",
       "\n",
       "[100 rows x 5 columns]"
      ]
     },
     "execution_count": 63,
     "metadata": {},
     "output_type": "execute_result"
    }
   ],
   "source": [
    "news2023"
   ]
  },
  {
   "cell_type": "code",
   "execution_count": 17,
   "metadata": {
    "ExecuteTime": {
     "end_time": "2024-11-06T11:20:43.521234Z",
     "start_time": "2024-11-06T11:20:43.501289Z"
    },
    "scrolled": true
   },
   "outputs": [
    {
     "data": {
      "text/html": [
       "<div>\n",
       "<style scoped>\n",
       "    .dataframe tbody tr th:only-of-type {\n",
       "        vertical-align: middle;\n",
       "    }\n",
       "\n",
       "    .dataframe tbody tr th {\n",
       "        vertical-align: top;\n",
       "    }\n",
       "\n",
       "    .dataframe thead th {\n",
       "        text-align: right;\n",
       "    }\n",
       "</style>\n",
       "<table border=\"1\" class=\"dataframe\">\n",
       "  <thead>\n",
       "    <tr style=\"text-align: right;\">\n",
       "      <th></th>\n",
       "      <th>date</th>\n",
       "      <th>title</th>\n",
       "      <th>desc</th>\n",
       "      <th>type</th>\n",
       "      <th>link</th>\n",
       "    </tr>\n",
       "  </thead>\n",
       "  <tbody>\n",
       "    <tr>\n",
       "      <th>0</th>\n",
       "      <td>2024-10-02T12:00:00Z</td>\n",
       "      <td>Single European Sky: annual monitoring highlig...</td>\n",
       "      <td>The Performance Review Body (PRB) has publishe...</td>\n",
       "      <td>News article</td>\n",
       "      <td>/news-events/news/single-european-sky-annual-m...</td>\n",
       "    </tr>\n",
       "    <tr>\n",
       "      <th>1</th>\n",
       "      <td>2024-09-25T12:00:00Z</td>\n",
       "      <td>Commission seeks feedback on the Flight Emissi...</td>\n",
       "      <td>The Commission has launched a public consultat...</td>\n",
       "      <td>News article</td>\n",
       "      <td>/news-events/news/commission-seeks-feedback-fl...</td>\n",
       "    </tr>\n",
       "    <tr>\n",
       "      <th>2</th>\n",
       "      <td>2024-09-25T12:00:00Z</td>\n",
       "      <td>Women in Rail 2024 Award to boost female talen...</td>\n",
       "      <td>The Commission together with Europe’s Rail Joi...</td>\n",
       "      <td>News article</td>\n",
       "      <td>/news-events/news/women-rail-2024-award-boost-...</td>\n",
       "    </tr>\n",
       "    <tr>\n",
       "      <th>3</th>\n",
       "      <td>2024-09-24T12:00:00Z</td>\n",
       "      <td>CEF Transport: €2.5 billion to boost resilienc...</td>\n",
       "      <td>The 2024 CEF for Transport call for proposals ...</td>\n",
       "      <td>News article</td>\n",
       "      <td>/news-events/news/cef-transport-eu25-billion-b...</td>\n",
       "    </tr>\n",
       "    <tr>\n",
       "      <th>4</th>\n",
       "      <td>2024-09-23T12:00:00Z</td>\n",
       "      <td>Rail market opening: competition leads to lowe...</td>\n",
       "      <td>A study released by the European Commission hi...</td>\n",
       "      <td>News article</td>\n",
       "      <td>/news-events/news/rail-market-opening-competit...</td>\n",
       "    </tr>\n",
       "  </tbody>\n",
       "</table>\n",
       "</div>"
      ],
      "text/plain": [
       "                   date                                              title  \\\n",
       "0  2024-10-02T12:00:00Z  Single European Sky: annual monitoring highlig...   \n",
       "1  2024-09-25T12:00:00Z  Commission seeks feedback on the Flight Emissi...   \n",
       "2  2024-09-25T12:00:00Z  Women in Rail 2024 Award to boost female talen...   \n",
       "3  2024-09-24T12:00:00Z  CEF Transport: €2.5 billion to boost resilienc...   \n",
       "4  2024-09-23T12:00:00Z  Rail market opening: competition leads to lowe...   \n",
       "\n",
       "                                                desc          type  \\\n",
       "0  The Performance Review Body (PRB) has publishe...  News article   \n",
       "1  The Commission has launched a public consultat...  News article   \n",
       "2  The Commission together with Europe’s Rail Joi...  News article   \n",
       "3  The 2024 CEF for Transport call for proposals ...  News article   \n",
       "4  A study released by the European Commission hi...  News article   \n",
       "\n",
       "                                                link  \n",
       "0  /news-events/news/single-european-sky-annual-m...  \n",
       "1  /news-events/news/commission-seeks-feedback-fl...  \n",
       "2  /news-events/news/women-rail-2024-award-boost-...  \n",
       "3  /news-events/news/cef-transport-eu25-billion-b...  \n",
       "4  /news-events/news/rail-market-opening-competit...  "
      ]
     },
     "execution_count": 17,
     "metadata": {},
     "output_type": "execute_result"
    }
   ],
   "source": [
    "news2024.head()"
   ]
  },
  {
   "cell_type": "code",
   "execution_count": 18,
   "metadata": {
    "ExecuteTime": {
     "end_time": "2024-11-06T11:20:49.998707Z",
     "start_time": "2024-11-06T11:20:49.985119Z"
    }
   },
   "outputs": [
    {
     "data": {
      "text/plain": [
       "80"
      ]
     },
     "execution_count": 18,
     "metadata": {},
     "output_type": "execute_result"
    }
   ],
   "source": [
    "len(news2024) # check the number of rows"
   ]
  },
  {
   "cell_type": "code",
   "execution_count": 19,
   "metadata": {
    "ExecuteTime": {
     "end_time": "2024-11-06T11:21:07.362092Z",
     "start_time": "2024-11-06T11:21:07.347485Z"
    }
   },
   "outputs": [
    {
     "data": {
      "text/plain": [
       "(80, 5)"
      ]
     },
     "execution_count": 19,
     "metadata": {},
     "output_type": "execute_result"
    }
   ],
   "source": [
    "news2024.shape # check the number of rows and columns"
   ]
  },
  {
   "cell_type": "code",
   "execution_count": 20,
   "metadata": {
    "ExecuteTime": {
     "end_time": "2024-11-06T11:21:16.674074Z",
     "start_time": "2024-11-06T11:21:16.647582Z"
    }
   },
   "outputs": [
    {
     "name": "stdout",
     "output_type": "stream",
     "text": [
      "<class 'pandas.core.frame.DataFrame'>\n",
      "RangeIndex: 80 entries, 0 to 79\n",
      "Data columns (total 5 columns):\n",
      " #   Column  Non-Null Count  Dtype \n",
      "---  ------  --------------  ----- \n",
      " 0   date    80 non-null     object\n",
      " 1   title   80 non-null     object\n",
      " 2   desc    80 non-null     object\n",
      " 3   type    80 non-null     object\n",
      " 4   link    80 non-null     object\n",
      "dtypes: object(5)\n",
      "memory usage: 3.3+ KB\n"
     ]
    }
   ],
   "source": [
    "news2024.info() # summarize by the columns"
   ]
  },
  {
   "cell_type": "code",
   "execution_count": 21,
   "metadata": {
    "ExecuteTime": {
     "end_time": "2024-11-06T11:21:44.938633Z",
     "start_time": "2024-11-06T11:21:44.912152Z"
    }
   },
   "outputs": [
    {
     "data": {
      "text/html": [
       "<div>\n",
       "<style scoped>\n",
       "    .dataframe tbody tr th:only-of-type {\n",
       "        vertical-align: middle;\n",
       "    }\n",
       "\n",
       "    .dataframe tbody tr th {\n",
       "        vertical-align: top;\n",
       "    }\n",
       "\n",
       "    .dataframe thead th {\n",
       "        text-align: right;\n",
       "    }\n",
       "</style>\n",
       "<table border=\"1\" class=\"dataframe\">\n",
       "  <thead>\n",
       "    <tr style=\"text-align: right;\">\n",
       "      <th></th>\n",
       "      <th>date</th>\n",
       "      <th>title</th>\n",
       "      <th>desc</th>\n",
       "      <th>type</th>\n",
       "      <th>link</th>\n",
       "    </tr>\n",
       "  </thead>\n",
       "  <tbody>\n",
       "    <tr>\n",
       "      <th>count</th>\n",
       "      <td>80</td>\n",
       "      <td>80</td>\n",
       "      <td>80</td>\n",
       "      <td>80</td>\n",
       "      <td>80</td>\n",
       "    </tr>\n",
       "    <tr>\n",
       "      <th>unique</th>\n",
       "      <td>64</td>\n",
       "      <td>80</td>\n",
       "      <td>75</td>\n",
       "      <td>2</td>\n",
       "      <td>80</td>\n",
       "    </tr>\n",
       "    <tr>\n",
       "      <th>top</th>\n",
       "      <td>2024-04-10T12:00:00Z</td>\n",
       "      <td>Single European Sky: annual monitoring highlig...</td>\n",
       "      <td>Latest figures on Ukrainian exports and import...</td>\n",
       "      <td>News article</td>\n",
       "      <td>/news-events/news/single-european-sky-annual-m...</td>\n",
       "    </tr>\n",
       "    <tr>\n",
       "      <th>freq</th>\n",
       "      <td>2</td>\n",
       "      <td>1</td>\n",
       "      <td>5</td>\n",
       "      <td>79</td>\n",
       "      <td>1</td>\n",
       "    </tr>\n",
       "  </tbody>\n",
       "</table>\n",
       "</div>"
      ],
      "text/plain": [
       "                        date  \\\n",
       "count                     80   \n",
       "unique                    64   \n",
       "top     2024-04-10T12:00:00Z   \n",
       "freq                       2   \n",
       "\n",
       "                                                    title  \\\n",
       "count                                                  80   \n",
       "unique                                                 80   \n",
       "top     Single European Sky: annual monitoring highlig...   \n",
       "freq                                                    1   \n",
       "\n",
       "                                                     desc          type  \\\n",
       "count                                                  80            80   \n",
       "unique                                                 75             2   \n",
       "top     Latest figures on Ukrainian exports and import...  News article   \n",
       "freq                                                    5            79   \n",
       "\n",
       "                                                     link  \n",
       "count                                                  80  \n",
       "unique                                                 80  \n",
       "top     /news-events/news/single-european-sky-annual-m...  \n",
       "freq                                                    1  "
      ]
     },
     "execution_count": 21,
     "metadata": {},
     "output_type": "execute_result"
    }
   ],
   "source": [
    "news2024.describe() # useful for numerical data"
   ]
  },
  {
   "cell_type": "code",
   "execution_count": 23,
   "metadata": {
    "ExecuteTime": {
     "end_time": "2024-11-06T11:22:46.373227Z",
     "start_time": "2024-11-06T11:22:46.360761Z"
    }
   },
   "outputs": [
    {
     "data": {
      "text/plain": [
       "str"
      ]
     },
     "execution_count": 23,
     "metadata": {},
     "output_type": "execute_result"
    }
   ],
   "source": [
    "type(news2024.date.iloc[0]) # check the data type"
   ]
  },
  {
   "cell_type": "code",
   "execution_count": 24,
   "metadata": {
    "ExecuteTime": {
     "end_time": "2024-11-06T11:24:06.551710Z",
     "start_time": "2024-11-06T11:24:06.536693Z"
    }
   },
   "outputs": [
    {
     "data": {
      "text/plain": [
       "array(['News article', 'Supplementary information', 'Speech'],\n",
       "      dtype=object)"
      ]
     },
     "execution_count": 24,
     "metadata": {},
     "output_type": "execute_result"
    }
   ],
   "source": [
    "news2023.type.unique() # check the unique values of a column"
   ]
  },
  {
   "cell_type": "code",
   "execution_count": 25,
   "metadata": {
    "ExecuteTime": {
     "end_time": "2024-11-06T11:24:39.486155Z",
     "start_time": "2024-11-06T11:24:39.467709Z"
    }
   },
   "outputs": [
    {
     "data": {
      "text/plain": [
       "type\n",
       "News article                 98\n",
       "Supplementary information     1\n",
       "Speech                        1\n",
       "Name: count, dtype: int64"
      ]
     },
     "execution_count": 25,
     "metadata": {},
     "output_type": "execute_result"
    }
   ],
   "source": [
    "news2023.type.value_counts() # check each value's number of occurrences"
   ]
  },
  {
   "cell_type": "markdown",
   "metadata": {},
   "source": [
    "### Handling missing values"
   ]
  },
  {
   "cell_type": "code",
   "execution_count": 26,
   "metadata": {
    "ExecuteTime": {
     "end_time": "2024-11-06T11:26:02.181050Z",
     "start_time": "2024-11-06T11:26:02.163835Z"
    }
   },
   "outputs": [
    {
     "data": {
      "text/plain": [
       "date     0\n",
       "title    0\n",
       "desc     0\n",
       "type     0\n",
       "link     0\n",
       "dtype: int64"
      ]
     },
     "execution_count": 26,
     "metadata": {},
     "output_type": "execute_result"
    }
   ],
   "source": [
    "news2024.isnull().sum() # identify missing data"
   ]
  },
  {
   "cell_type": "code",
   "execution_count": 27,
   "metadata": {
    "ExecuteTime": {
     "end_time": "2024-11-06T11:26:21.511059Z",
     "start_time": "2024-11-06T11:26:21.495499Z"
    }
   },
   "outputs": [
    {
     "data": {
      "text/plain": [
       "date     0\n",
       "title    4\n",
       "desc     0\n",
       "type     0\n",
       "link     4\n",
       "dtype: int64"
      ]
     },
     "execution_count": 27,
     "metadata": {},
     "output_type": "execute_result"
    }
   ],
   "source": [
    "news2023.isnull().sum()"
   ]
  },
  {
   "cell_type": "code",
   "execution_count": 28,
   "metadata": {
    "ExecuteTime": {
     "end_time": "2024-11-06T11:26:50.044263Z",
     "start_time": "2024-11-06T11:26:50.023614Z"
    }
   },
   "outputs": [
    {
     "data": {
      "text/html": [
       "<div>\n",
       "<style scoped>\n",
       "    .dataframe tbody tr th:only-of-type {\n",
       "        vertical-align: middle;\n",
       "    }\n",
       "\n",
       "    .dataframe tbody tr th {\n",
       "        vertical-align: top;\n",
       "    }\n",
       "\n",
       "    .dataframe thead th {\n",
       "        text-align: right;\n",
       "    }\n",
       "</style>\n",
       "<table border=\"1\" class=\"dataframe\">\n",
       "  <thead>\n",
       "    <tr style=\"text-align: right;\">\n",
       "      <th></th>\n",
       "      <th>date</th>\n",
       "      <th>title</th>\n",
       "      <th>desc</th>\n",
       "      <th>type</th>\n",
       "      <th>link</th>\n",
       "    </tr>\n",
       "  </thead>\n",
       "  <tbody>\n",
       "    <tr>\n",
       "      <th>10</th>\n",
       "      <td>2023-12-12T12:00:00Z</td>\n",
       "      <td>NaN</td>\n",
       "      <td>Transport ministers from the Western Balkans, ...</td>\n",
       "      <td>News article</td>\n",
       "      <td>NaN</td>\n",
       "    </tr>\n",
       "    <tr>\n",
       "      <th>21</th>\n",
       "      <td>2023-10-25T12:00:00Z</td>\n",
       "      <td>NaN</td>\n",
       "      <td>European aviation leaders have come together i...</td>\n",
       "      <td>News article</td>\n",
       "      <td>NaN</td>\n",
       "    </tr>\n",
       "    <tr>\n",
       "      <th>73</th>\n",
       "      <td>2023-03-14T12:00:00Z</td>\n",
       "      <td>NaN</td>\n",
       "      <td>The modernisation of 178 km of the Palermo-Cat...</td>\n",
       "      <td>News article</td>\n",
       "      <td>NaN</td>\n",
       "    </tr>\n",
       "    <tr>\n",
       "      <th>77</th>\n",
       "      <td>2023-02-28T12:00:00Z</td>\n",
       "      <td>NaN</td>\n",
       "      <td>The finalists for the EUROPEANMOBILITYWEEK awa...</td>\n",
       "      <td>News article</td>\n",
       "      <td>NaN</td>\n",
       "    </tr>\n",
       "  </tbody>\n",
       "</table>\n",
       "</div>"
      ],
      "text/plain": [
       "                    date title  \\\n",
       "10  2023-12-12T12:00:00Z   NaN   \n",
       "21  2023-10-25T12:00:00Z   NaN   \n",
       "73  2023-03-14T12:00:00Z   NaN   \n",
       "77  2023-02-28T12:00:00Z   NaN   \n",
       "\n",
       "                                                 desc          type link  \n",
       "10  Transport ministers from the Western Balkans, ...  News article  NaN  \n",
       "21  European aviation leaders have come together i...  News article  NaN  \n",
       "73  The modernisation of 178 km of the Palermo-Cat...  News article  NaN  \n",
       "77  The finalists for the EUROPEANMOBILITYWEEK awa...  News article  NaN  "
      ]
     },
     "execution_count": 28,
     "metadata": {},
     "output_type": "execute_result"
    }
   ],
   "source": [
    "news2023[news2023.title.isnull()] # pinpoint which rows have missing values"
   ]
  },
  {
   "cell_type": "code",
   "execution_count": 29,
   "metadata": {
    "ExecuteTime": {
     "end_time": "2024-11-06T11:27:19.145873Z",
     "start_time": "2024-11-06T11:27:19.128011Z"
    }
   },
   "outputs": [
    {
     "data": {
      "text/html": [
       "<div>\n",
       "<style scoped>\n",
       "    .dataframe tbody tr th:only-of-type {\n",
       "        vertical-align: middle;\n",
       "    }\n",
       "\n",
       "    .dataframe tbody tr th {\n",
       "        vertical-align: top;\n",
       "    }\n",
       "\n",
       "    .dataframe thead th {\n",
       "        text-align: right;\n",
       "    }\n",
       "</style>\n",
       "<table border=\"1\" class=\"dataframe\">\n",
       "  <thead>\n",
       "    <tr style=\"text-align: right;\">\n",
       "      <th></th>\n",
       "      <th>date</th>\n",
       "      <th>title</th>\n",
       "      <th>desc</th>\n",
       "      <th>type</th>\n",
       "      <th>link</th>\n",
       "    </tr>\n",
       "  </thead>\n",
       "  <tbody>\n",
       "    <tr>\n",
       "      <th>10</th>\n",
       "      <td>2023-12-12T12:00:00Z</td>\n",
       "      <td>NaN</td>\n",
       "      <td>Transport ministers from the Western Balkans, ...</td>\n",
       "      <td>News article</td>\n",
       "      <td>NaN</td>\n",
       "    </tr>\n",
       "    <tr>\n",
       "      <th>21</th>\n",
       "      <td>2023-10-25T12:00:00Z</td>\n",
       "      <td>NaN</td>\n",
       "      <td>European aviation leaders have come together i...</td>\n",
       "      <td>News article</td>\n",
       "      <td>NaN</td>\n",
       "    </tr>\n",
       "    <tr>\n",
       "      <th>73</th>\n",
       "      <td>2023-03-14T12:00:00Z</td>\n",
       "      <td>NaN</td>\n",
       "      <td>The modernisation of 178 km of the Palermo-Cat...</td>\n",
       "      <td>News article</td>\n",
       "      <td>NaN</td>\n",
       "    </tr>\n",
       "    <tr>\n",
       "      <th>77</th>\n",
       "      <td>2023-02-28T12:00:00Z</td>\n",
       "      <td>NaN</td>\n",
       "      <td>The finalists for the EUROPEANMOBILITYWEEK awa...</td>\n",
       "      <td>News article</td>\n",
       "      <td>NaN</td>\n",
       "    </tr>\n",
       "  </tbody>\n",
       "</table>\n",
       "</div>"
      ],
      "text/plain": [
       "                    date title  \\\n",
       "10  2023-12-12T12:00:00Z   NaN   \n",
       "21  2023-10-25T12:00:00Z   NaN   \n",
       "73  2023-03-14T12:00:00Z   NaN   \n",
       "77  2023-02-28T12:00:00Z   NaN   \n",
       "\n",
       "                                                 desc          type link  \n",
       "10  Transport ministers from the Western Balkans, ...  News article  NaN  \n",
       "21  European aviation leaders have come together i...  News article  NaN  \n",
       "73  The modernisation of 178 km of the Palermo-Cat...  News article  NaN  \n",
       "77  The finalists for the EUROPEANMOBILITYWEEK awa...  News article  NaN  "
      ]
     },
     "execution_count": 29,
     "metadata": {},
     "output_type": "execute_result"
    }
   ],
   "source": [
    "news2023[news2023.link.isnull()] # check again by \"link\""
   ]
  },
  {
   "cell_type": "markdown",
   "metadata": {},
   "source": [
    "Missing values can often skew analyses or create errors during analysis. Here are some common strategies for handling missing values:\n",
    "\n",
    "- Manually review and fix the missing data (if possible)\n",
    "- Remove missing data e.g., drop rows\n",
    "- Impute missing data e.g., replace with the mean (for numerical data)\n",
    "- Fill with a specific value e.g., replace with \"unknown\" or \"NA\"\n",
    "- Predictive imputation e.g., use machine learning models to predict missing values based on other features\n",
    "- Leave as missing\n",
    "\n",
    "For our example, we choose the first option because we have access to the original data source. Let's go back to the previous error messages."
   ]
  },
  {
   "cell_type": "markdown",
   "metadata": {},
   "source": [
    "&#x1F4A1; **Markdown**: Markdown is a markup language. It can be used as a text-to-HTML conversion tool. Read more on Jupyter [Markdown cells](https://jupyter-notebook.readthedocs.io/en/stable/examples/Notebook/Working%20With%20Markdown%20Cells.html). It can help us read the error messages and fix the missing values. Below is a direct copy & paste of the [error messages](#error) (in a Markedown cell)."
   ]
  },
  {
   "cell_type": "markdown",
   "metadata": {},
   "source": [
    "https://transport.ec.europa.eu/news-events/news_en?page=7\n",
    "https://transport.ec.europa.eu/news-events/news_en?page=8\n",
    "Error extracting title: 'NoneType' object has no attribute 'get_text'\n",
    "<article class=\"ecl-content-item\"><div class=\"ecl-content-block ecl-content-item__content-block\" data-ecl-auto-init=\"ContentBlock\" data-ecl-content-block=\"\"><ul class=\"ecl-content-block__primary-meta-container\"><li class=\"ecl-content-block__primary-meta-item\">News article</li><li class=\"ecl-content-block__primary-meta-item\"><time datetime=\"2023-12-12T12:00:00Z\">12 December 2023</time></li></ul><div class=\"ecl-content-block__title\" data-ecl-title-link=\"\"><a class=\"ecl-link ecl-link--standalone ecl-link--icon\" href=\"https://www.wbif.eu/news-details/transport-ministers-discuss-reforms-within-western-balkans-transport-community-summit\"><span class=\"ecl-link__label\">Transport Ministers discuss reforms within Western Balkans at Transport Community Summit</span><svg aria-hidden=\"false\" class=\"ecl-icon ecl-icon--2xs ecl-link__icon\" focusable=\"false\"><use xlink:href=\"/themes/contrib/oe_theme/dist/ec/images/icons/sprites/icons.svg#external\"></use></svg></a></div><div class=\"ecl-content-block__description\"><p>Transport ministers from the Western Balkans, Georgia, Moldova, and Ukraine, as well as the European Commission, gathered at the annual Ministerial Council Meeting of the Transport Community in Skopje, North Macedonia, on 12 December 2023.</p></div><div class=\"ecl-content-block__list-container\"></div></div></article>\n",
    "====\n",
    "Error extracting link: 'NoneType' object is not subscriptable\n",
    "<article class=\"ecl-content-item\"><div class=\"ecl-content-block ecl-content-item__content-block\" data-ecl-auto-init=\"ContentBlock\" data-ecl-content-block=\"\"><ul class=\"ecl-content-block__primary-meta-container\"><li class=\"ecl-content-block__primary-meta-item\">News article</li><li class=\"ecl-content-block__primary-meta-item\"><time datetime=\"2023-12-12T12:00:00Z\">12 December 2023</time></li></ul><div class=\"ecl-content-block__title\" data-ecl-title-link=\"\"><a class=\"ecl-link ecl-link--standalone ecl-link--icon\" href=\"https://www.wbif.eu/news-details/transport-ministers-discuss-reforms-within-western-balkans-transport-community-summit\"><span class=\"ecl-link__label\">Transport Ministers discuss reforms within Western Balkans at Transport Community Summit</span><svg aria-hidden=\"false\" class=\"ecl-icon ecl-icon--2xs ecl-link__icon\" focusable=\"false\"><use xlink:href=\"/themes/contrib/oe_theme/dist/ec/images/icons/sprites/icons.svg#external\"></use></svg></a></div><div class=\"ecl-content-block__description\"><p>Transport ministers from the Western Balkans, Georgia, Moldova, and Ukraine, as well as the European Commission, gathered at the annual Ministerial Council Meeting of the Transport Community in Skopje, North Macedonia, on 12 December 2023.</p></div><div class=\"ecl-content-block__list-container\"></div></div></article>\n",
    "====\n",
    "https://transport.ec.europa.eu/news-events/news_en?page=9\n",
    "Error extracting title: 'NoneType' object has no attribute 'get_text'\n",
    "<article class=\"ecl-content-item\"><div class=\"ecl-content-block ecl-content-item__content-block\" data-ecl-auto-init=\"ContentBlock\" data-ecl-content-block=\"\"><ul class=\"ecl-content-block__primary-meta-container\"><li class=\"ecl-content-block__primary-meta-item\">News article</li><li class=\"ecl-content-block__primary-meta-item\"><time datetime=\"2023-10-25T12:00:00Z\">25 October 2023</time></li></ul><div class=\"ecl-content-block__title\" data-ecl-title-link=\"\"><a class=\"ecl-link ecl-link--standalone ecl-link--icon\" href=\"https://www.ecac-ceac.org/news/960-press-release-european-aviation-leaders-unite-for-holistic-sustainability-in-the-ecac-eu-dialogue\"><span class=\"ecl-link__label\">European Commission joins the 12th edition of the ECAC/EU Dialogue</span><svg aria-hidden=\"false\" class=\"ecl-icon ecl-icon--2xs ecl-link__icon\" focusable=\"false\"><use xlink:href=\"/themes/contrib/oe_theme/dist/ec/images/icons/sprites/icons.svg#external\"></use></svg></a></div><div class=\"ecl-content-block__description\"><p>European aviation leaders have come together in Valencia for the 12th edition of the ECAC/EU Dialogue, reaffirming their commitment to sustainable aviation.</p></div><div class=\"ecl-content-block__list-container\"></div></div></article>\n",
    "====\n",
    "Error extracting link: 'NoneType' object is not subscriptable\n",
    "<article class=\"ecl-content-item\"><div class=\"ecl-content-block ecl-content-item__content-block\" data-ecl-auto-init=\"ContentBlock\" data-ecl-content-block=\"\"><ul class=\"ecl-content-block__primary-meta-container\"><li class=\"ecl-content-block__primary-meta-item\">News article</li><li class=\"ecl-content-block__primary-meta-item\"><time datetime=\"2023-10-25T12:00:00Z\">25 October 2023</time></li></ul><div class=\"ecl-content-block__title\" data-ecl-title-link=\"\"><a class=\"ecl-link ecl-link--standalone ecl-link--icon\" href=\"https://www.ecac-ceac.org/news/960-press-release-european-aviation-leaders-unite-for-holistic-sustainability-in-the-ecac-eu-dialogue\"><span class=\"ecl-link__label\">European Commission joins the 12th edition of the ECAC/EU Dialogue</span><svg aria-hidden=\"false\" class=\"ecl-icon ecl-icon--2xs ecl-link__icon\" focusable=\"false\"><use xlink:href=\"/themes/contrib/oe_theme/dist/ec/images/icons/sprites/icons.svg#external\"></use></svg></a></div><div class=\"ecl-content-block__description\"><p>European aviation leaders have come together in Valencia for the 12th edition of the ECAC/EU Dialogue, reaffirming their commitment to sustainable aviation.</p></div><div class=\"ecl-content-block__list-container\"></div></div></article>\n",
    "====\n",
    "https://transport.ec.europa.eu/news-events/news_en?page=10\n",
    "https://transport.ec.europa.eu/news-events/news_en?page=11\n",
    "https://transport.ec.europa.eu/news-events/news_en?page=12\n",
    "https://transport.ec.europa.eu/news-events/news_en?page=13\n",
    "https://transport.ec.europa.eu/news-events/news_en?page=14\n",
    "https://transport.ec.europa.eu/news-events/news_en?page=15\n",
    "Error extracting title: 'NoneType' object has no attribute 'get_text'\n",
    "<article class=\"ecl-content-item\"><div class=\"ecl-content-block ecl-content-item__content-block\" data-ecl-auto-init=\"ContentBlock\" data-ecl-content-block=\"\"><ul class=\"ecl-content-block__primary-meta-container\"><li class=\"ecl-content-block__primary-meta-item\">News article</li><li class=\"ecl-content-block__primary-meta-item\"><time datetime=\"2023-03-14T12:00:00Z\">14 March 2023</time></li></ul><div class=\"ecl-content-block__title\" data-ecl-title-link=\"\"><a class=\"ecl-link ecl-link--standalone ecl-link--icon\" href=\"https://www.eib.org/en/press/all/2023-108-investeu-eur3-4-billion-to-modernise-the-palermo-catania-railway-line\"><span class=\"ecl-link__label\">Italy: InvestEU - €3.4 billion to modernise the Palermo-Catania railway line</span><svg aria-hidden=\"false\" class=\"ecl-icon ecl-icon--2xs ecl-link__icon\" focusable=\"false\"><use xlink:href=\"/themes/contrib/oe_theme/dist/ec/images/icons/sprites/icons.svg#external\"></use></svg></a></div><div class=\"ecl-content-block__description\"><p>The modernisation of 178 km of the Palermo-Catania line will reduce current travel times by a third, linking the two cities with a direct two-hour rail service, which will have a significant impact on economic, social, and sustainable development in Sicily.</p></div><div class=\"ecl-content-block__list-container\"></div></div></article>\n",
    "====\n",
    "Error extracting link: 'NoneType' object is not subscriptable\n",
    "<article class=\"ecl-content-item\"><div class=\"ecl-content-block ecl-content-item__content-block\" data-ecl-auto-init=\"ContentBlock\" data-ecl-content-block=\"\"><ul class=\"ecl-content-block__primary-meta-container\"><li class=\"ecl-content-block__primary-meta-item\">News article</li><li class=\"ecl-content-block__primary-meta-item\"><time datetime=\"2023-03-14T12:00:00Z\">14 March 2023</time></li></ul><div class=\"ecl-content-block__title\" data-ecl-title-link=\"\"><a class=\"ecl-link ecl-link--standalone ecl-link--icon\" href=\"https://www.eib.org/en/press/all/2023-108-investeu-eur3-4-billion-to-modernise-the-palermo-catania-railway-line\"><span class=\"ecl-link__label\">Italy: InvestEU - €3.4 billion to modernise the Palermo-Catania railway line</span><svg aria-hidden=\"false\" class=\"ecl-icon ecl-icon--2xs ecl-link__icon\" focusable=\"false\"><use xlink:href=\"/themes/contrib/oe_theme/dist/ec/images/icons/sprites/icons.svg#external\"></use></svg></a></div><div class=\"ecl-content-block__description\"><p>The modernisation of 178 km of the Palermo-Catania line will reduce current travel times by a third, linking the two cities with a direct two-hour rail service, which will have a significant impact on economic, social, and sustainable development in Sicily.</p></div><div class=\"ecl-content-block__list-container\"></div></div></article>\n",
    "====\n",
    "Error extracting title: 'NoneType' object has no attribute 'get_text'\n",
    "<article class=\"ecl-content-item\"><div class=\"ecl-content-block ecl-content-item__content-block\" data-ecl-auto-init=\"ContentBlock\" data-ecl-content-block=\"\"><ul class=\"ecl-content-block__primary-meta-container\"><li class=\"ecl-content-block__primary-meta-item\">News article</li><li class=\"ecl-content-block__primary-meta-item\"><time datetime=\"2023-02-28T12:00:00Z\">28 February 2023</time></li></ul><div class=\"ecl-content-block__title\" data-ecl-title-link=\"\"><a class=\"ecl-link ecl-link--standalone ecl-link--icon\" href=\"https://mobilityweek.eu/media-corner/\"><span class=\"ecl-link__label\">Braga, Sofia and Zagreb among the finalists for European urban mobility awards</span><svg aria-hidden=\"false\" class=\"ecl-icon ecl-icon--2xs ecl-link__icon\" focusable=\"false\"><use xlink:href=\"/themes/contrib/oe_theme/dist/ec/images/icons/sprites/icons.svg#external\"></use></svg></a></div><div class=\"ecl-content-block__description\"><p>The finalists for the EUROPEANMOBILITYWEEK award 2022 and the first-ever MOBILITYACTION award have been announced.</p></div><div class=\"ecl-content-block__list-container\"></div></div></article>\n",
    "====\n",
    "Error extracting link: 'NoneType' object is not subscriptable\n",
    "<article class=\"ecl-content-item\"><div class=\"ecl-content-block ecl-content-item__content-block\" data-ecl-auto-init=\"ContentBlock\" data-ecl-content-block=\"\"><ul class=\"ecl-content-block__primary-meta-container\"><li class=\"ecl-content-block__primary-meta-item\">News article</li><li class=\"ecl-content-block__primary-meta-item\"><time datetime=\"2023-02-28T12:00:00Z\">28 February 2023</time></li></ul><div class=\"ecl-content-block__title\" data-ecl-title-link=\"\"><a class=\"ecl-link ecl-link--standalone ecl-link--icon\" href=\"https://mobilityweek.eu/media-corner/\"><span class=\"ecl-link__label\">Braga, Sofia and Zagreb among the finalists for European urban mobility awards</span><svg aria-hidden=\"false\" class=\"ecl-icon ecl-icon--2xs ecl-link__icon\" focusable=\"false\"><use xlink:href=\"/themes/contrib/oe_theme/dist/ec/images/icons/sprites/icons.svg#external\"></use></svg></a></div><div class=\"ecl-content-block__description\"><p>The finalists for the EUROPEANMOBILITYWEEK award 2022 and the first-ever MOBILITYACTION award have been announced.</p></div><div class=\"ecl-content-block__list-container\"></div></div></article>\n",
    "====\n",
    "https://transport.ec.europa.eu/news-events/news_en?page=16\n",
    "https://transport.ec.europa.eu/news-events/news_en?page=17"
   ]
  },
  {
   "cell_type": "code",
   "execution_count": 30,
   "metadata": {
    "ExecuteTime": {
     "end_time": "2024-11-06T11:33:07.338054Z",
     "start_time": "2024-11-06T11:33:07.325793Z"
    }
   },
   "outputs": [
    {
     "data": {
      "text/plain": [
       "nan"
      ]
     },
     "execution_count": 30,
     "metadata": {},
     "output_type": "execute_result"
    }
   ],
   "source": [
    "news2023.title.iloc[10]# the first missing title"
   ]
  },
  {
   "cell_type": "code",
   "execution_count": 31,
   "metadata": {
    "ExecuteTime": {
     "end_time": "2024-11-06T11:34:09.090331Z",
     "start_time": "2024-11-06T11:34:09.076338Z"
    }
   },
   "outputs": [],
   "source": [
    "# write the title to the cell\n",
    "news2023.iloc[10].title = \"Transport Ministers discuss reforms within Western Balkans at Transport Community Summit\""
   ]
  },
  {
   "cell_type": "code",
   "execution_count": 32,
   "metadata": {
    "ExecuteTime": {
     "end_time": "2024-11-06T11:34:14.137903Z",
     "start_time": "2024-11-06T11:34:14.117229Z"
    }
   },
   "outputs": [
    {
     "data": {
      "text/html": [
       "<div>\n",
       "<style scoped>\n",
       "    .dataframe tbody tr th:only-of-type {\n",
       "        vertical-align: middle;\n",
       "    }\n",
       "\n",
       "    .dataframe tbody tr th {\n",
       "        vertical-align: top;\n",
       "    }\n",
       "\n",
       "    .dataframe thead th {\n",
       "        text-align: right;\n",
       "    }\n",
       "</style>\n",
       "<table border=\"1\" class=\"dataframe\">\n",
       "  <thead>\n",
       "    <tr style=\"text-align: right;\">\n",
       "      <th></th>\n",
       "      <th>date</th>\n",
       "      <th>title</th>\n",
       "      <th>desc</th>\n",
       "      <th>type</th>\n",
       "      <th>link</th>\n",
       "    </tr>\n",
       "  </thead>\n",
       "  <tbody>\n",
       "    <tr>\n",
       "      <th>21</th>\n",
       "      <td>2023-10-25T12:00:00Z</td>\n",
       "      <td>NaN</td>\n",
       "      <td>European aviation leaders have come together i...</td>\n",
       "      <td>News article</td>\n",
       "      <td>NaN</td>\n",
       "    </tr>\n",
       "    <tr>\n",
       "      <th>73</th>\n",
       "      <td>2023-03-14T12:00:00Z</td>\n",
       "      <td>NaN</td>\n",
       "      <td>The modernisation of 178 km of the Palermo-Cat...</td>\n",
       "      <td>News article</td>\n",
       "      <td>NaN</td>\n",
       "    </tr>\n",
       "    <tr>\n",
       "      <th>77</th>\n",
       "      <td>2023-02-28T12:00:00Z</td>\n",
       "      <td>NaN</td>\n",
       "      <td>The finalists for the EUROPEANMOBILITYWEEK awa...</td>\n",
       "      <td>News article</td>\n",
       "      <td>NaN</td>\n",
       "    </tr>\n",
       "  </tbody>\n",
       "</table>\n",
       "</div>"
      ],
      "text/plain": [
       "                    date title  \\\n",
       "21  2023-10-25T12:00:00Z   NaN   \n",
       "73  2023-03-14T12:00:00Z   NaN   \n",
       "77  2023-02-28T12:00:00Z   NaN   \n",
       "\n",
       "                                                 desc          type link  \n",
       "21  European aviation leaders have come together i...  News article  NaN  \n",
       "73  The modernisation of 178 km of the Palermo-Cat...  News article  NaN  \n",
       "77  The finalists for the EUROPEANMOBILITYWEEK awa...  News article  NaN  "
      ]
     },
     "execution_count": 32,
     "metadata": {},
     "output_type": "execute_result"
    }
   ],
   "source": [
    "news2023[news2023.title.isnull()] # check missing titles again. the above one is no longer there"
   ]
  },
  {
   "cell_type": "code",
   "execution_count": 33,
   "metadata": {
    "ExecuteTime": {
     "end_time": "2024-11-06T11:34:27.231690Z",
     "start_time": "2024-11-06T11:34:27.219636Z"
    }
   },
   "outputs": [],
   "source": [
    "# do the same for the missing link\n",
    "news2023.iloc[10].link = \"https://www.wbif.eu/news-details/transport-ministers-discuss-reforms-within-western-balkans-transport-community-summit\""
   ]
  },
  {
   "cell_type": "code",
   "execution_count": 34,
   "metadata": {
    "ExecuteTime": {
     "end_time": "2024-11-06T11:34:40.196182Z",
     "start_time": "2024-11-06T11:34:40.182447Z"
    }
   },
   "outputs": [],
   "source": [
    "# do the same for the rest missing values\n",
    "news2023.iloc[21].title = \"European Commission joins the 12th edition of the ECAC/EU Dialogue\"\n",
    "news2023.iloc[21].link = \"https://www.ecac-ceac.org/news/960-press-release-european-aviation-leaders-unite-for-holistic-sustainability-in-the-ecac-eu-dialogue\"\n",
    "news2023.iloc[73].title = \"Italy: InvestEU - €3.4 billion to modernise the Palermo-Catania railway line\"\n",
    "news2023.iloc[73].link = \"https://www.eib.org/en/press/all/2023-108-investeu-eur3-4-billion-to-modernise-the-palermo-catania-railway-line\"\n",
    "news2023.iloc[77].title = \"Braga, Sofia and Zagreb among the finalists for European urban mobility awards\"\n",
    "news2023.iloc[77].link = \"https://mobilityweek.eu/media-corner/\""
   ]
  },
  {
   "cell_type": "code",
   "execution_count": 35,
   "metadata": {
    "ExecuteTime": {
     "end_time": "2024-11-06T11:34:42.562568Z",
     "start_time": "2024-11-06T11:34:42.544413Z"
    }
   },
   "outputs": [
    {
     "data": {
      "text/plain": [
       "date     0\n",
       "title    0\n",
       "desc     0\n",
       "type     0\n",
       "link     0\n",
       "dtype: int64"
      ]
     },
     "execution_count": 35,
     "metadata": {},
     "output_type": "execute_result"
    }
   ],
   "source": [
    "news2023.isnull().sum() # check again. no more missing values"
   ]
  },
  {
   "cell_type": "markdown",
   "metadata": {},
   "source": [
    "### Merging datasets"
   ]
  },
  {
   "cell_type": "markdown",
   "metadata": {},
   "source": [
    "There are many different ways of merging datasets. Check this [documentation](https://pandas.pydata.org/docs/user_guide/merging.html) or ask ChatGPT. Let's combine our two datasets into one."
   ]
  },
  {
   "cell_type": "code",
   "execution_count": 36,
   "metadata": {
    "ExecuteTime": {
     "end_time": "2024-11-06T11:35:52.285492Z",
     "start_time": "2024-11-06T11:35:52.272049Z"
    }
   },
   "outputs": [],
   "source": [
    "news = pd.concat([news2023, news2024], ignore_index=True) # concatenate and re-index"
   ]
  },
  {
   "cell_type": "code",
   "execution_count": 37,
   "metadata": {
    "ExecuteTime": {
     "end_time": "2024-11-06T11:35:53.596155Z",
     "start_time": "2024-11-06T11:35:53.576012Z"
    }
   },
   "outputs": [
    {
     "data": {
      "text/html": [
       "<div>\n",
       "<style scoped>\n",
       "    .dataframe tbody tr th:only-of-type {\n",
       "        vertical-align: middle;\n",
       "    }\n",
       "\n",
       "    .dataframe tbody tr th {\n",
       "        vertical-align: top;\n",
       "    }\n",
       "\n",
       "    .dataframe thead th {\n",
       "        text-align: right;\n",
       "    }\n",
       "</style>\n",
       "<table border=\"1\" class=\"dataframe\">\n",
       "  <thead>\n",
       "    <tr style=\"text-align: right;\">\n",
       "      <th></th>\n",
       "      <th>date</th>\n",
       "      <th>title</th>\n",
       "      <th>desc</th>\n",
       "      <th>type</th>\n",
       "      <th>link</th>\n",
       "    </tr>\n",
       "  </thead>\n",
       "  <tbody>\n",
       "    <tr>\n",
       "      <th>0</th>\n",
       "      <td>2024-01-22T12:00:00Z</td>\n",
       "      <td>Save the date: Global TBO Symposium (4-6 June ...</td>\n",
       "      <td>Towards global trajectory-based operations (TBO)</td>\n",
       "      <td>News article</td>\n",
       "      <td>https://transport.ec.europa.eu/news-events/eve...</td>\n",
       "    </tr>\n",
       "    <tr>\n",
       "      <th>1</th>\n",
       "      <td>2024-01-19T12:00:00Z</td>\n",
       "      <td>European Commission workshop addresses key cha...</td>\n",
       "      <td>Decarbonisation, digitalisation, social securi...</td>\n",
       "      <td>News article</td>\n",
       "      <td>/news-events/news/european-commission-workshop...</td>\n",
       "    </tr>\n",
       "    <tr>\n",
       "      <th>2</th>\n",
       "      <td>2024-01-16T12:00:00Z</td>\n",
       "      <td>“Europe for Aviation” teams up for Airspace W...</td>\n",
       "      <td>The “Europe for Aviation” partners, consisting...</td>\n",
       "      <td>News article</td>\n",
       "      <td>/news-events/news/europe-aviation-teams-airspa...</td>\n",
       "    </tr>\n",
       "    <tr>\n",
       "      <th>3</th>\n",
       "      <td>2023-12-21T12:00:00Z</td>\n",
       "      <td>December Infringements package: key decisions</td>\n",
       "      <td>December Infringements package: key decisions</td>\n",
       "      <td>News article</td>\n",
       "      <td>https://ec.europa.eu/commission/presscorner/de...</td>\n",
       "    </tr>\n",
       "    <tr>\n",
       "      <th>4</th>\n",
       "      <td>2023-12-19T12:00:00Z</td>\n",
       "      <td>Provisional agreement on more sustainable and ...</td>\n",
       "      <td>TEN-T Trilogue</td>\n",
       "      <td>News article</td>\n",
       "      <td>/news-events/news/provisional-agreement-more-s...</td>\n",
       "    </tr>\n",
       "    <tr>\n",
       "      <th>...</th>\n",
       "      <td>...</td>\n",
       "      <td>...</td>\n",
       "      <td>...</td>\n",
       "      <td>...</td>\n",
       "      <td>...</td>\n",
       "    </tr>\n",
       "    <tr>\n",
       "      <th>175</th>\n",
       "      <td>2023-12-18T12:00:00Z</td>\n",
       "      <td>Joint Statement on Higher Airspace Operations ...</td>\n",
       "      <td>Joint Statement on Higher Airspace Operations ...</td>\n",
       "      <td>News article</td>\n",
       "      <td>/news-events/news/joint-statement-higher-airsp...</td>\n",
       "    </tr>\n",
       "    <tr>\n",
       "      <th>176</th>\n",
       "      <td>2023-12-15T12:00:00Z</td>\n",
       "      <td>Moldova receives additional funding to improve...</td>\n",
       "      <td>The European Investment Bank has today signed ...</td>\n",
       "      <td>News article</td>\n",
       "      <td>https://ec.europa.eu/commission/presscorner/de...</td>\n",
       "    </tr>\n",
       "    <tr>\n",
       "      <th>177</th>\n",
       "      <td>2023-12-14T12:00:00Z</td>\n",
       "      <td>Single European Sky: Performance Review Body p...</td>\n",
       "      <td>The Performance Review Body (PRB) of the Singl...</td>\n",
       "      <td>News article</td>\n",
       "      <td>/news-events/news/single-european-sky-performa...</td>\n",
       "    </tr>\n",
       "    <tr>\n",
       "      <th>178</th>\n",
       "      <td>2023-12-14T12:00:00Z</td>\n",
       "      <td>New website of the EU Urban Mobility Observatory</td>\n",
       "      <td>New website of the EU Urban Mobility Observatory</td>\n",
       "      <td>News article</td>\n",
       "      <td>https://urban-mobility-observatory.transport.e...</td>\n",
       "    </tr>\n",
       "    <tr>\n",
       "      <th>179</th>\n",
       "      <td>2023-12-13T12:00:00Z</td>\n",
       "      <td>Call for applications for the selection of mem...</td>\n",
       "      <td>The Commission is calling for applications wit...</td>\n",
       "      <td>News article</td>\n",
       "      <td>/news-events/news/call-applications-selection-...</td>\n",
       "    </tr>\n",
       "  </tbody>\n",
       "</table>\n",
       "<p>180 rows × 5 columns</p>\n",
       "</div>"
      ],
      "text/plain": [
       "                     date                                              title  \\\n",
       "0    2024-01-22T12:00:00Z  Save the date: Global TBO Symposium (4-6 June ...   \n",
       "1    2024-01-19T12:00:00Z  European Commission workshop addresses key cha...   \n",
       "2    2024-01-16T12:00:00Z   “Europe for Aviation” teams up for Airspace W...   \n",
       "3    2023-12-21T12:00:00Z      December Infringements package: key decisions   \n",
       "4    2023-12-19T12:00:00Z  Provisional agreement on more sustainable and ...   \n",
       "..                    ...                                                ...   \n",
       "175  2023-12-18T12:00:00Z  Joint Statement on Higher Airspace Operations ...   \n",
       "176  2023-12-15T12:00:00Z  Moldova receives additional funding to improve...   \n",
       "177  2023-12-14T12:00:00Z  Single European Sky: Performance Review Body p...   \n",
       "178  2023-12-14T12:00:00Z   New website of the EU Urban Mobility Observatory   \n",
       "179  2023-12-13T12:00:00Z  Call for applications for the selection of mem...   \n",
       "\n",
       "                                                  desc          type  \\\n",
       "0     Towards global trajectory-based operations (TBO)  News article   \n",
       "1    Decarbonisation, digitalisation, social securi...  News article   \n",
       "2    The “Europe for Aviation” partners, consisting...  News article   \n",
       "3        December Infringements package: key decisions  News article   \n",
       "4                                       TEN-T Trilogue  News article   \n",
       "..                                                 ...           ...   \n",
       "175  Joint Statement on Higher Airspace Operations ...  News article   \n",
       "176  The European Investment Bank has today signed ...  News article   \n",
       "177  The Performance Review Body (PRB) of the Singl...  News article   \n",
       "178   New website of the EU Urban Mobility Observatory  News article   \n",
       "179  The Commission is calling for applications wit...  News article   \n",
       "\n",
       "                                                  link  \n",
       "0    https://transport.ec.europa.eu/news-events/eve...  \n",
       "1    /news-events/news/european-commission-workshop...  \n",
       "2    /news-events/news/europe-aviation-teams-airspa...  \n",
       "3    https://ec.europa.eu/commission/presscorner/de...  \n",
       "4    /news-events/news/provisional-agreement-more-s...  \n",
       "..                                                 ...  \n",
       "175  /news-events/news/joint-statement-higher-airsp...  \n",
       "176  https://ec.europa.eu/commission/presscorner/de...  \n",
       "177  /news-events/news/single-european-sky-performa...  \n",
       "178  https://urban-mobility-observatory.transport.e...  \n",
       "179  /news-events/news/call-applications-selection-...  \n",
       "\n",
       "[180 rows x 5 columns]"
      ]
     },
     "execution_count": 37,
     "metadata": {},
     "output_type": "execute_result"
    }
   ],
   "source": [
    "news"
   ]
  },
  {
   "cell_type": "code",
   "execution_count": 38,
   "metadata": {
    "ExecuteTime": {
     "end_time": "2024-11-06T11:36:17.047381Z",
     "start_time": "2024-11-06T11:36:17.030458Z"
    }
   },
   "outputs": [
    {
     "data": {
      "text/plain": [
       "date     0\n",
       "title    0\n",
       "desc     0\n",
       "type     0\n",
       "link     0\n",
       "dtype: int64"
      ]
     },
     "execution_count": 38,
     "metadata": {},
     "output_type": "execute_result"
    }
   ],
   "source": [
    "news.isnull().sum()"
   ]
  },
  {
   "cell_type": "markdown",
   "metadata": {},
   "source": [
    "Nothing is missing. However, we might have created duplicated values when merging datasets."
   ]
  },
  {
   "cell_type": "markdown",
   "metadata": {},
   "source": [
    "### Cleaning"
   ]
  },
  {
   "cell_type": "code",
   "execution_count": 39,
   "metadata": {
    "ExecuteTime": {
     "end_time": "2024-11-06T11:37:29.182972Z",
     "start_time": "2024-11-06T11:37:29.157687Z"
    }
   },
   "outputs": [
    {
     "data": {
      "text/html": [
       "<div>\n",
       "<style scoped>\n",
       "    .dataframe tbody tr th:only-of-type {\n",
       "        vertical-align: middle;\n",
       "    }\n",
       "\n",
       "    .dataframe tbody tr th {\n",
       "        vertical-align: top;\n",
       "    }\n",
       "\n",
       "    .dataframe thead th {\n",
       "        text-align: right;\n",
       "    }\n",
       "</style>\n",
       "<table border=\"1\" class=\"dataframe\">\n",
       "  <thead>\n",
       "    <tr style=\"text-align: right;\">\n",
       "      <th></th>\n",
       "      <th>date</th>\n",
       "      <th>title</th>\n",
       "      <th>desc</th>\n",
       "      <th>type</th>\n",
       "      <th>link</th>\n",
       "    </tr>\n",
       "  </thead>\n",
       "  <tbody>\n",
       "    <tr>\n",
       "      <th>170</th>\n",
       "      <td>2024-01-22T12:00:00Z</td>\n",
       "      <td>Save the date: Global TBO Symposium (4-6 June ...</td>\n",
       "      <td>Towards global trajectory-based operations (TBO)</td>\n",
       "      <td>News article</td>\n",
       "      <td>https://transport.ec.europa.eu/news-events/eve...</td>\n",
       "    </tr>\n",
       "    <tr>\n",
       "      <th>171</th>\n",
       "      <td>2024-01-19T12:00:00Z</td>\n",
       "      <td>European Commission workshop addresses key cha...</td>\n",
       "      <td>Decarbonisation, digitalisation, social securi...</td>\n",
       "      <td>News article</td>\n",
       "      <td>/news-events/news/european-commission-workshop...</td>\n",
       "    </tr>\n",
       "    <tr>\n",
       "      <th>172</th>\n",
       "      <td>2024-01-16T12:00:00Z</td>\n",
       "      <td>“Europe for Aviation” teams up for Airspace W...</td>\n",
       "      <td>The “Europe for Aviation” partners, consisting...</td>\n",
       "      <td>News article</td>\n",
       "      <td>/news-events/news/europe-aviation-teams-airspa...</td>\n",
       "    </tr>\n",
       "    <tr>\n",
       "      <th>173</th>\n",
       "      <td>2023-12-21T12:00:00Z</td>\n",
       "      <td>December Infringements package: key decisions</td>\n",
       "      <td>December Infringements package: key decisions</td>\n",
       "      <td>News article</td>\n",
       "      <td>https://ec.europa.eu/commission/presscorner/de...</td>\n",
       "    </tr>\n",
       "    <tr>\n",
       "      <th>174</th>\n",
       "      <td>2023-12-19T12:00:00Z</td>\n",
       "      <td>Provisional agreement on more sustainable and ...</td>\n",
       "      <td>TEN-T Trilogue</td>\n",
       "      <td>News article</td>\n",
       "      <td>/news-events/news/provisional-agreement-more-s...</td>\n",
       "    </tr>\n",
       "    <tr>\n",
       "      <th>175</th>\n",
       "      <td>2023-12-18T12:00:00Z</td>\n",
       "      <td>Joint Statement on Higher Airspace Operations ...</td>\n",
       "      <td>Joint Statement on Higher Airspace Operations ...</td>\n",
       "      <td>News article</td>\n",
       "      <td>/news-events/news/joint-statement-higher-airsp...</td>\n",
       "    </tr>\n",
       "    <tr>\n",
       "      <th>176</th>\n",
       "      <td>2023-12-15T12:00:00Z</td>\n",
       "      <td>Moldova receives additional funding to improve...</td>\n",
       "      <td>The European Investment Bank has today signed ...</td>\n",
       "      <td>News article</td>\n",
       "      <td>https://ec.europa.eu/commission/presscorner/de...</td>\n",
       "    </tr>\n",
       "    <tr>\n",
       "      <th>177</th>\n",
       "      <td>2023-12-14T12:00:00Z</td>\n",
       "      <td>Single European Sky: Performance Review Body p...</td>\n",
       "      <td>The Performance Review Body (PRB) of the Singl...</td>\n",
       "      <td>News article</td>\n",
       "      <td>/news-events/news/single-european-sky-performa...</td>\n",
       "    </tr>\n",
       "    <tr>\n",
       "      <th>178</th>\n",
       "      <td>2023-12-14T12:00:00Z</td>\n",
       "      <td>New website of the EU Urban Mobility Observatory</td>\n",
       "      <td>New website of the EU Urban Mobility Observatory</td>\n",
       "      <td>News article</td>\n",
       "      <td>https://urban-mobility-observatory.transport.e...</td>\n",
       "    </tr>\n",
       "    <tr>\n",
       "      <th>179</th>\n",
       "      <td>2023-12-13T12:00:00Z</td>\n",
       "      <td>Call for applications for the selection of mem...</td>\n",
       "      <td>The Commission is calling for applications wit...</td>\n",
       "      <td>News article</td>\n",
       "      <td>/news-events/news/call-applications-selection-...</td>\n",
       "    </tr>\n",
       "  </tbody>\n",
       "</table>\n",
       "</div>"
      ],
      "text/plain": [
       "                     date                                              title  \\\n",
       "170  2024-01-22T12:00:00Z  Save the date: Global TBO Symposium (4-6 June ...   \n",
       "171  2024-01-19T12:00:00Z  European Commission workshop addresses key cha...   \n",
       "172  2024-01-16T12:00:00Z   “Europe for Aviation” teams up for Airspace W...   \n",
       "173  2023-12-21T12:00:00Z      December Infringements package: key decisions   \n",
       "174  2023-12-19T12:00:00Z  Provisional agreement on more sustainable and ...   \n",
       "175  2023-12-18T12:00:00Z  Joint Statement on Higher Airspace Operations ...   \n",
       "176  2023-12-15T12:00:00Z  Moldova receives additional funding to improve...   \n",
       "177  2023-12-14T12:00:00Z  Single European Sky: Performance Review Body p...   \n",
       "178  2023-12-14T12:00:00Z   New website of the EU Urban Mobility Observatory   \n",
       "179  2023-12-13T12:00:00Z  Call for applications for the selection of mem...   \n",
       "\n",
       "                                                  desc          type  \\\n",
       "170   Towards global trajectory-based operations (TBO)  News article   \n",
       "171  Decarbonisation, digitalisation, social securi...  News article   \n",
       "172  The “Europe for Aviation” partners, consisting...  News article   \n",
       "173      December Infringements package: key decisions  News article   \n",
       "174                                     TEN-T Trilogue  News article   \n",
       "175  Joint Statement on Higher Airspace Operations ...  News article   \n",
       "176  The European Investment Bank has today signed ...  News article   \n",
       "177  The Performance Review Body (PRB) of the Singl...  News article   \n",
       "178   New website of the EU Urban Mobility Observatory  News article   \n",
       "179  The Commission is calling for applications wit...  News article   \n",
       "\n",
       "                                                  link  \n",
       "170  https://transport.ec.europa.eu/news-events/eve...  \n",
       "171  /news-events/news/european-commission-workshop...  \n",
       "172  /news-events/news/europe-aviation-teams-airspa...  \n",
       "173  https://ec.europa.eu/commission/presscorner/de...  \n",
       "174  /news-events/news/provisional-agreement-more-s...  \n",
       "175  /news-events/news/joint-statement-higher-airsp...  \n",
       "176  https://ec.europa.eu/commission/presscorner/de...  \n",
       "177  /news-events/news/single-european-sky-performa...  \n",
       "178  https://urban-mobility-observatory.transport.e...  \n",
       "179  /news-events/news/call-applications-selection-...  "
      ]
     },
     "execution_count": 39,
     "metadata": {},
     "output_type": "execute_result"
    }
   ],
   "source": [
    "news[news.duplicated()] # identify duplicated rows"
   ]
  },
  {
   "cell_type": "code",
   "execution_count": 40,
   "metadata": {
    "ExecuteTime": {
     "end_time": "2024-11-06T11:37:49.472109Z",
     "start_time": "2024-11-06T11:37:49.450291Z"
    }
   },
   "outputs": [
    {
     "data": {
      "text/plain": [
       "0      False\n",
       "1      False\n",
       "2      False\n",
       "3      False\n",
       "4      False\n",
       "       ...  \n",
       "175     True\n",
       "176     True\n",
       "177     True\n",
       "178     True\n",
       "179     True\n",
       "Length: 180, dtype: bool"
      ]
     },
     "execution_count": 40,
     "metadata": {},
     "output_type": "execute_result"
    }
   ],
   "source": [
    "news.duplicated() # returns a Boolean Series indicating whether each row is a duplicate of a previous row"
   ]
  },
  {
   "cell_type": "code",
   "execution_count": 41,
   "metadata": {
    "ExecuteTime": {
     "end_time": "2024-11-06T11:38:25.909237Z",
     "start_time": "2024-11-06T11:38:25.893186Z"
    }
   },
   "outputs": [
    {
     "data": {
      "text/plain": [
       "169    False\n",
       "170     True\n",
       "171     True\n",
       "172     True\n",
       "173     True\n",
       "174     True\n",
       "175     True\n",
       "176     True\n",
       "177     True\n",
       "178     True\n",
       "179     True\n",
       "dtype: bool"
      ]
     },
     "execution_count": 41,
     "metadata": {},
     "output_type": "execute_result"
    }
   ],
   "source": [
    "news.duplicated().tail(11)"
   ]
  },
  {
   "cell_type": "code",
   "execution_count": 42,
   "metadata": {
    "ExecuteTime": {
     "end_time": "2024-11-06T11:38:47.142320Z",
     "start_time": "2024-11-06T11:38:47.127478Z"
    }
   },
   "outputs": [],
   "source": [
    "news = news.drop_duplicates() # drop duplicated rows"
   ]
  },
  {
   "cell_type": "code",
   "execution_count": 43,
   "metadata": {
    "ExecuteTime": {
     "end_time": "2024-11-06T11:38:49.039937Z",
     "start_time": "2024-11-06T11:38:49.019040Z"
    }
   },
   "outputs": [
    {
     "data": {
      "text/html": [
       "<div>\n",
       "<style scoped>\n",
       "    .dataframe tbody tr th:only-of-type {\n",
       "        vertical-align: middle;\n",
       "    }\n",
       "\n",
       "    .dataframe tbody tr th {\n",
       "        vertical-align: top;\n",
       "    }\n",
       "\n",
       "    .dataframe thead th {\n",
       "        text-align: right;\n",
       "    }\n",
       "</style>\n",
       "<table border=\"1\" class=\"dataframe\">\n",
       "  <thead>\n",
       "    <tr style=\"text-align: right;\">\n",
       "      <th></th>\n",
       "      <th>date</th>\n",
       "      <th>title</th>\n",
       "      <th>desc</th>\n",
       "      <th>type</th>\n",
       "      <th>link</th>\n",
       "    </tr>\n",
       "  </thead>\n",
       "  <tbody>\n",
       "    <tr>\n",
       "      <th>0</th>\n",
       "      <td>2024-01-22T12:00:00Z</td>\n",
       "      <td>Save the date: Global TBO Symposium (4-6 June ...</td>\n",
       "      <td>Towards global trajectory-based operations (TBO)</td>\n",
       "      <td>News article</td>\n",
       "      <td>https://transport.ec.europa.eu/news-events/eve...</td>\n",
       "    </tr>\n",
       "    <tr>\n",
       "      <th>1</th>\n",
       "      <td>2024-01-19T12:00:00Z</td>\n",
       "      <td>European Commission workshop addresses key cha...</td>\n",
       "      <td>Decarbonisation, digitalisation, social securi...</td>\n",
       "      <td>News article</td>\n",
       "      <td>/news-events/news/european-commission-workshop...</td>\n",
       "    </tr>\n",
       "    <tr>\n",
       "      <th>2</th>\n",
       "      <td>2024-01-16T12:00:00Z</td>\n",
       "      <td>“Europe for Aviation” teams up for Airspace W...</td>\n",
       "      <td>The “Europe for Aviation” partners, consisting...</td>\n",
       "      <td>News article</td>\n",
       "      <td>/news-events/news/europe-aviation-teams-airspa...</td>\n",
       "    </tr>\n",
       "    <tr>\n",
       "      <th>3</th>\n",
       "      <td>2023-12-21T12:00:00Z</td>\n",
       "      <td>December Infringements package: key decisions</td>\n",
       "      <td>December Infringements package: key decisions</td>\n",
       "      <td>News article</td>\n",
       "      <td>https://ec.europa.eu/commission/presscorner/de...</td>\n",
       "    </tr>\n",
       "    <tr>\n",
       "      <th>4</th>\n",
       "      <td>2023-12-19T12:00:00Z</td>\n",
       "      <td>Provisional agreement on more sustainable and ...</td>\n",
       "      <td>TEN-T Trilogue</td>\n",
       "      <td>News article</td>\n",
       "      <td>/news-events/news/provisional-agreement-more-s...</td>\n",
       "    </tr>\n",
       "    <tr>\n",
       "      <th>...</th>\n",
       "      <td>...</td>\n",
       "      <td>...</td>\n",
       "      <td>...</td>\n",
       "      <td>...</td>\n",
       "      <td>...</td>\n",
       "    </tr>\n",
       "    <tr>\n",
       "      <th>165</th>\n",
       "      <td>2024-01-29T12:00:00Z</td>\n",
       "      <td>Commission proposes to modernise river informa...</td>\n",
       "      <td>The Commission adopted a proposal to improve t...</td>\n",
       "      <td>News article</td>\n",
       "      <td>/news-events/news/commission-proposes-modernis...</td>\n",
       "    </tr>\n",
       "    <tr>\n",
       "      <th>166</th>\n",
       "      <td>2024-01-25T12:00:00Z</td>\n",
       "      <td>New report comparing air traffic management pe...</td>\n",
       "      <td>In the ongoing series of comparative reports b...</td>\n",
       "      <td>News article</td>\n",
       "      <td>/news-events/news/new-report-comparing-air-tra...</td>\n",
       "    </tr>\n",
       "    <tr>\n",
       "      <th>167</th>\n",
       "      <td>2024-01-25T12:00:00Z</td>\n",
       "      <td>STF: Call for applications for new sub-groups ...</td>\n",
       "      <td>Sustainable Transport Forum – new calls for ap...</td>\n",
       "      <td>News article</td>\n",
       "      <td>/news-events/news/stf-call-applications-new-su...</td>\n",
       "    </tr>\n",
       "    <tr>\n",
       "      <th>168</th>\n",
       "      <td>2024-01-24T12:00:00Z</td>\n",
       "      <td>Commission supports military mobility projects...</td>\n",
       "      <td>The Commission will fund 38 additional militar...</td>\n",
       "      <td>News article</td>\n",
       "      <td>/news-events/news/commission-supports-military...</td>\n",
       "    </tr>\n",
       "    <tr>\n",
       "      <th>169</th>\n",
       "      <td>2024-01-23T12:00:00Z</td>\n",
       "      <td>New deadline for the call for applications for...</td>\n",
       "      <td>Deadline for the call for applications for the...</td>\n",
       "      <td>News article</td>\n",
       "      <td>/news-events/news/new-deadline-call-applicatio...</td>\n",
       "    </tr>\n",
       "  </tbody>\n",
       "</table>\n",
       "<p>170 rows × 5 columns</p>\n",
       "</div>"
      ],
      "text/plain": [
       "                     date                                              title  \\\n",
       "0    2024-01-22T12:00:00Z  Save the date: Global TBO Symposium (4-6 June ...   \n",
       "1    2024-01-19T12:00:00Z  European Commission workshop addresses key cha...   \n",
       "2    2024-01-16T12:00:00Z   “Europe for Aviation” teams up for Airspace W...   \n",
       "3    2023-12-21T12:00:00Z      December Infringements package: key decisions   \n",
       "4    2023-12-19T12:00:00Z  Provisional agreement on more sustainable and ...   \n",
       "..                    ...                                                ...   \n",
       "165  2024-01-29T12:00:00Z  Commission proposes to modernise river informa...   \n",
       "166  2024-01-25T12:00:00Z  New report comparing air traffic management pe...   \n",
       "167  2024-01-25T12:00:00Z  STF: Call for applications for new sub-groups ...   \n",
       "168  2024-01-24T12:00:00Z  Commission supports military mobility projects...   \n",
       "169  2024-01-23T12:00:00Z  New deadline for the call for applications for...   \n",
       "\n",
       "                                                  desc          type  \\\n",
       "0     Towards global trajectory-based operations (TBO)  News article   \n",
       "1    Decarbonisation, digitalisation, social securi...  News article   \n",
       "2    The “Europe for Aviation” partners, consisting...  News article   \n",
       "3        December Infringements package: key decisions  News article   \n",
       "4                                       TEN-T Trilogue  News article   \n",
       "..                                                 ...           ...   \n",
       "165  The Commission adopted a proposal to improve t...  News article   \n",
       "166  In the ongoing series of comparative reports b...  News article   \n",
       "167  Sustainable Transport Forum – new calls for ap...  News article   \n",
       "168  The Commission will fund 38 additional militar...  News article   \n",
       "169  Deadline for the call for applications for the...  News article   \n",
       "\n",
       "                                                  link  \n",
       "0    https://transport.ec.europa.eu/news-events/eve...  \n",
       "1    /news-events/news/european-commission-workshop...  \n",
       "2    /news-events/news/europe-aviation-teams-airspa...  \n",
       "3    https://ec.europa.eu/commission/presscorner/de...  \n",
       "4    /news-events/news/provisional-agreement-more-s...  \n",
       "..                                                 ...  \n",
       "165  /news-events/news/commission-proposes-modernis...  \n",
       "166  /news-events/news/new-report-comparing-air-tra...  \n",
       "167  /news-events/news/stf-call-applications-new-su...  \n",
       "168  /news-events/news/commission-supports-military...  \n",
       "169  /news-events/news/new-deadline-call-applicatio...  \n",
       "\n",
       "[170 rows x 5 columns]"
      ]
     },
     "execution_count": 43,
     "metadata": {},
     "output_type": "execute_result"
    }
   ],
   "source": [
    "news"
   ]
  },
  {
   "cell_type": "markdown",
   "metadata": {},
   "source": [
    "We also want to fix the date using [`pandas.to_datetime` function](https://pandas.pydata.org/docs/reference/api/pandas.to_datetime.html). "
   ]
  },
  {
   "cell_type": "code",
   "execution_count": 44,
   "metadata": {
    "ExecuteTime": {
     "end_time": "2024-11-06T11:39:44.928655Z",
     "start_time": "2024-11-06T11:39:44.915501Z"
    }
   },
   "outputs": [
    {
     "data": {
      "text/plain": [
       "str"
      ]
     },
     "execution_count": 44,
     "metadata": {},
     "output_type": "execute_result"
    }
   ],
   "source": [
    "type(news.date[0])"
   ]
  },
  {
   "cell_type": "code",
   "execution_count": 45,
   "metadata": {
    "ExecuteTime": {
     "end_time": "2024-11-06T11:40:02.652100Z",
     "start_time": "2024-11-06T11:40:02.628345Z"
    }
   },
   "outputs": [],
   "source": [
    "news.loc[:, \"date\"] = pd.to_datetime(news.date) # change the data type to date"
   ]
  },
  {
   "cell_type": "code",
   "execution_count": 46,
   "metadata": {
    "ExecuteTime": {
     "end_time": "2024-11-06T11:40:36.369449Z",
     "start_time": "2024-11-06T11:40:36.357024Z"
    }
   },
   "outputs": [
    {
     "data": {
      "text/plain": [
       "pandas._libs.tslibs.timestamps.Timestamp"
      ]
     },
     "execution_count": 46,
     "metadata": {},
     "output_type": "execute_result"
    }
   ],
   "source": [
    "type(news.date[0])"
   ]
  },
  {
   "cell_type": "code",
   "execution_count": 47,
   "metadata": {
    "ExecuteTime": {
     "end_time": "2024-11-06T11:40:45.400293Z",
     "start_time": "2024-11-06T11:40:45.378229Z"
    }
   },
   "outputs": [
    {
     "data": {
      "text/html": [
       "<div>\n",
       "<style scoped>\n",
       "    .dataframe tbody tr th:only-of-type {\n",
       "        vertical-align: middle;\n",
       "    }\n",
       "\n",
       "    .dataframe tbody tr th {\n",
       "        vertical-align: top;\n",
       "    }\n",
       "\n",
       "    .dataframe thead th {\n",
       "        text-align: right;\n",
       "    }\n",
       "</style>\n",
       "<table border=\"1\" class=\"dataframe\">\n",
       "  <thead>\n",
       "    <tr style=\"text-align: right;\">\n",
       "      <th></th>\n",
       "      <th>date</th>\n",
       "      <th>title</th>\n",
       "      <th>desc</th>\n",
       "      <th>type</th>\n",
       "      <th>link</th>\n",
       "    </tr>\n",
       "  </thead>\n",
       "  <tbody>\n",
       "    <tr>\n",
       "      <th>0</th>\n",
       "      <td>2024-01-22 12:00:00+00:00</td>\n",
       "      <td>Save the date: Global TBO Symposium (4-6 June ...</td>\n",
       "      <td>Towards global trajectory-based operations (TBO)</td>\n",
       "      <td>News article</td>\n",
       "      <td>https://transport.ec.europa.eu/news-events/eve...</td>\n",
       "    </tr>\n",
       "    <tr>\n",
       "      <th>1</th>\n",
       "      <td>2024-01-19 12:00:00+00:00</td>\n",
       "      <td>European Commission workshop addresses key cha...</td>\n",
       "      <td>Decarbonisation, digitalisation, social securi...</td>\n",
       "      <td>News article</td>\n",
       "      <td>/news-events/news/european-commission-workshop...</td>\n",
       "    </tr>\n",
       "    <tr>\n",
       "      <th>2</th>\n",
       "      <td>2024-01-16 12:00:00+00:00</td>\n",
       "      <td>“Europe for Aviation” teams up for Airspace W...</td>\n",
       "      <td>The “Europe for Aviation” partners, consisting...</td>\n",
       "      <td>News article</td>\n",
       "      <td>/news-events/news/europe-aviation-teams-airspa...</td>\n",
       "    </tr>\n",
       "    <tr>\n",
       "      <th>3</th>\n",
       "      <td>2023-12-21 12:00:00+00:00</td>\n",
       "      <td>December Infringements package: key decisions</td>\n",
       "      <td>December Infringements package: key decisions</td>\n",
       "      <td>News article</td>\n",
       "      <td>https://ec.europa.eu/commission/presscorner/de...</td>\n",
       "    </tr>\n",
       "    <tr>\n",
       "      <th>4</th>\n",
       "      <td>2023-12-19 12:00:00+00:00</td>\n",
       "      <td>Provisional agreement on more sustainable and ...</td>\n",
       "      <td>TEN-T Trilogue</td>\n",
       "      <td>News article</td>\n",
       "      <td>/news-events/news/provisional-agreement-more-s...</td>\n",
       "    </tr>\n",
       "    <tr>\n",
       "      <th>...</th>\n",
       "      <td>...</td>\n",
       "      <td>...</td>\n",
       "      <td>...</td>\n",
       "      <td>...</td>\n",
       "      <td>...</td>\n",
       "    </tr>\n",
       "    <tr>\n",
       "      <th>165</th>\n",
       "      <td>2024-01-29 12:00:00+00:00</td>\n",
       "      <td>Commission proposes to modernise river informa...</td>\n",
       "      <td>The Commission adopted a proposal to improve t...</td>\n",
       "      <td>News article</td>\n",
       "      <td>/news-events/news/commission-proposes-modernis...</td>\n",
       "    </tr>\n",
       "    <tr>\n",
       "      <th>166</th>\n",
       "      <td>2024-01-25 12:00:00+00:00</td>\n",
       "      <td>New report comparing air traffic management pe...</td>\n",
       "      <td>In the ongoing series of comparative reports b...</td>\n",
       "      <td>News article</td>\n",
       "      <td>/news-events/news/new-report-comparing-air-tra...</td>\n",
       "    </tr>\n",
       "    <tr>\n",
       "      <th>167</th>\n",
       "      <td>2024-01-25 12:00:00+00:00</td>\n",
       "      <td>STF: Call for applications for new sub-groups ...</td>\n",
       "      <td>Sustainable Transport Forum – new calls for ap...</td>\n",
       "      <td>News article</td>\n",
       "      <td>/news-events/news/stf-call-applications-new-su...</td>\n",
       "    </tr>\n",
       "    <tr>\n",
       "      <th>168</th>\n",
       "      <td>2024-01-24 12:00:00+00:00</td>\n",
       "      <td>Commission supports military mobility projects...</td>\n",
       "      <td>The Commission will fund 38 additional militar...</td>\n",
       "      <td>News article</td>\n",
       "      <td>/news-events/news/commission-supports-military...</td>\n",
       "    </tr>\n",
       "    <tr>\n",
       "      <th>169</th>\n",
       "      <td>2024-01-23 12:00:00+00:00</td>\n",
       "      <td>New deadline for the call for applications for...</td>\n",
       "      <td>Deadline for the call for applications for the...</td>\n",
       "      <td>News article</td>\n",
       "      <td>/news-events/news/new-deadline-call-applicatio...</td>\n",
       "    </tr>\n",
       "  </tbody>\n",
       "</table>\n",
       "<p>170 rows × 5 columns</p>\n",
       "</div>"
      ],
      "text/plain": [
       "                          date  \\\n",
       "0    2024-01-22 12:00:00+00:00   \n",
       "1    2024-01-19 12:00:00+00:00   \n",
       "2    2024-01-16 12:00:00+00:00   \n",
       "3    2023-12-21 12:00:00+00:00   \n",
       "4    2023-12-19 12:00:00+00:00   \n",
       "..                         ...   \n",
       "165  2024-01-29 12:00:00+00:00   \n",
       "166  2024-01-25 12:00:00+00:00   \n",
       "167  2024-01-25 12:00:00+00:00   \n",
       "168  2024-01-24 12:00:00+00:00   \n",
       "169  2024-01-23 12:00:00+00:00   \n",
       "\n",
       "                                                 title  \\\n",
       "0    Save the date: Global TBO Symposium (4-6 June ...   \n",
       "1    European Commission workshop addresses key cha...   \n",
       "2     “Europe for Aviation” teams up for Airspace W...   \n",
       "3        December Infringements package: key decisions   \n",
       "4    Provisional agreement on more sustainable and ...   \n",
       "..                                                 ...   \n",
       "165  Commission proposes to modernise river informa...   \n",
       "166  New report comparing air traffic management pe...   \n",
       "167  STF: Call for applications for new sub-groups ...   \n",
       "168  Commission supports military mobility projects...   \n",
       "169  New deadline for the call for applications for...   \n",
       "\n",
       "                                                  desc          type  \\\n",
       "0     Towards global trajectory-based operations (TBO)  News article   \n",
       "1    Decarbonisation, digitalisation, social securi...  News article   \n",
       "2    The “Europe for Aviation” partners, consisting...  News article   \n",
       "3        December Infringements package: key decisions  News article   \n",
       "4                                       TEN-T Trilogue  News article   \n",
       "..                                                 ...           ...   \n",
       "165  The Commission adopted a proposal to improve t...  News article   \n",
       "166  In the ongoing series of comparative reports b...  News article   \n",
       "167  Sustainable Transport Forum – new calls for ap...  News article   \n",
       "168  The Commission will fund 38 additional militar...  News article   \n",
       "169  Deadline for the call for applications for the...  News article   \n",
       "\n",
       "                                                  link  \n",
       "0    https://transport.ec.europa.eu/news-events/eve...  \n",
       "1    /news-events/news/european-commission-workshop...  \n",
       "2    /news-events/news/europe-aviation-teams-airspa...  \n",
       "3    https://ec.europa.eu/commission/presscorner/de...  \n",
       "4    /news-events/news/provisional-agreement-more-s...  \n",
       "..                                                 ...  \n",
       "165  /news-events/news/commission-proposes-modernis...  \n",
       "166  /news-events/news/new-report-comparing-air-tra...  \n",
       "167  /news-events/news/stf-call-applications-new-su...  \n",
       "168  /news-events/news/commission-supports-military...  \n",
       "169  /news-events/news/new-deadline-call-applicatio...  \n",
       "\n",
       "[170 rows x 5 columns]"
      ]
     },
     "execution_count": 47,
     "metadata": {},
     "output_type": "execute_result"
    }
   ],
   "source": [
    "news"
   ]
  },
  {
   "cell_type": "code",
   "execution_count": 48,
   "metadata": {
    "ExecuteTime": {
     "end_time": "2024-11-06T11:41:16.218471Z",
     "start_time": "2024-11-06T11:41:16.202205Z"
    }
   },
   "outputs": [],
   "source": [
    "news = news.sort_values(by=\"date\", ascending=False) # sort the rows by date"
   ]
  },
  {
   "cell_type": "code",
   "execution_count": 49,
   "metadata": {
    "ExecuteTime": {
     "end_time": "2024-11-06T11:41:18.447674Z",
     "start_time": "2024-11-06T11:41:18.426096Z"
    }
   },
   "outputs": [
    {
     "data": {
      "text/html": [
       "<div>\n",
       "<style scoped>\n",
       "    .dataframe tbody tr th:only-of-type {\n",
       "        vertical-align: middle;\n",
       "    }\n",
       "\n",
       "    .dataframe tbody tr th {\n",
       "        vertical-align: top;\n",
       "    }\n",
       "\n",
       "    .dataframe thead th {\n",
       "        text-align: right;\n",
       "    }\n",
       "</style>\n",
       "<table border=\"1\" class=\"dataframe\">\n",
       "  <thead>\n",
       "    <tr style=\"text-align: right;\">\n",
       "      <th></th>\n",
       "      <th>date</th>\n",
       "      <th>title</th>\n",
       "      <th>desc</th>\n",
       "      <th>type</th>\n",
       "      <th>link</th>\n",
       "    </tr>\n",
       "  </thead>\n",
       "  <tbody>\n",
       "    <tr>\n",
       "      <th>100</th>\n",
       "      <td>2024-10-02 12:00:00+00:00</td>\n",
       "      <td>Single European Sky: annual monitoring highlig...</td>\n",
       "      <td>The Performance Review Body (PRB) has publishe...</td>\n",
       "      <td>News article</td>\n",
       "      <td>/news-events/news/single-european-sky-annual-m...</td>\n",
       "    </tr>\n",
       "    <tr>\n",
       "      <th>101</th>\n",
       "      <td>2024-09-25 12:00:00+00:00</td>\n",
       "      <td>Commission seeks feedback on the Flight Emissi...</td>\n",
       "      <td>The Commission has launched a public consultat...</td>\n",
       "      <td>News article</td>\n",
       "      <td>/news-events/news/commission-seeks-feedback-fl...</td>\n",
       "    </tr>\n",
       "    <tr>\n",
       "      <th>102</th>\n",
       "      <td>2024-09-25 12:00:00+00:00</td>\n",
       "      <td>Women in Rail 2024 Award to boost female talen...</td>\n",
       "      <td>The Commission together with Europe’s Rail Joi...</td>\n",
       "      <td>News article</td>\n",
       "      <td>/news-events/news/women-rail-2024-award-boost-...</td>\n",
       "    </tr>\n",
       "    <tr>\n",
       "      <th>103</th>\n",
       "      <td>2024-09-24 12:00:00+00:00</td>\n",
       "      <td>CEF Transport: €2.5 billion to boost resilienc...</td>\n",
       "      <td>The 2024 CEF for Transport call for proposals ...</td>\n",
       "      <td>News article</td>\n",
       "      <td>/news-events/news/cef-transport-eu25-billion-b...</td>\n",
       "    </tr>\n",
       "    <tr>\n",
       "      <th>104</th>\n",
       "      <td>2024-09-23 12:00:00+00:00</td>\n",
       "      <td>Rail market opening: competition leads to lowe...</td>\n",
       "      <td>A study released by the European Commission hi...</td>\n",
       "      <td>News article</td>\n",
       "      <td>/news-events/news/rail-market-opening-competit...</td>\n",
       "    </tr>\n",
       "    <tr>\n",
       "      <th>...</th>\n",
       "      <td>...</td>\n",
       "      <td>...</td>\n",
       "      <td>...</td>\n",
       "      <td>...</td>\n",
       "      <td>...</td>\n",
       "    </tr>\n",
       "    <tr>\n",
       "      <th>95</th>\n",
       "      <td>2022-12-19 12:00:00+00:00</td>\n",
       "      <td>Future Mobility: €40 million EIB loan for Cabi...</td>\n",
       "      <td>The EIB is providing the Spanish multi-mobilit...</td>\n",
       "      <td>News article</td>\n",
       "      <td>/news-events/news/future-mobility-eu40-million...</td>\n",
       "    </tr>\n",
       "    <tr>\n",
       "      <th>96</th>\n",
       "      <td>2022-12-16 12:00:00+00:00</td>\n",
       "      <td>New shipping fuel standards to reduce sulphur ...</td>\n",
       "      <td>The Commission welcomes the agreement reached ...</td>\n",
       "      <td>News article</td>\n",
       "      <td>/news-events/news/new-shipping-fuel-standards-...</td>\n",
       "    </tr>\n",
       "    <tr>\n",
       "      <th>97</th>\n",
       "      <td>2022-12-15 12:00:00+00:00</td>\n",
       "      <td>Vacancy for one post of Seconded National Expe...</td>\n",
       "      <td>The deadline for applications is 31/01/2023 at...</td>\n",
       "      <td>News article</td>\n",
       "      <td>https://rail-research.europa.eu/about-europes-...</td>\n",
       "    </tr>\n",
       "    <tr>\n",
       "      <th>98</th>\n",
       "      <td>2022-12-09 12:00:00+00:00</td>\n",
       "      <td>EU-Ukraine Solidarity Lanes: Commission and EB...</td>\n",
       "      <td>The European Commission and the European Bank ...</td>\n",
       "      <td>News article</td>\n",
       "      <td>/news-events/news/eu-ukraine-solidarity-lanes-...</td>\n",
       "    </tr>\n",
       "    <tr>\n",
       "      <th>99</th>\n",
       "      <td>2022-12-08 12:00:00+00:00</td>\n",
       "      <td>Financing transport infrastructure in Ukraine ...</td>\n",
       "      <td>Speech by European Commissioner Adina Vălean</td>\n",
       "      <td>Speech</td>\n",
       "      <td>https://ec.europa.eu/commission/presscorner/de...</td>\n",
       "    </tr>\n",
       "  </tbody>\n",
       "</table>\n",
       "<p>170 rows × 5 columns</p>\n",
       "</div>"
      ],
      "text/plain": [
       "                          date  \\\n",
       "100  2024-10-02 12:00:00+00:00   \n",
       "101  2024-09-25 12:00:00+00:00   \n",
       "102  2024-09-25 12:00:00+00:00   \n",
       "103  2024-09-24 12:00:00+00:00   \n",
       "104  2024-09-23 12:00:00+00:00   \n",
       "..                         ...   \n",
       "95   2022-12-19 12:00:00+00:00   \n",
       "96   2022-12-16 12:00:00+00:00   \n",
       "97   2022-12-15 12:00:00+00:00   \n",
       "98   2022-12-09 12:00:00+00:00   \n",
       "99   2022-12-08 12:00:00+00:00   \n",
       "\n",
       "                                                 title  \\\n",
       "100  Single European Sky: annual monitoring highlig...   \n",
       "101  Commission seeks feedback on the Flight Emissi...   \n",
       "102  Women in Rail 2024 Award to boost female talen...   \n",
       "103  CEF Transport: €2.5 billion to boost resilienc...   \n",
       "104  Rail market opening: competition leads to lowe...   \n",
       "..                                                 ...   \n",
       "95   Future Mobility: €40 million EIB loan for Cabi...   \n",
       "96   New shipping fuel standards to reduce sulphur ...   \n",
       "97   Vacancy for one post of Seconded National Expe...   \n",
       "98   EU-Ukraine Solidarity Lanes: Commission and EB...   \n",
       "99   Financing transport infrastructure in Ukraine ...   \n",
       "\n",
       "                                                  desc          type  \\\n",
       "100  The Performance Review Body (PRB) has publishe...  News article   \n",
       "101  The Commission has launched a public consultat...  News article   \n",
       "102  The Commission together with Europe’s Rail Joi...  News article   \n",
       "103  The 2024 CEF for Transport call for proposals ...  News article   \n",
       "104  A study released by the European Commission hi...  News article   \n",
       "..                                                 ...           ...   \n",
       "95   The EIB is providing the Spanish multi-mobilit...  News article   \n",
       "96   The Commission welcomes the agreement reached ...  News article   \n",
       "97   The deadline for applications is 31/01/2023 at...  News article   \n",
       "98   The European Commission and the European Bank ...  News article   \n",
       "99        Speech by European Commissioner Adina Vălean        Speech   \n",
       "\n",
       "                                                  link  \n",
       "100  /news-events/news/single-european-sky-annual-m...  \n",
       "101  /news-events/news/commission-seeks-feedback-fl...  \n",
       "102  /news-events/news/women-rail-2024-award-boost-...  \n",
       "103  /news-events/news/cef-transport-eu25-billion-b...  \n",
       "104  /news-events/news/rail-market-opening-competit...  \n",
       "..                                                 ...  \n",
       "95   /news-events/news/future-mobility-eu40-million...  \n",
       "96   /news-events/news/new-shipping-fuel-standards-...  \n",
       "97   https://rail-research.europa.eu/about-europes-...  \n",
       "98   /news-events/news/eu-ukraine-solidarity-lanes-...  \n",
       "99   https://ec.europa.eu/commission/presscorner/de...  \n",
       "\n",
       "[170 rows x 5 columns]"
      ]
     },
     "execution_count": 49,
     "metadata": {},
     "output_type": "execute_result"
    }
   ],
   "source": [
    "news"
   ]
  },
  {
   "cell_type": "code",
   "execution_count": 50,
   "metadata": {
    "ExecuteTime": {
     "end_time": "2024-11-06T11:41:29.269217Z",
     "start_time": "2024-11-06T11:41:29.241910Z"
    }
   },
   "outputs": [
    {
     "data": {
      "text/html": [
       "<div>\n",
       "<style scoped>\n",
       "    .dataframe tbody tr th:only-of-type {\n",
       "        vertical-align: middle;\n",
       "    }\n",
       "\n",
       "    .dataframe tbody tr th {\n",
       "        vertical-align: top;\n",
       "    }\n",
       "\n",
       "    .dataframe thead th {\n",
       "        text-align: right;\n",
       "    }\n",
       "</style>\n",
       "<table border=\"1\" class=\"dataframe\">\n",
       "  <thead>\n",
       "    <tr style=\"text-align: right;\">\n",
       "      <th></th>\n",
       "      <th>date</th>\n",
       "      <th>title</th>\n",
       "      <th>desc</th>\n",
       "      <th>type</th>\n",
       "      <th>link</th>\n",
       "    </tr>\n",
       "  </thead>\n",
       "  <tbody>\n",
       "    <tr>\n",
       "      <th>100</th>\n",
       "      <td>2024-10-02 12:00:00+00:00</td>\n",
       "      <td>Single European Sky: annual monitoring highlig...</td>\n",
       "      <td>The Performance Review Body (PRB) has publishe...</td>\n",
       "      <td>News article</td>\n",
       "      <td>/news-events/news/single-european-sky-annual-m...</td>\n",
       "    </tr>\n",
       "    <tr>\n",
       "      <th>101</th>\n",
       "      <td>2024-09-25 12:00:00+00:00</td>\n",
       "      <td>Commission seeks feedback on the Flight Emissi...</td>\n",
       "      <td>The Commission has launched a public consultat...</td>\n",
       "      <td>News article</td>\n",
       "      <td>/news-events/news/commission-seeks-feedback-fl...</td>\n",
       "    </tr>\n",
       "    <tr>\n",
       "      <th>102</th>\n",
       "      <td>2024-09-25 12:00:00+00:00</td>\n",
       "      <td>Women in Rail 2024 Award to boost female talen...</td>\n",
       "      <td>The Commission together with Europe’s Rail Joi...</td>\n",
       "      <td>News article</td>\n",
       "      <td>/news-events/news/women-rail-2024-award-boost-...</td>\n",
       "    </tr>\n",
       "    <tr>\n",
       "      <th>103</th>\n",
       "      <td>2024-09-24 12:00:00+00:00</td>\n",
       "      <td>CEF Transport: €2.5 billion to boost resilienc...</td>\n",
       "      <td>The 2024 CEF for Transport call for proposals ...</td>\n",
       "      <td>News article</td>\n",
       "      <td>/news-events/news/cef-transport-eu25-billion-b...</td>\n",
       "    </tr>\n",
       "    <tr>\n",
       "      <th>104</th>\n",
       "      <td>2024-09-23 12:00:00+00:00</td>\n",
       "      <td>Rail market opening: competition leads to lowe...</td>\n",
       "      <td>A study released by the European Commission hi...</td>\n",
       "      <td>News article</td>\n",
       "      <td>/news-events/news/rail-market-opening-competit...</td>\n",
       "    </tr>\n",
       "    <tr>\n",
       "      <th>105</th>\n",
       "      <td>2024-09-20 12:00:00+00:00</td>\n",
       "      <td>Solidarity Lanes: Latest figures – August 2024</td>\n",
       "      <td>Latest figures on Ukrainian exports and import...</td>\n",
       "      <td>News article</td>\n",
       "      <td>/news-events/news/solidarity-lanes-latest-figu...</td>\n",
       "    </tr>\n",
       "    <tr>\n",
       "      <th>106</th>\n",
       "      <td>2024-09-16 12:00:00+00:00</td>\n",
       "      <td>European Mobility Week kicks off to promote sh...</td>\n",
       "      <td>The European Mobility Week, an annual event pr...</td>\n",
       "      <td>News article</td>\n",
       "      <td>/news-events/news/european-mobility-week-kicks...</td>\n",
       "    </tr>\n",
       "    <tr>\n",
       "      <th>107</th>\n",
       "      <td>2024-09-09 12:00:00+00:00</td>\n",
       "      <td>TEN-T Corridor Coordinators</td>\n",
       "      <td>Nine European Coordinators have been designate...</td>\n",
       "      <td>News article</td>\n",
       "      <td>/news-events/news/ten-t-corridor-coordinators-...</td>\n",
       "    </tr>\n",
       "    <tr>\n",
       "      <th>108</th>\n",
       "      <td>2024-08-29 12:00:00+00:00</td>\n",
       "      <td>Sustainable Transport Forum - new sub-groups o...</td>\n",
       "      <td>In the wake of the adoption of the new Alterna...</td>\n",
       "      <td>News article</td>\n",
       "      <td>/news-events/news/sustainable-transport-forum-...</td>\n",
       "    </tr>\n",
       "    <tr>\n",
       "      <th>109</th>\n",
       "      <td>2024-08-14 12:00:00+00:00</td>\n",
       "      <td>Solidarity Lanes: Latest figures – July 2024</td>\n",
       "      <td>Latest figures on Ukrainian exports and import...</td>\n",
       "      <td>News article</td>\n",
       "      <td>/news-events/news/solidarity-lanes-latest-figu...</td>\n",
       "    </tr>\n",
       "  </tbody>\n",
       "</table>\n",
       "</div>"
      ],
      "text/plain": [
       "                          date  \\\n",
       "100  2024-10-02 12:00:00+00:00   \n",
       "101  2024-09-25 12:00:00+00:00   \n",
       "102  2024-09-25 12:00:00+00:00   \n",
       "103  2024-09-24 12:00:00+00:00   \n",
       "104  2024-09-23 12:00:00+00:00   \n",
       "105  2024-09-20 12:00:00+00:00   \n",
       "106  2024-09-16 12:00:00+00:00   \n",
       "107  2024-09-09 12:00:00+00:00   \n",
       "108  2024-08-29 12:00:00+00:00   \n",
       "109  2024-08-14 12:00:00+00:00   \n",
       "\n",
       "                                                 title  \\\n",
       "100  Single European Sky: annual monitoring highlig...   \n",
       "101  Commission seeks feedback on the Flight Emissi...   \n",
       "102  Women in Rail 2024 Award to boost female talen...   \n",
       "103  CEF Transport: €2.5 billion to boost resilienc...   \n",
       "104  Rail market opening: competition leads to lowe...   \n",
       "105     Solidarity Lanes: Latest figures – August 2024   \n",
       "106  European Mobility Week kicks off to promote sh...   \n",
       "107                        TEN-T Corridor Coordinators   \n",
       "108  Sustainable Transport Forum - new sub-groups o...   \n",
       "109       Solidarity Lanes: Latest figures – July 2024   \n",
       "\n",
       "                                                  desc          type  \\\n",
       "100  The Performance Review Body (PRB) has publishe...  News article   \n",
       "101  The Commission has launched a public consultat...  News article   \n",
       "102  The Commission together with Europe’s Rail Joi...  News article   \n",
       "103  The 2024 CEF for Transport call for proposals ...  News article   \n",
       "104  A study released by the European Commission hi...  News article   \n",
       "105  Latest figures on Ukrainian exports and import...  News article   \n",
       "106  The European Mobility Week, an annual event pr...  News article   \n",
       "107  Nine European Coordinators have been designate...  News article   \n",
       "108  In the wake of the adoption of the new Alterna...  News article   \n",
       "109  Latest figures on Ukrainian exports and import...  News article   \n",
       "\n",
       "                                                  link  \n",
       "100  /news-events/news/single-european-sky-annual-m...  \n",
       "101  /news-events/news/commission-seeks-feedback-fl...  \n",
       "102  /news-events/news/women-rail-2024-award-boost-...  \n",
       "103  /news-events/news/cef-transport-eu25-billion-b...  \n",
       "104  /news-events/news/rail-market-opening-competit...  \n",
       "105  /news-events/news/solidarity-lanes-latest-figu...  \n",
       "106  /news-events/news/european-mobility-week-kicks...  \n",
       "107  /news-events/news/ten-t-corridor-coordinators-...  \n",
       "108  /news-events/news/sustainable-transport-forum-...  \n",
       "109  /news-events/news/solidarity-lanes-latest-figu...  "
      ]
     },
     "execution_count": 50,
     "metadata": {},
     "output_type": "execute_result"
    }
   ],
   "source": [
    "news.head(10)"
   ]
  },
  {
   "cell_type": "code",
   "execution_count": 51,
   "metadata": {
    "ExecuteTime": {
     "end_time": "2024-11-06T11:42:54.362562Z",
     "start_time": "2024-11-06T11:42:54.337636Z"
    }
   },
   "outputs": [],
   "source": [
    "news['date'] = pd.to_datetime(news['date']) # make sure the 'date' column is of datetime type\n",
    "news = news[news['date'].dt.year!=2022] # remove news from 2022"
   ]
  },
  {
   "cell_type": "code",
   "execution_count": 52,
   "metadata": {
    "ExecuteTime": {
     "end_time": "2024-11-06T11:42:57.157078Z",
     "start_time": "2024-11-06T11:42:57.137301Z"
    }
   },
   "outputs": [
    {
     "data": {
      "text/html": [
       "<div>\n",
       "<style scoped>\n",
       "    .dataframe tbody tr th:only-of-type {\n",
       "        vertical-align: middle;\n",
       "    }\n",
       "\n",
       "    .dataframe tbody tr th {\n",
       "        vertical-align: top;\n",
       "    }\n",
       "\n",
       "    .dataframe thead th {\n",
       "        text-align: right;\n",
       "    }\n",
       "</style>\n",
       "<table border=\"1\" class=\"dataframe\">\n",
       "  <thead>\n",
       "    <tr style=\"text-align: right;\">\n",
       "      <th></th>\n",
       "      <th>date</th>\n",
       "      <th>title</th>\n",
       "      <th>desc</th>\n",
       "      <th>type</th>\n",
       "      <th>link</th>\n",
       "    </tr>\n",
       "  </thead>\n",
       "  <tbody>\n",
       "    <tr>\n",
       "      <th>100</th>\n",
       "      <td>2024-10-02 12:00:00+00:00</td>\n",
       "      <td>Single European Sky: annual monitoring highlig...</td>\n",
       "      <td>The Performance Review Body (PRB) has publishe...</td>\n",
       "      <td>News article</td>\n",
       "      <td>/news-events/news/single-european-sky-annual-m...</td>\n",
       "    </tr>\n",
       "    <tr>\n",
       "      <th>101</th>\n",
       "      <td>2024-09-25 12:00:00+00:00</td>\n",
       "      <td>Commission seeks feedback on the Flight Emissi...</td>\n",
       "      <td>The Commission has launched a public consultat...</td>\n",
       "      <td>News article</td>\n",
       "      <td>/news-events/news/commission-seeks-feedback-fl...</td>\n",
       "    </tr>\n",
       "    <tr>\n",
       "      <th>102</th>\n",
       "      <td>2024-09-25 12:00:00+00:00</td>\n",
       "      <td>Women in Rail 2024 Award to boost female talen...</td>\n",
       "      <td>The Commission together with Europe’s Rail Joi...</td>\n",
       "      <td>News article</td>\n",
       "      <td>/news-events/news/women-rail-2024-award-boost-...</td>\n",
       "    </tr>\n",
       "    <tr>\n",
       "      <th>103</th>\n",
       "      <td>2024-09-24 12:00:00+00:00</td>\n",
       "      <td>CEF Transport: €2.5 billion to boost resilienc...</td>\n",
       "      <td>The 2024 CEF for Transport call for proposals ...</td>\n",
       "      <td>News article</td>\n",
       "      <td>/news-events/news/cef-transport-eu25-billion-b...</td>\n",
       "    </tr>\n",
       "    <tr>\n",
       "      <th>104</th>\n",
       "      <td>2024-09-23 12:00:00+00:00</td>\n",
       "      <td>Rail market opening: competition leads to lowe...</td>\n",
       "      <td>A study released by the European Commission hi...</td>\n",
       "      <td>News article</td>\n",
       "      <td>/news-events/news/rail-market-opening-competit...</td>\n",
       "    </tr>\n",
       "    <tr>\n",
       "      <th>...</th>\n",
       "      <td>...</td>\n",
       "      <td>...</td>\n",
       "      <td>...</td>\n",
       "      <td>...</td>\n",
       "      <td>...</td>\n",
       "    </tr>\n",
       "    <tr>\n",
       "      <th>86</th>\n",
       "      <td>2023-01-31 12:00:00+00:00</td>\n",
       "      <td>Stakeholder conference on mitigating the socia...</td>\n",
       "      <td>The Commission plans to issue a Recommendation...</td>\n",
       "      <td>News article</td>\n",
       "      <td>/news-events/news/stakeholder-conference-mitig...</td>\n",
       "    </tr>\n",
       "    <tr>\n",
       "      <th>88</th>\n",
       "      <td>2023-01-30 12:00:00+00:00</td>\n",
       "      <td>CINEA launches a new public dashboard covering...</td>\n",
       "      <td>The European Climate, Infrastructure and Envir...</td>\n",
       "      <td>News article</td>\n",
       "      <td>https://cinea.ec.europa.eu/news-events/news/ci...</td>\n",
       "    </tr>\n",
       "    <tr>\n",
       "      <th>89</th>\n",
       "      <td>2023-01-26 12:00:00+00:00</td>\n",
       "      <td>January Infringements package: key decisions</td>\n",
       "      <td>January Infringements package: key decisions</td>\n",
       "      <td>News article</td>\n",
       "      <td>https://ec.europa.eu/commission/presscorner/de...</td>\n",
       "    </tr>\n",
       "    <tr>\n",
       "      <th>90</th>\n",
       "      <td>2023-01-26 12:00:00+00:00</td>\n",
       "      <td>New EU rules on dedicated airspace for drones ...</td>\n",
       "      <td>As of today, EU rules establishing a dedicated...</td>\n",
       "      <td>News article</td>\n",
       "      <td>/news-events/news/new-eu-rules-dedicated-airsp...</td>\n",
       "    </tr>\n",
       "    <tr>\n",
       "      <th>91</th>\n",
       "      <td>2023-01-25 12:00:00+00:00</td>\n",
       "      <td>Factsheet: EU solidarity with Ukraine - latest...</td>\n",
       "      <td>EU solidarity with Ukraine - latest figures on...</td>\n",
       "      <td>News article</td>\n",
       "      <td>https://ec.europa.eu/commission/presscorner/de...</td>\n",
       "    </tr>\n",
       "  </tbody>\n",
       "</table>\n",
       "<p>162 rows × 5 columns</p>\n",
       "</div>"
      ],
      "text/plain": [
       "                         date  \\\n",
       "100 2024-10-02 12:00:00+00:00   \n",
       "101 2024-09-25 12:00:00+00:00   \n",
       "102 2024-09-25 12:00:00+00:00   \n",
       "103 2024-09-24 12:00:00+00:00   \n",
       "104 2024-09-23 12:00:00+00:00   \n",
       "..                        ...   \n",
       "86  2023-01-31 12:00:00+00:00   \n",
       "88  2023-01-30 12:00:00+00:00   \n",
       "89  2023-01-26 12:00:00+00:00   \n",
       "90  2023-01-26 12:00:00+00:00   \n",
       "91  2023-01-25 12:00:00+00:00   \n",
       "\n",
       "                                                 title  \\\n",
       "100  Single European Sky: annual monitoring highlig...   \n",
       "101  Commission seeks feedback on the Flight Emissi...   \n",
       "102  Women in Rail 2024 Award to boost female talen...   \n",
       "103  CEF Transport: €2.5 billion to boost resilienc...   \n",
       "104  Rail market opening: competition leads to lowe...   \n",
       "..                                                 ...   \n",
       "86   Stakeholder conference on mitigating the socia...   \n",
       "88   CINEA launches a new public dashboard covering...   \n",
       "89        January Infringements package: key decisions   \n",
       "90   New EU rules on dedicated airspace for drones ...   \n",
       "91   Factsheet: EU solidarity with Ukraine - latest...   \n",
       "\n",
       "                                                  desc          type  \\\n",
       "100  The Performance Review Body (PRB) has publishe...  News article   \n",
       "101  The Commission has launched a public consultat...  News article   \n",
       "102  The Commission together with Europe’s Rail Joi...  News article   \n",
       "103  The 2024 CEF for Transport call for proposals ...  News article   \n",
       "104  A study released by the European Commission hi...  News article   \n",
       "..                                                 ...           ...   \n",
       "86   The Commission plans to issue a Recommendation...  News article   \n",
       "88   The European Climate, Infrastructure and Envir...  News article   \n",
       "89        January Infringements package: key decisions  News article   \n",
       "90   As of today, EU rules establishing a dedicated...  News article   \n",
       "91   EU solidarity with Ukraine - latest figures on...  News article   \n",
       "\n",
       "                                                  link  \n",
       "100  /news-events/news/single-european-sky-annual-m...  \n",
       "101  /news-events/news/commission-seeks-feedback-fl...  \n",
       "102  /news-events/news/women-rail-2024-award-boost-...  \n",
       "103  /news-events/news/cef-transport-eu25-billion-b...  \n",
       "104  /news-events/news/rail-market-opening-competit...  \n",
       "..                                                 ...  \n",
       "86   /news-events/news/stakeholder-conference-mitig...  \n",
       "88   https://cinea.ec.europa.eu/news-events/news/ci...  \n",
       "89   https://ec.europa.eu/commission/presscorner/de...  \n",
       "90   /news-events/news/new-eu-rules-dedicated-airsp...  \n",
       "91   https://ec.europa.eu/commission/presscorner/de...  \n",
       "\n",
       "[162 rows x 5 columns]"
      ]
     },
     "execution_count": 52,
     "metadata": {},
     "output_type": "execute_result"
    }
   ],
   "source": [
    "news"
   ]
  },
  {
   "cell_type": "code",
   "execution_count": 53,
   "metadata": {
    "ExecuteTime": {
     "end_time": "2024-11-06T11:43:04.884596Z",
     "start_time": "2024-11-06T11:43:04.871221Z"
    }
   },
   "outputs": [
    {
     "data": {
      "text/plain": [
       "array(['News article', 'Press release', 'Supplementary information'],\n",
       "      dtype=object)"
      ]
     },
     "execution_count": 53,
     "metadata": {},
     "output_type": "execute_result"
    }
   ],
   "source": [
    "news.type.unique()"
   ]
  },
  {
   "cell_type": "code",
   "execution_count": 54,
   "metadata": {
    "ExecuteTime": {
     "end_time": "2024-11-06T11:43:22.611477Z",
     "start_time": "2024-11-06T11:43:22.587276Z"
    }
   },
   "outputs": [
    {
     "data": {
      "text/html": [
       "<div>\n",
       "<style scoped>\n",
       "    .dataframe tbody tr th:only-of-type {\n",
       "        vertical-align: middle;\n",
       "    }\n",
       "\n",
       "    .dataframe tbody tr th {\n",
       "        vertical-align: top;\n",
       "    }\n",
       "\n",
       "    .dataframe thead th {\n",
       "        text-align: right;\n",
       "    }\n",
       "</style>\n",
       "<table border=\"1\" class=\"dataframe\">\n",
       "  <thead>\n",
       "    <tr style=\"text-align: right;\">\n",
       "      <th></th>\n",
       "      <th>date</th>\n",
       "      <th>title</th>\n",
       "      <th>desc</th>\n",
       "      <th>type</th>\n",
       "      <th>link</th>\n",
       "    </tr>\n",
       "  </thead>\n",
       "  <tbody>\n",
       "    <tr>\n",
       "      <th>114</th>\n",
       "      <td>2024-07-22 12:00:00+00:00</td>\n",
       "      <td>Commission publishes new guidelines for more c...</td>\n",
       "      <td>While more citizens of the European Union are ...</td>\n",
       "      <td>Press release</td>\n",
       "      <td>/news-events/news/commission-publishes-new-gui...</td>\n",
       "    </tr>\n",
       "  </tbody>\n",
       "</table>\n",
       "</div>"
      ],
      "text/plain": [
       "                         date  \\\n",
       "114 2024-07-22 12:00:00+00:00   \n",
       "\n",
       "                                                 title  \\\n",
       "114  Commission publishes new guidelines for more c...   \n",
       "\n",
       "                                                  desc           type  \\\n",
       "114  While more citizens of the European Union are ...  Press release   \n",
       "\n",
       "                                                  link  \n",
       "114  /news-events/news/commission-publishes-new-gui...  "
      ]
     },
     "execution_count": 54,
     "metadata": {},
     "output_type": "execute_result"
    }
   ],
   "source": [
    "news[news.type==\"Press release\"]"
   ]
  },
  {
   "cell_type": "code",
   "execution_count": 55,
   "metadata": {
    "ExecuteTime": {
     "end_time": "2024-11-06T11:43:49.224125Z",
     "start_time": "2024-11-06T11:43:49.204802Z"
    }
   },
   "outputs": [
    {
     "data": {
      "text/html": [
       "<div>\n",
       "<style scoped>\n",
       "    .dataframe tbody tr th:only-of-type {\n",
       "        vertical-align: middle;\n",
       "    }\n",
       "\n",
       "    .dataframe tbody tr th {\n",
       "        vertical-align: top;\n",
       "    }\n",
       "\n",
       "    .dataframe thead th {\n",
       "        text-align: right;\n",
       "    }\n",
       "</style>\n",
       "<table border=\"1\" class=\"dataframe\">\n",
       "  <thead>\n",
       "    <tr style=\"text-align: right;\">\n",
       "      <th></th>\n",
       "      <th>date</th>\n",
       "      <th>title</th>\n",
       "      <th>desc</th>\n",
       "      <th>type</th>\n",
       "      <th>link</th>\n",
       "    </tr>\n",
       "  </thead>\n",
       "  <tbody>\n",
       "    <tr>\n",
       "      <th>23</th>\n",
       "      <td>2023-10-19 12:00:00+00:00</td>\n",
       "      <td>Q&amp;A – Assistance to passengers for flight disr...</td>\n",
       "      <td>Q&amp;A</td>\n",
       "      <td>Supplementary information</td>\n",
       "      <td>/news-events/news/qa-assistance-passengers-fli...</td>\n",
       "    </tr>\n",
       "  </tbody>\n",
       "</table>\n",
       "</div>"
      ],
      "text/plain": [
       "                        date  \\\n",
       "23 2023-10-19 12:00:00+00:00   \n",
       "\n",
       "                                                title desc  \\\n",
       "23  Q&A – Assistance to passengers for flight disr...  Q&A   \n",
       "\n",
       "                         type  \\\n",
       "23  Supplementary information   \n",
       "\n",
       "                                                 link  \n",
       "23  /news-events/news/qa-assistance-passengers-fli...  "
      ]
     },
     "execution_count": 55,
     "metadata": {},
     "output_type": "execute_result"
    }
   ],
   "source": [
    "news[news.type==\"Supplementary information\"]"
   ]
  },
  {
   "cell_type": "markdown",
   "metadata": {},
   "source": [
    "Let's only keep the news."
   ]
  },
  {
   "cell_type": "code",
   "execution_count": 56,
   "metadata": {
    "ExecuteTime": {
     "end_time": "2024-11-06T11:44:13.076924Z",
     "start_time": "2024-11-06T11:44:13.065505Z"
    }
   },
   "outputs": [],
   "source": [
    "news = news[news.type==\"News article\"]"
   ]
  },
  {
   "cell_type": "code",
   "execution_count": 57,
   "metadata": {
    "ExecuteTime": {
     "end_time": "2024-11-06T11:44:25.629796Z",
     "start_time": "2024-11-06T11:44:25.619566Z"
    }
   },
   "outputs": [],
   "source": [
    "news = news.reset_index(drop=True) # reset the index"
   ]
  },
  {
   "cell_type": "code",
   "execution_count": 58,
   "metadata": {
    "ExecuteTime": {
     "end_time": "2024-11-06T11:44:31.792451Z",
     "start_time": "2024-11-06T11:44:31.771306Z"
    }
   },
   "outputs": [
    {
     "data": {
      "text/html": [
       "<div>\n",
       "<style scoped>\n",
       "    .dataframe tbody tr th:only-of-type {\n",
       "        vertical-align: middle;\n",
       "    }\n",
       "\n",
       "    .dataframe tbody tr th {\n",
       "        vertical-align: top;\n",
       "    }\n",
       "\n",
       "    .dataframe thead th {\n",
       "        text-align: right;\n",
       "    }\n",
       "</style>\n",
       "<table border=\"1\" class=\"dataframe\">\n",
       "  <thead>\n",
       "    <tr style=\"text-align: right;\">\n",
       "      <th></th>\n",
       "      <th>date</th>\n",
       "      <th>title</th>\n",
       "      <th>desc</th>\n",
       "      <th>type</th>\n",
       "      <th>link</th>\n",
       "    </tr>\n",
       "  </thead>\n",
       "  <tbody>\n",
       "    <tr>\n",
       "      <th>0</th>\n",
       "      <td>2024-10-02 12:00:00+00:00</td>\n",
       "      <td>Single European Sky: annual monitoring highlig...</td>\n",
       "      <td>The Performance Review Body (PRB) has publishe...</td>\n",
       "      <td>News article</td>\n",
       "      <td>/news-events/news/single-european-sky-annual-m...</td>\n",
       "    </tr>\n",
       "    <tr>\n",
       "      <th>1</th>\n",
       "      <td>2024-09-25 12:00:00+00:00</td>\n",
       "      <td>Commission seeks feedback on the Flight Emissi...</td>\n",
       "      <td>The Commission has launched a public consultat...</td>\n",
       "      <td>News article</td>\n",
       "      <td>/news-events/news/commission-seeks-feedback-fl...</td>\n",
       "    </tr>\n",
       "    <tr>\n",
       "      <th>2</th>\n",
       "      <td>2024-09-25 12:00:00+00:00</td>\n",
       "      <td>Women in Rail 2024 Award to boost female talen...</td>\n",
       "      <td>The Commission together with Europe’s Rail Joi...</td>\n",
       "      <td>News article</td>\n",
       "      <td>/news-events/news/women-rail-2024-award-boost-...</td>\n",
       "    </tr>\n",
       "    <tr>\n",
       "      <th>3</th>\n",
       "      <td>2024-09-24 12:00:00+00:00</td>\n",
       "      <td>CEF Transport: €2.5 billion to boost resilienc...</td>\n",
       "      <td>The 2024 CEF for Transport call for proposals ...</td>\n",
       "      <td>News article</td>\n",
       "      <td>/news-events/news/cef-transport-eu25-billion-b...</td>\n",
       "    </tr>\n",
       "    <tr>\n",
       "      <th>4</th>\n",
       "      <td>2024-09-23 12:00:00+00:00</td>\n",
       "      <td>Rail market opening: competition leads to lowe...</td>\n",
       "      <td>A study released by the European Commission hi...</td>\n",
       "      <td>News article</td>\n",
       "      <td>/news-events/news/rail-market-opening-competit...</td>\n",
       "    </tr>\n",
       "    <tr>\n",
       "      <th>...</th>\n",
       "      <td>...</td>\n",
       "      <td>...</td>\n",
       "      <td>...</td>\n",
       "      <td>...</td>\n",
       "      <td>...</td>\n",
       "    </tr>\n",
       "    <tr>\n",
       "      <th>155</th>\n",
       "      <td>2023-01-31 12:00:00+00:00</td>\n",
       "      <td>Stakeholder conference on mitigating the socia...</td>\n",
       "      <td>The Commission plans to issue a Recommendation...</td>\n",
       "      <td>News article</td>\n",
       "      <td>/news-events/news/stakeholder-conference-mitig...</td>\n",
       "    </tr>\n",
       "    <tr>\n",
       "      <th>156</th>\n",
       "      <td>2023-01-30 12:00:00+00:00</td>\n",
       "      <td>CINEA launches a new public dashboard covering...</td>\n",
       "      <td>The European Climate, Infrastructure and Envir...</td>\n",
       "      <td>News article</td>\n",
       "      <td>https://cinea.ec.europa.eu/news-events/news/ci...</td>\n",
       "    </tr>\n",
       "    <tr>\n",
       "      <th>157</th>\n",
       "      <td>2023-01-26 12:00:00+00:00</td>\n",
       "      <td>January Infringements package: key decisions</td>\n",
       "      <td>January Infringements package: key decisions</td>\n",
       "      <td>News article</td>\n",
       "      <td>https://ec.europa.eu/commission/presscorner/de...</td>\n",
       "    </tr>\n",
       "    <tr>\n",
       "      <th>158</th>\n",
       "      <td>2023-01-26 12:00:00+00:00</td>\n",
       "      <td>New EU rules on dedicated airspace for drones ...</td>\n",
       "      <td>As of today, EU rules establishing a dedicated...</td>\n",
       "      <td>News article</td>\n",
       "      <td>/news-events/news/new-eu-rules-dedicated-airsp...</td>\n",
       "    </tr>\n",
       "    <tr>\n",
       "      <th>159</th>\n",
       "      <td>2023-01-25 12:00:00+00:00</td>\n",
       "      <td>Factsheet: EU solidarity with Ukraine - latest...</td>\n",
       "      <td>EU solidarity with Ukraine - latest figures on...</td>\n",
       "      <td>News article</td>\n",
       "      <td>https://ec.europa.eu/commission/presscorner/de...</td>\n",
       "    </tr>\n",
       "  </tbody>\n",
       "</table>\n",
       "<p>160 rows × 5 columns</p>\n",
       "</div>"
      ],
      "text/plain": [
       "                         date  \\\n",
       "0   2024-10-02 12:00:00+00:00   \n",
       "1   2024-09-25 12:00:00+00:00   \n",
       "2   2024-09-25 12:00:00+00:00   \n",
       "3   2024-09-24 12:00:00+00:00   \n",
       "4   2024-09-23 12:00:00+00:00   \n",
       "..                        ...   \n",
       "155 2023-01-31 12:00:00+00:00   \n",
       "156 2023-01-30 12:00:00+00:00   \n",
       "157 2023-01-26 12:00:00+00:00   \n",
       "158 2023-01-26 12:00:00+00:00   \n",
       "159 2023-01-25 12:00:00+00:00   \n",
       "\n",
       "                                                 title  \\\n",
       "0    Single European Sky: annual monitoring highlig...   \n",
       "1    Commission seeks feedback on the Flight Emissi...   \n",
       "2    Women in Rail 2024 Award to boost female talen...   \n",
       "3    CEF Transport: €2.5 billion to boost resilienc...   \n",
       "4    Rail market opening: competition leads to lowe...   \n",
       "..                                                 ...   \n",
       "155  Stakeholder conference on mitigating the socia...   \n",
       "156  CINEA launches a new public dashboard covering...   \n",
       "157       January Infringements package: key decisions   \n",
       "158  New EU rules on dedicated airspace for drones ...   \n",
       "159  Factsheet: EU solidarity with Ukraine - latest...   \n",
       "\n",
       "                                                  desc          type  \\\n",
       "0    The Performance Review Body (PRB) has publishe...  News article   \n",
       "1    The Commission has launched a public consultat...  News article   \n",
       "2    The Commission together with Europe’s Rail Joi...  News article   \n",
       "3    The 2024 CEF for Transport call for proposals ...  News article   \n",
       "4    A study released by the European Commission hi...  News article   \n",
       "..                                                 ...           ...   \n",
       "155  The Commission plans to issue a Recommendation...  News article   \n",
       "156  The European Climate, Infrastructure and Envir...  News article   \n",
       "157       January Infringements package: key decisions  News article   \n",
       "158  As of today, EU rules establishing a dedicated...  News article   \n",
       "159  EU solidarity with Ukraine - latest figures on...  News article   \n",
       "\n",
       "                                                  link  \n",
       "0    /news-events/news/single-european-sky-annual-m...  \n",
       "1    /news-events/news/commission-seeks-feedback-fl...  \n",
       "2    /news-events/news/women-rail-2024-award-boost-...  \n",
       "3    /news-events/news/cef-transport-eu25-billion-b...  \n",
       "4    /news-events/news/rail-market-opening-competit...  \n",
       "..                                                 ...  \n",
       "155  /news-events/news/stakeholder-conference-mitig...  \n",
       "156  https://cinea.ec.europa.eu/news-events/news/ci...  \n",
       "157  https://ec.europa.eu/commission/presscorner/de...  \n",
       "158  /news-events/news/new-eu-rules-dedicated-airsp...  \n",
       "159  https://ec.europa.eu/commission/presscorner/de...  \n",
       "\n",
       "[160 rows x 5 columns]"
      ]
     },
     "execution_count": 58,
     "metadata": {},
     "output_type": "execute_result"
    }
   ],
   "source": [
    "news"
   ]
  },
  {
   "cell_type": "code",
   "execution_count": 59,
   "metadata": {
    "ExecuteTime": {
     "end_time": "2024-11-06T11:45:36.052411Z",
     "start_time": "2024-11-06T11:45:36.029456Z"
    }
   },
   "outputs": [],
   "source": [
    "news = news[[\"date\", \"title\", \"desc\"]] # new df with selected columns"
   ]
  },
  {
   "cell_type": "code",
   "execution_count": 60,
   "metadata": {
    "ExecuteTime": {
     "end_time": "2024-11-06T11:45:38.764049Z",
     "start_time": "2024-11-06T11:45:38.746044Z"
    }
   },
   "outputs": [
    {
     "data": {
      "text/html": [
       "<div>\n",
       "<style scoped>\n",
       "    .dataframe tbody tr th:only-of-type {\n",
       "        vertical-align: middle;\n",
       "    }\n",
       "\n",
       "    .dataframe tbody tr th {\n",
       "        vertical-align: top;\n",
       "    }\n",
       "\n",
       "    .dataframe thead th {\n",
       "        text-align: right;\n",
       "    }\n",
       "</style>\n",
       "<table border=\"1\" class=\"dataframe\">\n",
       "  <thead>\n",
       "    <tr style=\"text-align: right;\">\n",
       "      <th></th>\n",
       "      <th>date</th>\n",
       "      <th>title</th>\n",
       "      <th>desc</th>\n",
       "    </tr>\n",
       "  </thead>\n",
       "  <tbody>\n",
       "    <tr>\n",
       "      <th>0</th>\n",
       "      <td>2024-10-02 12:00:00+00:00</td>\n",
       "      <td>Single European Sky: annual monitoring highlig...</td>\n",
       "      <td>The Performance Review Body (PRB) has publishe...</td>\n",
       "    </tr>\n",
       "    <tr>\n",
       "      <th>1</th>\n",
       "      <td>2024-09-25 12:00:00+00:00</td>\n",
       "      <td>Commission seeks feedback on the Flight Emissi...</td>\n",
       "      <td>The Commission has launched a public consultat...</td>\n",
       "    </tr>\n",
       "    <tr>\n",
       "      <th>2</th>\n",
       "      <td>2024-09-25 12:00:00+00:00</td>\n",
       "      <td>Women in Rail 2024 Award to boost female talen...</td>\n",
       "      <td>The Commission together with Europe’s Rail Joi...</td>\n",
       "    </tr>\n",
       "    <tr>\n",
       "      <th>3</th>\n",
       "      <td>2024-09-24 12:00:00+00:00</td>\n",
       "      <td>CEF Transport: €2.5 billion to boost resilienc...</td>\n",
       "      <td>The 2024 CEF for Transport call for proposals ...</td>\n",
       "    </tr>\n",
       "    <tr>\n",
       "      <th>4</th>\n",
       "      <td>2024-09-23 12:00:00+00:00</td>\n",
       "      <td>Rail market opening: competition leads to lowe...</td>\n",
       "      <td>A study released by the European Commission hi...</td>\n",
       "    </tr>\n",
       "    <tr>\n",
       "      <th>...</th>\n",
       "      <td>...</td>\n",
       "      <td>...</td>\n",
       "      <td>...</td>\n",
       "    </tr>\n",
       "    <tr>\n",
       "      <th>155</th>\n",
       "      <td>2023-01-31 12:00:00+00:00</td>\n",
       "      <td>Stakeholder conference on mitigating the socia...</td>\n",
       "      <td>The Commission plans to issue a Recommendation...</td>\n",
       "    </tr>\n",
       "    <tr>\n",
       "      <th>156</th>\n",
       "      <td>2023-01-30 12:00:00+00:00</td>\n",
       "      <td>CINEA launches a new public dashboard covering...</td>\n",
       "      <td>The European Climate, Infrastructure and Envir...</td>\n",
       "    </tr>\n",
       "    <tr>\n",
       "      <th>157</th>\n",
       "      <td>2023-01-26 12:00:00+00:00</td>\n",
       "      <td>January Infringements package: key decisions</td>\n",
       "      <td>January Infringements package: key decisions</td>\n",
       "    </tr>\n",
       "    <tr>\n",
       "      <th>158</th>\n",
       "      <td>2023-01-26 12:00:00+00:00</td>\n",
       "      <td>New EU rules on dedicated airspace for drones ...</td>\n",
       "      <td>As of today, EU rules establishing a dedicated...</td>\n",
       "    </tr>\n",
       "    <tr>\n",
       "      <th>159</th>\n",
       "      <td>2023-01-25 12:00:00+00:00</td>\n",
       "      <td>Factsheet: EU solidarity with Ukraine - latest...</td>\n",
       "      <td>EU solidarity with Ukraine - latest figures on...</td>\n",
       "    </tr>\n",
       "  </tbody>\n",
       "</table>\n",
       "<p>160 rows × 3 columns</p>\n",
       "</div>"
      ],
      "text/plain": [
       "                         date  \\\n",
       "0   2024-10-02 12:00:00+00:00   \n",
       "1   2024-09-25 12:00:00+00:00   \n",
       "2   2024-09-25 12:00:00+00:00   \n",
       "3   2024-09-24 12:00:00+00:00   \n",
       "4   2024-09-23 12:00:00+00:00   \n",
       "..                        ...   \n",
       "155 2023-01-31 12:00:00+00:00   \n",
       "156 2023-01-30 12:00:00+00:00   \n",
       "157 2023-01-26 12:00:00+00:00   \n",
       "158 2023-01-26 12:00:00+00:00   \n",
       "159 2023-01-25 12:00:00+00:00   \n",
       "\n",
       "                                                 title  \\\n",
       "0    Single European Sky: annual monitoring highlig...   \n",
       "1    Commission seeks feedback on the Flight Emissi...   \n",
       "2    Women in Rail 2024 Award to boost female talen...   \n",
       "3    CEF Transport: €2.5 billion to boost resilienc...   \n",
       "4    Rail market opening: competition leads to lowe...   \n",
       "..                                                 ...   \n",
       "155  Stakeholder conference on mitigating the socia...   \n",
       "156  CINEA launches a new public dashboard covering...   \n",
       "157       January Infringements package: key decisions   \n",
       "158  New EU rules on dedicated airspace for drones ...   \n",
       "159  Factsheet: EU solidarity with Ukraine - latest...   \n",
       "\n",
       "                                                  desc  \n",
       "0    The Performance Review Body (PRB) has publishe...  \n",
       "1    The Commission has launched a public consultat...  \n",
       "2    The Commission together with Europe’s Rail Joi...  \n",
       "3    The 2024 CEF for Transport call for proposals ...  \n",
       "4    A study released by the European Commission hi...  \n",
       "..                                                 ...  \n",
       "155  The Commission plans to issue a Recommendation...  \n",
       "156  The European Climate, Infrastructure and Envir...  \n",
       "157       January Infringements package: key decisions  \n",
       "158  As of today, EU rules establishing a dedicated...  \n",
       "159  EU solidarity with Ukraine - latest figures on...  \n",
       "\n",
       "[160 rows x 3 columns]"
      ]
     },
     "execution_count": 60,
     "metadata": {},
     "output_type": "execute_result"
    }
   ],
   "source": [
    "news"
   ]
  },
  {
   "cell_type": "code",
   "execution_count": 61,
   "metadata": {
    "ExecuteTime": {
     "end_time": "2024-11-06T11:46:36.821961Z",
     "start_time": "2024-11-06T11:46:36.801988Z"
    }
   },
   "outputs": [],
   "source": [
    "news.to_csv(\"news_clean.csv\", index=False) # save to csv"
   ]
  },
  {
   "cell_type": "markdown",
   "metadata": {},
   "source": [
    "&#x2753;**<font color=cornflowerblue>QUESTION: </font>** What are the common tasks involved in data wrangling?"
   ]
  },
  {
   "cell_type": "markdown",
   "metadata": {},
   "source": [
    "&#x270A; **<font color=firebrick>DO THIS: </font>** Here are two options to practice what we've learned and to further develop your data skills:\n",
    "\n",
    "1. Do some data wrangling on the data you scraped last week.\n",
    "2. Explore the existing `news_clean.csv` dataset. What research question can it answer? Using what methods/tools?\n",
    "\n",
    "Feel free to pick one task or do both. Have fun!"
   ]
  },
  {
   "cell_type": "code",
   "execution_count": null,
   "metadata": {
    "ExecuteTime": {
     "end_time": "2024-10-05T10:07:13.004543Z",
     "start_time": "2024-10-05T10:07:12.993255Z"
    }
   },
   "outputs": [],
   "source": [
    "# put your code here\n",
    "\n",
    "\n",
    "\n",
    "\n",
    "\n",
    "\n",
    "\n",
    "\n",
    "\n",
    "\n",
    "\n"
   ]
  },
  {
   "cell_type": "markdown",
   "metadata": {},
   "source": [
    "---------\n",
    "### Congratulations, we are done!\n",
    "\n",
    "This notebook is written by [Meng Cai](https://www.verkehr.tu-darmstadt.de/vv/das_institut_ivv/team_ivv/wissenschaftliche_mitarbeiter_doktoranden/meng_cai/standardseite_204.de.jsp), Technical University of Darmstadt. This work is licensed under a <a rel=\"license\" href=\"http://creativecommons.org/licenses/by-nc/4.0/\">Creative Commons Attribution-NonCommercial 4.0 International License</a>.\n",
    "<a rel=\"license\" href=\"http://creativecommons.org/licenses/by-nc/4.0/\"><img alt=\"Creative Commons License\" style=\"border-width:0\" src=\"https://i.creativecommons.org/l/by-nc/4.0/88x31.png\" /></a>"
   ]
  }
 ],
 "metadata": {
  "kernelspec": {
   "display_name": "Python 3 (ipykernel)",
   "language": "python",
   "name": "python3"
  },
  "language_info": {
   "codemirror_mode": {
    "name": "ipython",
    "version": 3
   },
   "file_extension": ".py",
   "mimetype": "text/x-python",
   "name": "python",
   "nbconvert_exporter": "python",
   "pygments_lexer": "ipython3",
   "version": "3.11.9"
  },
  "toc": {
   "base_numbering": 1,
   "nav_menu": {},
   "number_sections": false,
   "sideBar": true,
   "skip_h1_title": false,
   "title_cell": "Table of Contents",
   "title_sidebar": "Contents",
   "toc_cell": false,
   "toc_position": {},
   "toc_section_display": true,
   "toc_window_display": true
  },
  "varInspector": {
   "cols": {
    "lenName": 16,
    "lenType": 16,
    "lenVar": 40
   },
   "kernels_config": {
    "python": {
     "delete_cmd_postfix": "",
     "delete_cmd_prefix": "del ",
     "library": "var_list.py",
     "varRefreshCmd": "print(var_dic_list())"
    },
    "r": {
     "delete_cmd_postfix": ") ",
     "delete_cmd_prefix": "rm(",
     "library": "var_list.r",
     "varRefreshCmd": "cat(var_dic_list()) "
    }
   },
   "types_to_exclude": [
    "module",
    "function",
    "builtin_function_or_method",
    "instance",
    "_Feature"
   ],
   "window_display": false
  }
 },
 "nbformat": 4,
 "nbformat_minor": 4
}
